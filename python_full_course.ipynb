{
 "cells": [
  {
   "cell_type": "markdown",
   "id": "d41da0b0",
   "metadata": {},
   "source": [
    "# Python Full Course"
   ]
  },
  {
   "cell_type": "markdown",
   "id": "4f7788b0",
   "metadata": {},
   "source": [
    "## Basics"
   ]
  },
  {
   "cell_type": "markdown",
   "id": "2dfa715a",
   "metadata": {},
   "source": [
    "### History of Python\n",
    "\n",
    "Python was conceived in the late 1980s by [Guido van Rossum](https://twitter.com/gvanrossum/status/1017546023227424768). Guido was considered a `Benevolent dictator for life` (BDFL).\n",
    "\n",
    "![Guido](./docs/img/Guido_van_Rossum_OSCON_2006.jpg)\n",
    "\n",
    "Python 3.0 final was released on December 3rd, 2008.\n",
    "\n",
    "So please use python3 ;-) #nomorepython2\n",
    "\n",
    "Its name is based on the \"Monty Python\"."
   ]
  },
  {
   "cell_type": "markdown",
   "id": "063f0619",
   "metadata": {},
   "source": [
    "### What is Python\n",
    "\n",
    "Python is :\n",
    "- an interpreted language (in opposition to a compiled language)\n",
    "\n",
    "    > source code is converted into bytecode that is then executed\n",
    "\n",
    "- strongly typed\n",
    "\n",
    "    > can't perform operations inappropriate to the type, eg. in Python you can't add a number typed variable with a string typed variable\n",
    "\n",
    "  - [Wat Gary Bernhardt JS Takj 2012 - youtube.com](https://youtu.be/IINPQuAS6zs)\n",
    "\n",
    "- dynamically typed\n",
    "\n",
    "    > you can write `a = 2` and python will know that `a` is an Integer\n",
    "\n",
    "    > variables, parameters, and return values of a function can be any type. Also, the types of variables can change while the program runs.\n",
    "\n",
    "    > dynamic typing makes it easy to cause unexpected errors that you can only discover until the program runs (runtime).\n",
    "\n",
    "    - note : but python can now be statically typed through [`type hinting`](https://www.python.org/dev/peps/pep-0484/)\n",
    "\n",
    "- [see also](https://wiki.python.org/moin/Why%20is%20Python%20a%20dynamic%20language%20and%20also%20a%20strongly%20typed%20language)\n",
    "\n",
    "- garbage collected"
   ]
  },
  {
   "cell_type": "markdown",
   "id": "941c6509",
   "metadata": {},
   "source": [
    "What does Python looks like ?\n",
    "\n",
    "An example from [netflix](https://github.com/Netflix/dispatch).\n",
    "\n",
    "![netflix dispatch python code example](./docs/img/python_netflix_example.jpg)"
   ]
  },
  {
   "cell_type": "markdown",
   "id": "d67fbcda",
   "metadata": {},
   "source": [
    "### Why choose python then ?\n",
    "\n",
    "/!\\ opinions - be careful /!\\\n",
    "\n",
    "- sweet syntax\n",
    "- good standard library\n",
    "- big community\n",
    "- various profesionnal applications (IT, space, maths, IA, games...)\n",
    "- does the job\n",
    "\n",
    "#### \"Our clients\"\n",
    "\n",
    "- Google / Youtube\n",
    "- Vine (#rip)\n",
    "- Instagram\n",
    "- Reddit\n",
    "- Spotify\n",
    "- Netflix\n",
    "- NASA\n",
    "- Amazon\n",
    "- Every math teacher ever"
   ]
  },
  {
   "cell_type": "markdown",
   "id": "25741983",
   "metadata": {},
   "source": [
    "### ZEN of python\n",
    "\n",
    "A collection of 19 principles that influence the __conception__ and **usage** of the language.\n",
    "\n",
    "```plaintext\n",
    ">>> import this\n",
    "The Zen of Python, by Tim Peters\n",
    "\n",
    "Beautiful is better than ugly.\n",
    "Explicit is better than implicit.\n",
    "Simple is better than complex.\n",
    "Complex is better than complicated.\n",
    "Flat is better than nested.\n",
    "Sparse is better than dense.\n",
    "Readability counts.\n",
    "Special cases aren't special enough to break the rules.\n",
    "Although practicality beats purity.\n",
    "Errors should never pass silently.\n",
    "Unless explicitly silenced.\n",
    "In the face of ambiguity, refuse the temptation to guess.\n",
    "There should be one-- and preferably only one --obvious way to do it.\n",
    "Although that way may not be obvious at first unless you're Dutch.\n",
    "Now is better than never.\n",
    "Although never is often better than *right* now.\n",
    "If the implementation is hard to explain, it's a bad idea.\n",
    "If the implementation is easy to explain, it may be a good idea.\n",
    "Namespaces are one honking great idea -- let's do more of those!\n",
    "```"
   ]
  },
  {
   "cell_type": "markdown",
   "id": "7eff6588",
   "metadata": {},
   "source": [
    "### CPython\n",
    "\n",
    "[CPython](https://en.wikipedia.org/wiki/CPython) ? What is that ?\n",
    "\n",
    "> CPython is the reference implementation of the Python programming language. Written in C and Python, CPython is the default and most widely used implementation of the Python language.\n",
    "\n",
    "CPython can be defined as both an interpreter and a compiler as it compiles Python code into bytecode before interpreting it.\n"
   ]
  },
  {
   "cell_type": "markdown",
   "id": "c4e2812f",
   "metadata": {},
   "source": [
    "### mise-en-jambe\n",
    "\n",
    "écrire un programme `pseudo.py` qui vous demande votre pseudo et l'affiche verticalement\n",
    "\n",
    "exemple :\n",
    "\n",
    "```bash\n",
    "$ python3 pseudo.py\n",
    "Entrez votre pseudo: greg\n",
    "g\n",
    "r\n",
    "e\n",
    "g\n",
    "```\n",
    "\n",
    "<details>\n",
    "<summary>correction</summary>\n",
    "\n",
    "```python\n",
    "pseudo = input(\"please enter your pseudo ?\\n\")\n",
    "for l in pseudo:\n",
    "    print(l)\n",
    "\n",
    "```\n",
    "\n",
    "</details>"
   ]
  },
  {
   "cell_type": "markdown",
   "id": "cddace44",
   "metadata": {},
   "source": [
    "### Comments\n",
    "\n",
    "Single line comments start with a `#` : `# this is a comment`\n",
    "\n",
    "Multiline comments can be written using triple single-quotes `'''` or double-quotes `\"\"\"`.\n",
    "\n",
    "We usually use triple-quotes `\"\"\"` to write documentation, also called [docstrings](https://www.python.org/dev/peps/pep-0257/#id5).\n"
   ]
  },
  {
   "cell_type": "code",
   "execution_count": null,
   "id": "af1ea7c6",
   "metadata": {},
   "outputs": [],
   "source": [
    "# a single line comment\n",
    "username = \"greg\" # an in-line comment\n",
    "print(username)\n",
    "\n",
    "''' ok so this is\n",
    "    a multiline comment\n",
    "'''\n",
    "\n",
    "\"\"\" and this is\n",
    "    another one\n",
    "    dj khaled\n",
    "\"\"\""
   ]
  },
  {
   "cell_type": "code",
   "execution_count": null,
   "id": "edd0b0a1",
   "metadata": {},
   "outputs": [],
   "source": [
    "def print_it(text:str) -> None:\n",
    "    \"\"\"\n",
    "    print_it prints the given text\n",
    "\n",
    "    Args:\n",
    "        text (str): a text to be printed\n",
    "    \"\"\"\n",
    "    print(text)\n",
    "\n",
    "doc = \"\"\"a very long string with \"double quotes\" and 'single' quotes in it\"\"\"\n",
    "print_it(doc)"
   ]
  },
  {
   "cell_type": "markdown",
   "id": "e9f9ed10",
   "metadata": {},
   "source": [
    "### Variables\n",
    "\n",
    "You don't need to declare a variable before using it, nor its type.\n",
    "\n",
    "A variable [stores a piece of data](https://realpython.com/pointers-in-python/), and gives it a specific name.\n",
    "\n",
    "```python\n",
    "username = \"greg\"\n",
    "```\n",
    "\n",
    "#### Memory management\n",
    "\n",
    "- [example 1](https://pythontutor.com/render.html#code=users%20%3D%20%5B%22greg%22%5D%0Awaiting%20%3D%20%5B%22leo%22%5D%0Aall_users%20%3D%20%5Busers,%20waiting%5D%0Ausers.append%28%22bob%22%29&cumulative=true&curInstr=4&heapPrimitives=true&mode=display&origin=opt-frontend.js&py=3&rawInputLstJSON=%5B%5D&textReferences=false)\n",
    "- [example 2](https://pythontutor.com/render.html#code=a%20%3D%20%22yes%22%0Ab%20%3D%20%22no%22%0Al%20%3D%20%5Ba,b%5D%0Al.append%283%29&cumulative=true&curInstr=4&heapPrimitives=true&mode=display&origin=opt-frontend.js&py=3&rawInputLstJSON=%5B%5D&textReferences=false)\n",
    "\n",
    "#### Naming\n",
    "\n",
    "The name of a variable should use the `snake_case` convention.\n",
    "\n",
    "```python\n",
    "# wrong\n",
    "allTheHashes = ['abcedf123' ...]\n",
    "# right\n",
    "all_hashes = ['abcedf123' ...]\n",
    "```\n",
    "\n",
    "Reading a variable name should give you a hint about its meaning.\n",
    "\n",
    "```python\n",
    "# wrong\n",
    "a = \"https://myapi.heroku.com/api/v1/register\"\n",
    "# right\n",
    "register_url = \"https://myapi.heroku.com/api/v1/register\"\n",
    "```\n",
    "\n",
    "You should _not_ put the type of the variable in its name.\n",
    "\n",
    "```python\n",
    "# wrong\n",
    "list_of_username = [\"greg\", \"alex\"]\n",
    "# right\n",
    "usernames = [\"greg\", \"alex\"]\n",
    "```\n",
    "\n",
    "Finally, you should **NOT** use reserved keywords for a variable name (eg. `dict`, `from`)"
   ]
  },
  {
   "cell_type": "markdown",
   "id": "3dcdef9c",
   "metadata": {},
   "source": [
    "#### Primitive/native data types\n",
    "\n",
    "/!\\ even if it won't makes sense right now, remember that everything in python is an Object /!\\\n",
    "\n",
    "The most common types are :\n",
    "\n",
    "- numbers : integers ; floating point numbers (floats) ; complex\n",
    "- string\n",
    "- list\n",
    "- dict\n",
    "- tuple\n",
    "- boolean (bool) : `True` and `False`\n",
    "    - `None`, `0`, and empty strings/lists/dicts/tuples all evaluate to `False`\n",
    "\n",
    "but there's a lot of other _special_ ones :\n",
    "\n",
    "- iterators\n",
    "- range\n",
    "- bytes ; bytearray ; memoryview\n",
    "- frozenset\n",
    "\n",
    "remember when we said that everything in python is an object ? all these types are objects, represented by a class."
   ]
  },
  {
   "cell_type": "code",
   "execution_count": null,
   "id": "d3bfa6a9",
   "metadata": {},
   "outputs": [],
   "source": [
    "b = True\n",
    "print(type(b))\n",
    "i = 1\n",
    "print(type(i))"
   ]
  },
  {
   "cell_type": "markdown",
   "id": "c0471714",
   "metadata": {},
   "source": [
    "more about what's a `class` later ;-)\n",
    "\n",
    "Note : all native types are available [here](https://docs.python.org/fr/3.7/library/stdtypes.html)"
   ]
  },
  {
   "cell_type": "markdown",
   "id": "edde6730",
   "metadata": {},
   "source": [
    "#### Casting / converting a type to another one\n",
    "\n",
    "a variable can be converted to another type, for example :"
   ]
  },
  {
   "cell_type": "code",
   "execution_count": null,
   "id": "bf4960ae",
   "metadata": {},
   "outputs": [],
   "source": [
    "num = \"3\"\n",
    "print(type(num))\n",
    "num = int(num)\n",
    "print(type(num))"
   ]
  },
  {
   "cell_type": "markdown",
   "id": "df68efb5",
   "metadata": {},
   "source": [
    "For _custom_ types (classes that you designed), you will have to code the operations necessary to convert your class to another one."
   ]
  },
  {
   "cell_type": "markdown",
   "id": "aa54fc1b",
   "metadata": {},
   "source": [
    "#### Operators\n",
    "\n",
    "Python comes with a lot of operators that you can use and combine.\n",
    "\n",
    "You can use them with variables of the same type, and also with variables of different types.\n",
    "\n",
    "But be careful, some operations don't exist and will raise an Exception and crash your app."
   ]
  },
  {
   "cell_type": "code",
   "execution_count": null,
   "id": "7d19ea7b",
   "metadata": {},
   "outputs": [],
   "source": [
    "a = 1\n",
    "b = 2\n",
    "d = a / b # a division always gives a float even if the division is perfect\n",
    "print(type(d))"
   ]
  },
  {
   "cell_type": "code",
   "execution_count": null,
   "id": "12107ba8",
   "metadata": {},
   "outputs": [],
   "source": [
    "print(3 // 2) # euclidean division rounds down the result of the division"
   ]
  },
  {
   "cell_type": "code",
   "execution_count": null,
   "id": "a5868c90",
   "metadata": {},
   "outputs": [],
   "source": [
    "print(7 % 3) # modulo operator"
   ]
  },
  {
   "cell_type": "code",
   "execution_count": null,
   "id": "339585f5",
   "metadata": {},
   "outputs": [],
   "source": [
    "print(2 ** 6) # exponential operator (also called power)"
   ]
  },
  {
   "cell_type": "code",
   "execution_count": null,
   "id": "f1e3a1ae",
   "metadata": {},
   "outputs": [],
   "source": [
    "c = a + b\n",
    "c += 1 # equivalent to c = c + 1 # not all languages have this notation\n",
    "print(c)"
   ]
  },
  {
   "cell_type": "code",
   "execution_count": null,
   "id": "9092f5c9",
   "metadata": {},
   "outputs": [],
   "source": [
    "s = \"username\"\n",
    "p = \"greg\"\n",
    "print(s + \": \" + p)"
   ]
  },
  {
   "cell_type": "code",
   "execution_count": null,
   "id": "ffe9d73e",
   "metadata": {},
   "outputs": [],
   "source": [
    "o = p * 3\n",
    "print(o)"
   ]
  },
  {
   "cell_type": "code",
   "execution_count": null,
   "id": "f89e3310",
   "metadata": {},
   "outputs": [],
   "source": [
    "l = [1,2,3]\n",
    "ll = l * 2\n",
    "print(ll)"
   ]
  },
  {
   "cell_type": "code",
   "execution_count": null,
   "id": "2c130bb8",
   "metadata": {},
   "outputs": [],
   "source": [
    "lll = l + ll\n",
    "print(lll)"
   ]
  },
  {
   "cell_type": "code",
   "execution_count": null,
   "id": "298b91f2",
   "metadata": {},
   "outputs": [],
   "source": [
    "# boolean operators\n",
    "print(a == b)\n",
    "print(a != b)"
   ]
  },
  {
   "cell_type": "code",
   "execution_count": null,
   "id": "5a1dc131",
   "metadata": {},
   "outputs": [],
   "source": [
    "a = not True # negation operation\n",
    "print(a)"
   ]
  },
  {
   "cell_type": "code",
   "execution_count": null,
   "id": "782652da",
   "metadata": {},
   "outputs": [],
   "source": [
    "# python let's you chain operators nicely for example for range\n",
    "1 == 1 and 2 == 2 or 2 != 3"
   ]
  },
  {
   "cell_type": "code",
   "execution_count": null,
   "id": "2a407bb2",
   "metadata": {},
   "outputs": [],
   "source": [
    "1 < 2 < 3"
   ]
  },
  {
   "cell_type": "markdown",
   "id": "5f45034a",
   "metadata": {},
   "source": [
    "#### `is` keyword\n",
    "\n",
    "`is` keyword can be a little confusing and can lead to error later if not properly used.\n",
    "\n",
    "`is` checks that two variables refer to the same `object` (memory address).\n",
    "\n",
    "`==` checks if two `objects` have the same `value`.\n",
    "\n",
    "See the difference here ?"
   ]
  },
  {
   "cell_type": "code",
   "execution_count": null,
   "id": "e1dbb462",
   "metadata": {},
   "outputs": [],
   "source": [
    "a = [1, 2, 3, 4]\n",
    "b = a # make `b` points to the same 'place' as `a`\n",
    "b is a\n",
    "print(id(a), \"!=\", id(b))"
   ]
  },
  {
   "cell_type": "code",
   "execution_count": null,
   "id": "e5a044b2",
   "metadata": {},
   "outputs": [],
   "source": [
    "b = [1, 2, 3, 4]  # re-use `b` to create a new list\n",
    "b is a"
   ]
  },
  {
   "cell_type": "markdown",
   "id": "acd85239",
   "metadata": {},
   "source": [
    "even if the two lists have the same values, they dont have the same address"
   ]
  },
  {
   "cell_type": "code",
   "execution_count": null,
   "id": "88e5a48b",
   "metadata": {},
   "outputs": [],
   "source": [
    "b == a"
   ]
  },
  {
   "cell_type": "markdown",
   "id": "d0655ecb",
   "metadata": {},
   "source": [
    "We can dig deeper with the help of the `id` function, which returns the memory address of an object."
   ]
  },
  {
   "cell_type": "code",
   "execution_count": null,
   "id": "56d50b67",
   "metadata": {},
   "outputs": [],
   "source": [
    "print(id(a), '!=', id(b))"
   ]
  },
  {
   "cell_type": "markdown",
   "id": "18f09170",
   "metadata": {},
   "source": [
    "#### None\n",
    "\n",
    "`None` is an object. Always use `is` to compare a variable to `None`."
   ]
  },
  {
   "cell_type": "markdown",
   "id": "011a243a",
   "metadata": {},
   "source": [
    "#### Mutability\n",
    "\n",
    "some `sequences` (`tuples` and `strings` for example) are `immutable` which means that you can't edit them after creation."
   ]
  },
  {
   "cell_type": "code",
   "execution_count": null,
   "id": "e25795b6",
   "metadata": {},
   "outputs": [],
   "source": [
    "s = \"hello\"\n",
    "s[0] = \"a\""
   ]
  },
  {
   "cell_type": "code",
   "execution_count": null,
   "id": "dcaa6d68",
   "metadata": {},
   "outputs": [],
   "source": [
    "t = (1, 2, 3)\n",
    "t[0] = 4"
   ]
  },
  {
   "cell_type": "markdown",
   "id": "f89879c4",
   "metadata": {},
   "source": [
    "If you wan't to edit them, you need to reassign them."
   ]
  },
  {
   "cell_type": "code",
   "execution_count": null,
   "id": "664a5bc8",
   "metadata": {},
   "outputs": [],
   "source": [
    "s = \"hello\"\n",
    "s = s + \" \" + \"greg\"\n",
    "print(s)"
   ]
  },
  {
   "cell_type": "markdown",
   "id": "e64bcf12",
   "metadata": {},
   "source": [
    "#### Type hinting\n",
    "\n",
    "Python’s type hints ([PEP 484](https://www.python.org/dev/peps/pep-0484/)) provide you with optional static typing to leverage the best of both static and dynamic typing."
   ]
  },
  {
   "cell_type": "code",
   "execution_count": null,
   "id": "a7f443c7",
   "metadata": {},
   "outputs": [],
   "source": [
    "def add_three(i):\n",
    "    res = i + 3\n",
    "    return res\n",
    "\n",
    "y = add_three(4)\n",
    "print(y)\n",
    "z = add_three(\"ok\")"
   ]
  },
  {
   "cell_type": "code",
   "execution_count": null,
   "id": "d56b8e35",
   "metadata": {},
   "outputs": [],
   "source": [
    "def add_three(i:int) -> int:\n",
    "    res = i + 3\n",
    "    return res\n",
    "\n",
    "y = add_three(\"ok\")"
   ]
  },
  {
   "cell_type": "markdown",
   "id": "509aeb14",
   "metadata": {},
   "source": [
    "### Functions (intro)\n",
    "\n",
    "#### functions vs procedure\n",
    "\n",
    "A function returns a value and a procedure just executes commands.\n",
    "\n",
    "The name `function` comes from math. It is used to calculate a value based on input.\n",
    "\n",
    "A procedure is a set of commands which can be executed in order.\n",
    "\n",
    "In most programming languages, even functions can have a set of commands. Hence the difference is only returning a value.\n",
    "\n",
    "<details>\n",
    "<summary>QUESTION : how can we declare a procedure in Python ?</summary>\n",
    "\n",
    "- we can't (lol). Procedures don't exist in Python. If a function doesn't have a `return` statement in Python, it returns `None`.\n",
    "\n",
    "</details>\n"
   ]
  },
  {
   "cell_type": "code",
   "execution_count": null,
   "id": "76538756",
   "metadata": {},
   "outputs": [],
   "source": [
    "def print_it(text: str):\n",
    "    print(text)\n",
    "\n",
    "res = print_it(\"test\")\n",
    "type(res)"
   ]
  },
  {
   "cell_type": "markdown",
   "id": "4b052ca3",
   "metadata": {},
   "source": [
    "#### Multi return\n",
    "\n",
    "In C, you can only return one value. In python you can return multiple values. \n",
    "\n",
    "But ... if the most popular implementation of Python is in C (remember CPython), how did they do it ?\n",
    "\n",
    "Let's take a look at the following code :"
   ]
  },
  {
   "cell_type": "code",
   "execution_count": 3,
   "id": "0fd37612",
   "metadata": {},
   "outputs": [
    {
     "data": {
      "text/plain": [
       "tuple"
      ]
     },
     "execution_count": 3,
     "metadata": {},
     "output_type": "execute_result"
    }
   ],
   "source": [
    "def give_numbers():\n",
    "    return \"ok\", 44, [3,4]\n",
    "\n",
    "res = give_numbers()\n",
    "type(res)"
   ]
  },
  {
   "cell_type": "markdown",
   "id": "90c84031",
   "metadata": {},
   "source": [
    "In fact, when you return multiple values, in reality, a `Tuple` object is created (reminder: a tuple is like an immutable list object).\n",
    "\n",
    "We can also choose to `unpack` those values in different variables if we need to."
   ]
  },
  {
   "cell_type": "code",
   "execution_count": 4,
   "id": "0926cf7b",
   "metadata": {},
   "outputs": [
    {
     "name": "stdout",
     "output_type": "stream",
     "text": [
      "<class 'int'>\n",
      "<class 'list'>\n"
     ]
    }
   ],
   "source": [
    "def give_numbers():\n",
    "    return 1, 2, 3, 4\n",
    "\n",
    "a, b, c, d = give_numbers()\n",
    "print(type(a))\n",
    "\n",
    "a, *b, c = give_numbers()\n",
    "print(type(b))"
   ]
  },
  {
   "cell_type": "markdown",
   "id": "b6d1307e",
   "metadata": {},
   "source": [
    "#### declaration\n",
    "\n",
    "A function is declared via the keywork `def` then the name of the function (follow the `snake_case` naming convention please), followed by its argument(s) between parentheses (they can be positional or keywords), eventually their types and the type of the return of the function.\n",
    "\n",
    "Note : there is **no** correlation between the name of the variable inside the function and the name of the variable that you need to give during the function call.\n",
    "\n",
    "The following `concat` function expects a string as an argument, this string will then be named `text` inside the function only."
   ]
  },
  {
   "cell_type": "code",
   "execution_count": null,
   "id": "e1407d8a",
   "metadata": {},
   "outputs": [],
   "source": [
    "def concat(text: str, separator: str = \"\\n\") -> str:\n",
    "    end = text + separator\n",
    "    return end"
   ]
  },
  {
   "cell_type": "markdown",
   "id": "46fdbb7f",
   "metadata": {},
   "source": [
    "We can then call this function, by using positional arguments :"
   ]
  },
  {
   "cell_type": "code",
   "execution_count": null,
   "id": "3820139a",
   "metadata": {},
   "outputs": [],
   "source": [
    "lorem_ipsum = \"lorem ipsum dolor sit amet\"\n",
    "res = concat(lorem_ipsum)"
   ]
  },
  {
   "cell_type": "markdown",
   "id": "2d7de904",
   "metadata": {},
   "source": [
    "or we can call this function by naming its arguments :"
   ]
  },
  {
   "cell_type": "code",
   "execution_count": null,
   "id": "b1318869",
   "metadata": {},
   "outputs": [],
   "source": [
    "lorem_ipsum = \"lorem ipsum dolor sit amet\"\n",
    "res = concat(text=lorem_ipsum, separator=\"x\")\n",
    "res = concat(separator=\"x\", text=lorem_ipsum)"
   ]
  },
  {
   "cell_type": "markdown",
   "id": "1943404e",
   "metadata": {},
   "source": [
    "QUIZZ :\n",
    "\n",
    "what would the call of the following function looks like ?\n",
    "\n",
    "```python\n",
    "def analyze_twitter_account(username):\n",
    "    verified = False\n",
    "    timezone = “Europe/Paris”\n",
    "    numtweets_yesterday = 50\n",
    "    return verified, timezone, numtweets\n",
    "```\n",
    "\n",
    "<details>\n",
    "<summary>correction</summary>\n",
    "\n",
    "```python\n",
    "obama = \"@obama\"\n",
    "a, b, c = analyze_twitter_account(obama)\n",
    "```\n",
    "\n",
    "</details>"
   ]
  },
  {
   "cell_type": "markdown",
   "id": "e5364b76",
   "metadata": {},
   "source": [
    "#### Default arguments\n",
    "\n",
    "A function can have multiple arguments with a default value already set.\n",
    "\n",
    "This allows you to design your function both for `casual` usage and `advanced` usage."
   ]
  },
  {
   "cell_type": "code",
   "execution_count": null,
   "id": "b39b99ce",
   "metadata": {},
   "outputs": [],
   "source": [
    "def print_and_concat(text: str, end:str = \"!!!\") -> str:\n",
    "    a = 1\n",
    "    a: int = get_a_random_number()\n",
    "    newline = text + end\n",
    "    print(newline)\n",
    "    return newline\n",
    "\n",
    "print_and_concat(\"hello\")\n",
    "print_and_concat(text=\"hello\")\n",
    "print_and_concat(\"hello\", \"???\")\n",
    "print_and_concat(\"hello\", end=\"???\")\n",
    "print_and_concat(text=\"hello\", end=\"???\")"
   ]
  },
  {
   "cell_type": "markdown",
   "id": "26d33692",
   "metadata": {},
   "source": [
    "But you can't use keywords arguments any way you want."
   ]
  },
  {
   "cell_type": "code",
   "execution_count": null,
   "id": "a4aec31b",
   "metadata": {},
   "outputs": [],
   "source": [
    "print_and_concat(text=\"hello\", \"???\")"
   ]
  },
  {
   "cell_type": "markdown",
   "id": "a894ec20",
   "metadata": {},
   "source": [
    "##### Be careful of default mutable arguments\n",
    "\n",
    "Be careful when using default mutable arguments ...\n",
    "\n",
    "Can you feel what's gonna be wrong with the follo code ?\n",
    "\n",
    "- visualize memory here : <https://pythontutor.com/render.html#code=def%20oops%28l%20%3D%20%5B%5D%29%3A%0A%20%20%20%20l.append%28%22ok%22%29%0A%20%20%20%20return%20l%0A%0Aprint%28oops%28%29%29%0Aprint%28oops%28%29%29&cumulative=true&curInstr=11&heapPrimitives=true&mode=display&origin=opt-frontend.js&py=3&rawInputLstJSON=%5B%5D&textReferences=false>\n"
   ]
  },
  {
   "cell_type": "code",
   "execution_count": 5,
   "id": "4bf4104f",
   "metadata": {},
   "outputs": [
    {
     "name": "stdout",
     "output_type": "stream",
     "text": [
      "test\n",
      "['ok']\n"
     ]
    }
   ],
   "source": [
    "def oops(text, l = []):\n",
    "    print(text)\n",
    "    l.append(\"ok\")\n",
    "    return l\n",
    "\n",
    "res = oops(\"test\")\n",
    "print(res)"
   ]
  },
  {
   "cell_type": "code",
   "execution_count": 6,
   "id": "b90eed30",
   "metadata": {},
   "outputs": [
    {
     "name": "stdout",
     "output_type": "stream",
     "text": [
      "test\n",
      "['ok', 'ok']\n"
     ]
    }
   ],
   "source": [
    "abc = oops(\"test\")\n",
    "print(abc)"
   ]
  },
  {
   "cell_type": "markdown",
   "id": "b551dba3",
   "metadata": {},
   "source": [
    "<details>\n",
    "<summary>QUIZZ : why is this code wrong ?</summary>\n",
    "\n",
    "- because the default argument is mutated anytime that value is mutated !\n",
    "\n",
    "</details>"
   ]
  },
  {
   "cell_type": "markdown",
   "id": "05f3b826",
   "metadata": {},
   "source": [
    "You can prevent this behaviour by setting the default argument to `None`."
   ]
  },
  {
   "cell_type": "code",
   "execution_count": null,
   "id": "6d337875",
   "metadata": {},
   "outputs": [
    {
     "name": "stdout",
     "output_type": "stream",
     "text": [
      "test\n",
      "['ok']\n",
      "test\n",
      "['ok']\n"
     ]
    }
   ],
   "source": [
    "def oops(text, l : None | list[str] = None):\n",
    "    print(text)\n",
    "    if l is None:\n",
    "        l = []\n",
    "    l.append(\"ok\")\n",
    "    return l\n",
    "\n",
    "res1 = oops(\"test\")\n",
    "print(res)\n",
    "res2 = oops(\"test\")\n",
    "print(res)"
   ]
  },
  {
   "cell_type": "code",
   "execution_count": null,
   "id": "0262f7db",
   "metadata": {},
   "outputs": [],
   "source": [
    "def oops(text, l = None):\n",
    "    print(text)\n",
    "    l = l or [] # be aware that this will also work if l == False and l == 0\n",
    "    l.append(\"ok\")\n",
    "    return l\n",
    "\n",
    "mal = []\n",
    "a = oops(\"ok\", mal)"
   ]
  },
  {
   "cell_type": "markdown",
   "id": "912158c0",
   "metadata": {},
   "source": [
    "This feature of Python is so nasty that the [PEP 505](https://peps.python.org/pep-0505/#syntax-and-semantics) was submitted to create a new operator `??=`.\n",
    "\n",
    "This operator would replace a `if ... is None`.\n",
    "\n",
    "```python\n",
    "def oops(text, l = None):\n",
    "    print(text)\n",
    "    l ??= []\n",
    "    l.append(\"ok\")\n",
    "    return l\n",
    "```\n",
    "\n",
    "Fun debugging times :<"
   ]
  },
  {
   "cell_type": "markdown",
   "id": "d4d91a3c",
   "metadata": {},
   "source": [
    "#### Signature\n",
    "\n",
    "The signature of a function is the list of its arguments and their types + the return type.\n",
    "\n",
    "Here, the function `f` takes one argument that is a `string` and returns `None`. The argument will be named `text` in the function.\n",
    "\n",
    "<details>\n",
    "<summary>QUIZZ : find the signature of the built-in `print` function</summary>\n",
    "\n",
    "- use the `help` function :\n",
    "\n",
    "```python\n",
    ">>> help(print)\n",
    "Help on built-in function print in module builtins:\n",
    "\n",
    "print(...)\n",
    "    print(value, ..., sep=' ', end='\\n', file=sys.stdout, flush=False)\n",
    "\n",
    "    Prints the values to a stream, or to sys.stdout by default.\n",
    "    Optional keyword arguments:\n",
    "    file:  a file-like object (stream); defaults to the current sys.stdout.\n",
    "    sep:   string inserted between values, default a space.\n",
    "    end:   string appended after the last value, default a newline.\n",
    "    flush: whether to forcibly flush the stream.\n",
    "```\n",
    "\n",
    "</details>"
   ]
  },
  {
   "cell_type": "markdown",
   "id": "9bd07197",
   "metadata": {},
   "source": [
    "#### LGI\n",
    "\n",
    "When Python encounters a variable, it first looks if this variable is `local` to the function.\n",
    "\n",
    "```python\n",
    "def print_it(text:str):\n",
    "    res = text + \"\\n\"\n",
    "    return res\n",
    "```\n",
    "\n",
    "In this example, when the line `res = text + \"\\n\"` will be interpreted, python will try to find the `text` variable. Here `text` is defined in the function so it is a `local` variable.\n",
    "\n",
    "If this variable is not found locally, python will then look for it `globally`.\n",
    "\n",
    "```python\n",
    "lines = []\n",
    "def add_to_lines(text:str):\n",
    "    lines.append(text)\n",
    "```\n",
    "\n",
    "Here when the `lines.append(text)` will be interpreted, the `lines` variable won't be found locally, but is defined before the definition of the function and so is accessible inside the function. `lines` is a defined as a `global` variable in this case.\n",
    "\n",
    "Finally, if a variable is not local nor global, python will search `internally` if it is one of its own variable."
   ]
  },
  {
   "cell_type": "markdown",
   "id": "1b058259",
   "metadata": {},
   "source": [
    "#### Good Naming\n",
    "\n",
    "Imagine that you're reading this line of code :\n",
    "\n",
    "`ts(\"obama\", False, 20, True)`\n",
    "\n",
    "What about this ?\n",
    "\n",
    "\n",
    "\n",
    "\n",
    "\n",
    "\n",
    "\n",
    "\n",
    "```python\n",
    "# we query twitter to get the last 20 tweets of obama without retweets, unicode encoded\n",
    "ts(\"obama\", False, 20, True)\n",
    "```\n",
    "\n",
    "Is the comment really necessary ?"
   ]
  },
  {
   "cell_type": "markdown",
   "id": "c24a6275",
   "metadata": {},
   "source": [
    "How about this ?\n",
    "\n",
    "`twitter_search(username=‘@obama’, retweets=False, numtweets=20, unicode=True)`\n",
    "\n",
    "Much better :-) All we had to do is rename the function and rename + use keywords arguments.\n",
    "\n",
    "Your code shouldn't need comment to explain this kind of behaviour.\n",
    "\n",
    "This kind of code modification is called a `refactoring`."
   ]
  },
  {
   "cell_type": "markdown",
   "id": "201b561b",
   "metadata": {},
   "source": [
    "#### Famous Acronyms\n",
    "\n",
    "TODO bouger cette partie\n",
    "\n",
    "One of the many times those terms will be mentioned in this course.\n",
    "\n",
    "`DRY` means `Don't Repeat Yourself`. Don't write the same stuff in multiple places, or you will have to keep them synchronized at every change.\n",
    "\n",
    "`YAGNI` means `You Aren't Gonna Need It`. Complexity introduced in order to solve a possible future problem that you won't necessarily have.\n",
    "\n",
    "`KISS` means `Keep It Simple, Stupid` (the last word is actually an insult, but yeah). Avoiding unnecessary complexity will make your system more robust.\n",
    "\n",
    "![yagni kiss dry schema](./docs/img/yagni_kiss_dry.png)"
   ]
  },
  {
   "cell_type": "markdown",
   "id": "6d659b42",
   "metadata": {},
   "source": [
    "#### Built-in functions\n",
    "\n",
    "Python comes with built-in functions for various purposes :) \n",
    "\n",
    "Here's a shortlist :\n",
    "\n",
    "- `dir(obj)` returns an alphabetized list of the attributes\n",
    "- `help(obj)` returns the docstring\n",
    "- `vars(obj)` returns an object's (writable) attributes\n",
    "- `range(int)` builds a sequence (is in fact a class ;-) )\n",
    "- `len(obj)` returns the length of an object\n",
    "\n",
    "![python built in functions](./docs/img/python_built_in_functions.png)"
   ]
  },
  {
   "cell_type": "markdown",
   "id": "acd7c3e6",
   "metadata": {},
   "source": [
    "#### Classes (intro)\n",
    "\n",
    "wait, isn't it only the beginning of the course ? sorry again, we need to address this subject too :)\n",
    "\n",
    "A class is a way to encapsulate data (named `fields` or `attributes`) and functionalities (`methods`).\n",
    "\n",
    "A class is a way to store a state and a behaviour.\n",
    "\n",
    "An object is an instance of a class. For example a `Car` would be a class, and a `peugeot_208` would be an object instance of the `Car` class.\n",
    "\n",
    "The object is responsible for modifying its own internal states, the way an object refers to itself is via the keyword `self`.\n",
    "\n",
    "Objects then interact with each others."
   ]
  },
  {
   "cell_type": "code",
   "execution_count": null,
   "id": "2329518d",
   "metadata": {},
   "outputs": [],
   "source": [
    "class Phone:\n",
    "\n",
    "    def __init__(self, ringtone: str) -> None:\n",
    "        self.ringtone = ringtone\n",
    "\n",
    "    def ring(self):\n",
    "        print(self.ringtone)\n",
    "\n",
    "iphone = Phone(ringtone=\"coucou\")\n",
    "iphone.ring()\n",
    "print(iphone.ringtone)"
   ]
  },
  {
   "cell_type": "code",
   "execution_count": 16,
   "id": "b49e8b19",
   "metadata": {},
   "outputs": [],
   "source": [
    "class Malware:\n",
    "    def __init__(self, name:str, c2_domain:str):\n",
    "        # attributes / fields (state, data)\n",
    "        self.name = name\n",
    "        self.c2_domain = c2_domain\n",
    "\n",
    "    # method (functionalities, behaviour)\n",
    "    def run(self, host:str):\n",
    "        print(f\"{self.name} is poutring {host} ...\")\n",
    "        pass"
   ]
  },
  {
   "cell_type": "code",
   "execution_count": 17,
   "id": "62b3cfc2",
   "metadata": {},
   "outputs": [
    {
     "name": "stdout",
     "output_type": "stream",
     "text": [
      "emotet is poutring sadserver.com ...\n",
      "emotet is poutring esna.com ...\n"
     ]
    }
   ],
   "source": [
    "emotet = Malware('emotet', \"m1cr0s0ft.com\")\n",
    "stuxnet = Malware('stuxnet', \"youtuberouge.com\")\n",
    "\n",
    "targets = ['sadserver.com', \"esna.com\"]\n",
    "for target in targets:\n",
    "    emotet.run(target)"
   ]
  },
  {
   "cell_type": "code",
   "execution_count": null,
   "id": "9a044439",
   "metadata": {},
   "outputs": [
    {
     "name": "stdout",
     "output_type": "stream",
     "text": [
      "name greg\n",
      "age 29\n",
      "name greg\n",
      "age 29\n",
      "name greg\n",
      "age 29\n",
      "{'name': 'greg', 'age': 29}\n"
     ]
    }
   ],
   "source": [
    "dico = {\n",
    "    \"name\": \"greg\",\n",
    "    \"age\" :29\n",
    "}\n",
    "dico[\"name\"]\n",
    "dico[\"age\"]\n",
    "for key, value in dico.items():\n",
    "    print(key, value)\n",
    "\n",
    "for key in dico:\n",
    "    print(key, dico[key])\n",
    "\n",
    "for key in dico.keys():\n",
    "    print(key, dico[key])\n",
    "\n",
    "for value in dico.values():\n",
    "    print(value)\n",
    "\n",
    "print(dico)"
   ]
  },
  {
   "cell_type": "markdown",
   "id": "f97f91d2",
   "metadata": {},
   "source": [
    "##### Magic methods\n",
    "\n",
    "Also called `dunder` for `double under` methods (because they begin and end with 2 underscores `_`).\n",
    "\n",
    "> They're special methods that you can define to add \"magic\" to your classes.\n",
    "\n",
    "Those methods are used for all kind of usage in Python. \n",
    "\n",
    "Ever wondered how `len([1,2,3])` worked ? Or why you can iterate on a `dict` ? How the `with` statement works like `with open(\"f.txt\") as f:` ?\n",
    "\n",
    "Let's dive in :)\n",
    "\n",
    "Here's some \"famous\" methods :\n",
    "\n",
    "- `__repr__`\n",
    "- `__str__`\n",
    "- `__len__`\n",
    "- `__eq__`\n",
    "\n",
    "(Note: a huge list can be found [here](https://rszalski.github.io/magicmethods/) in plain english)"
   ]
  },
  {
   "cell_type": "code",
   "execution_count": 26,
   "id": "c50fa8ba",
   "metadata": {},
   "outputs": [
    {
     "name": "stdout",
     "output_type": "stream",
     "text": [
      "<__main__.Malware object at 0x1184c8510>\n"
     ]
    }
   ],
   "source": [
    "# what happens if we print an object ?\n",
    "emotet = Malware('emotet', \"m1cr0s0ft.com\")\n",
    "print(emotet)"
   ]
  },
  {
   "cell_type": "markdown",
   "id": "cdbcaab0",
   "metadata": {},
   "source": [
    "##### string representation (repr + str) example\n",
    "\n",
    "`<__main__.Malware object at 0x113323df0>` what a weird print, isn't it ?\n",
    "\n",
    "[if you're interested in knowing why this line is formated like that, here's the source code](https://github.com/python/cpython/blob/v3.7.3/Objects/object.c#L496)\n",
    "\n",
    "<details>\n",
    "<summary>Scenario : imagine that we are printing some logs to debug, is this information useful ? How could we improve it ?</summary>\n",
    "\n",
    "We could find a way to add useful and critical infos in the string representation of an instance of the `Malware` class.\n",
    "\n",
    "</details>\n",
    "\n",
    "How can we change and improve the string representation then ?\n",
    "\n",
    "Behind the scenes, the `print` function is in reality calling the `__str__` method of the object. If this method is not defined, the `__repr__` method is called.\n",
    "\n",
    "What's the difference between `repr` and `str` ?\n",
    "\n",
    "- `__repr__` goal is to be unambiguous, developer oriented, evaluable / REPRoduce\n",
    "- `__str__` goal is to be readable, user friendly"
   ]
  },
  {
   "cell_type": "code",
   "execution_count": 27,
   "id": "de772d62",
   "metadata": {},
   "outputs": [
    {
     "name": "stdout",
     "output_type": "stream",
     "text": [
      "2023-10-11 11:51:23.030381\n"
     ]
    }
   ],
   "source": [
    "# quick example\n",
    "\n",
    "import datetime\n",
    "now = datetime.datetime.now()\n",
    "now = datetime.datetime(2023, 10, 11, 11, 51, 23, 30381)\n",
    "print(now)"
   ]
  },
  {
   "cell_type": "code",
   "execution_count": 29,
   "id": "1a21f40c",
   "metadata": {},
   "outputs": [
    {
     "data": {
      "text/plain": [
       "('datetime.datetime(2023, 10, 11, 11, 51, 23, 30381)',\n",
       " 'datetime.datetime(2023, 10, 11, 11, 51, 23, 30381)')"
      ]
     },
     "execution_count": 29,
     "metadata": {},
     "output_type": "execute_result"
    }
   ],
   "source": [
    "repr(now) , now.__repr__()"
   ]
  },
  {
   "cell_type": "markdown",
   "id": "a8c73ed9",
   "metadata": {},
   "source": [
    "Let's define the different string representations of our `Malware` class :)"
   ]
  },
  {
   "cell_type": "code",
   "execution_count": 30,
   "id": "2f68338e",
   "metadata": {},
   "outputs": [],
   "source": [
    "class MalwareVerbose:\n",
    "    def __init__(self, name:str, domain:str):\n",
    "        # attributes / fields (state, data)\n",
    "        self.name = name\n",
    "        self.domain = domain\n",
    "\n",
    "    def __repr__(self):\n",
    "        return f\"MalwareVerbose({self.name!r}, {self.domain!r})\"\n",
    "\n",
    "    def __str__(self):\n",
    "        return f\"Malware: {self.name}\"\n",
    "\n",
    "    # method (functionalities, behaviour)\n",
    "    def run(self, host:str):\n",
    "        print(f\"{self.name} is poutring {host} ...\")\n",
    "        pass\n",
    "\n",
    "stuxnet = MalwareVerbose(\"stuxnet\", \"m1crosoft.com\")"
   ]
  },
  {
   "cell_type": "code",
   "execution_count": 31,
   "id": "ffc108b9",
   "metadata": {},
   "outputs": [
    {
     "data": {
      "text/plain": [
       "\"MalwareVerbose('stuxnet', 'm1crosoft.com')\""
      ]
     },
     "execution_count": 31,
     "metadata": {},
     "output_type": "execute_result"
    }
   ],
   "source": [
    "repr(stuxnet)"
   ]
  },
  {
   "cell_type": "code",
   "execution_count": 32,
   "id": "937b6050",
   "metadata": {},
   "outputs": [
    {
     "name": "stdout",
     "output_type": "stream",
     "text": [
      "Malware: stuxnet\n"
     ]
    }
   ],
   "source": [
    "print(stuxnet)"
   ]
  },
  {
   "cell_type": "markdown",
   "id": "678d1324",
   "metadata": {},
   "source": [
    "##### Functions are objects ?\n",
    "\n",
    "wait... what ?!\n",
    "\n",
    "Yes, you can assign an attribute to a function, let's check out its `__dict__` to confirm that."
   ]
  },
  {
   "cell_type": "code",
   "execution_count": 33,
   "id": "1ca6a6e7",
   "metadata": {},
   "outputs": [
    {
     "name": "stdout",
     "output_type": "stream",
     "text": [
      "{'temp': 1}\n"
     ]
    }
   ],
   "source": [
    "def one_function():\n",
    "    pass\n",
    "\n",
    "one_function.temp = 1\n",
    "\n",
    "print(one_function.__dict__)"
   ]
  },
  {
   "cell_type": "markdown",
   "id": "d4b7b083",
   "metadata": {},
   "source": [
    "#### String interpolation\n",
    "\n",
    "Python supports multiple ways to format text strings. (`string interpolation`, also named `variable substitution`)\n",
    "\n",
    "##### String modulo operator\n"
   ]
  },
  {
   "cell_type": "code",
   "execution_count": null,
   "id": "b0d5c741",
   "metadata": {},
   "outputs": [],
   "source": [
    "# % interpolation\n",
    "print(\"%s, %s!\" %('Hello','world',))\n",
    "\n",
    "name = 'world'\n",
    "print(\"Hello, %s!\" %(name))"
   ]
  },
  {
   "cell_type": "markdown",
   "id": "cd29b042",
   "metadata": {},
   "source": [
    "The modulo operator uses format indicators (eg. `%s` for string).\n",
    "\n",
    "A shortlist of format indicators :\n",
    "\n",
    "- `%s`: String (performed using the str() function)\n",
    "- `%d`: Integer\n",
    "- `%f`: Floating point\n",
    "- `%e`: Lowercase exponent\n",
    "- `%E`: Uppercase exponent\n",
    "- `%x`: Lowercase hexadecimal\n",
    "- `%X`: Uppercase hexadecimal\n",
    "- `%o`: Octal\n",
    "- `%r`: Raw (performed using the repr() function)\n",
    "- `%g`: Floating point for smaller numbers, lowercase exponent for larger numbers\n",
    "- `%G`: Floating point for smaller numbers, uppercase exponent for larger numbers\n",
    "- `%a`: ASCII (performed using the ascii() function)\n",
    "- `%c`: Converts an int or a char to a character, such as 65 to the letter A\n",
    "\n",
    "Those format indicators can be combined with `flags` to modify the output."
   ]
  },
  {
   "cell_type": "code",
   "execution_count": null,
   "id": "0117f7c1",
   "metadata": {},
   "outputs": [],
   "source": [
    "price = 2.2\n",
    "print(\"%05d - %.2f\" %(price, price))"
   ]
  },
  {
   "cell_type": "markdown",
   "id": "6e6273c2",
   "metadata": {},
   "source": [
    "In this example, the format indicator `%05d`, uses the `5` flag to indicate that the integers should be formatted with 5 spaces and the `0` flag is used to pad those with zeros. Since the `d` portion converts the floating-point numbers to integers, four `0` are placed in front of the integers.\n",
    "The format indicator `%.2f` indicates that the float should have only 2 decimals."
   ]
  },
  {
   "cell_type": "markdown",
   "id": "fb7fb94c",
   "metadata": {},
   "source": [
    "##### str.format() method"
   ]
  },
  {
   "cell_type": "code",
   "execution_count": null,
   "id": "f49a640c",
   "metadata": {},
   "outputs": [],
   "source": [
    "s = \"greg\"\n",
    "number_of_g = s.count(\"g\")\n",
    "print(number_of_g)"
   ]
  },
  {
   "cell_type": "markdown",
   "id": "288d4fcf",
   "metadata": {},
   "source": [
    "The string format method can also use format indicators and flags !"
   ]
  },
  {
   "cell_type": "code",
   "execution_count": null,
   "id": "e7eaad0f",
   "metadata": {},
   "outputs": [],
   "source": [
    "price = 2.2\n",
    "print(\"{:.3f}\".format(price))"
   ]
  },
  {
   "cell_type": "markdown",
   "id": "65454aae",
   "metadata": {},
   "source": [
    "##### f-string\n",
    "\n",
    "`f-string` or `literal string interpolation` was [introduced](https://peps.python.org/pep-0498/) in python 3.6 and is characterized by a new prefix `f`.\n",
    "\n",
    "`f-strings` are **really** powerful. In fact, they are an expression evaluated at run time, not a constant value, making them quicker than others string interpolations."
   ]
  },
  {
   "cell_type": "code",
   "execution_count": null,
   "id": "8b0c4689",
   "metadata": {},
   "outputs": [],
   "source": [
    "name = \"world\"\n",
    "say = f\"Hello, {name}!\"\n",
    "print(say)\n",
    "print(f\"{3 * 2}\")\n",
    "# escaping {}\n",
    "print(f'My name is {{{name}}}')"
   ]
  },
  {
   "cell_type": "code",
   "execution_count": 34,
   "id": "be2add6a",
   "metadata": {},
   "outputs": [
    {
     "name": "stdout",
     "output_type": "stream",
     "text": [
      "       +357_568.1231\n"
     ]
    }
   ],
   "source": [
    "quantity = 357568.12312\n",
    "print(f\"{quantity: >+20_.4f}\")"
   ]
  },
  {
   "cell_type": "markdown",
   "id": "e19d7638",
   "metadata": {},
   "source": [
    "<details>\n",
    "<summary>Exercice : explain the result of the previous print :] </summary>\n",
    "\n",
    "From the [specs](https://docs.python.org/3/library/string.html#formatspec) :\n",
    "\n",
    "- `>` is an align format specifier, right align\n",
    "- `+` is a sign format specifier, indicates that the `+` and `-` sign should be printed\n",
    "- `20` is the width reserved for printing the number\n",
    "- `_` is a group format specifier, indicates the caracter that should be printed to separate every 3 numbers\n",
    "- `.4` is a precision format specifier, here indicates that the number should have only 4 decimals\n",
    "- `f` is a type format specifier, here for a `non scientific notation`\n",
    "\n",
    "</details>"
   ]
  },
  {
   "cell_type": "code",
   "execution_count": null,
   "id": "07734eff",
   "metadata": {},
   "outputs": [
    {
     "name": "stdout",
     "output_type": "stream",
     "text": [
      "4\n",
      "user has a short username\n",
      "user: leo is connected\n",
      "1\n",
      "    2\n",
      "    3\n",
      "123\n",
      "je fais ce 'que' je \"veux\" ok\n",
      "this is a not a phase \n",
      "mom\n",
      "this is a not a phase \\n mom\n",
      "username=leo\n",
      "username='leo'\n",
      "hmmm 🤔\n",
      "'hmmm \\U0001f914'\n",
      "'hmmm 🤔'\n"
     ]
    }
   ],
   "source": [
    "# others f-string magic\n",
    "username = 'leo'\n",
    "# expression\n",
    "print(f\"{2 * 2}\")\n",
    "print(f\"user has a {'short' if len(username) < 5 else 'long'} username\")\n",
    "\n",
    "# function\n",
    "def connect_status(username):\n",
    "    return \"connected\"\n",
    "\n",
    "log = f\"user: {username} is {connect_status(username)}\"\n",
    "print(log)\n",
    "\n",
    "# multiline print\n",
    "print(\n",
    "    f\"\"\"1\n",
    "2\n",
    "3\"\"\"\n",
    ")\n",
    "\n",
    "print(\n",
    "    '1'\n",
    "    '2'\n",
    "    '3'\n",
    ")\n",
    "\n",
    "# using single and double quotes\n",
    "print(f'''je fais ce 'que' je \"veux\" ok''')\n",
    "\n",
    "# raw f-string\n",
    "print(f'this is a not a phase \\nmom')\n",
    "print(fr'this is a not a phase \\n mom')\n",
    "\n",
    "# cool trick using the = operator\n",
    "print(f\"username={username}\")\n",
    "print(f\"{username=}\")\n",
    "\n",
    "# the ! operator\n",
    "face = \"hmmm 🤔\"\n",
    "print(f\"{face}\")\n",
    "print(f\"{face!a}\") # == convert to ascii\n",
    "print(f\"{face!r}\") # == repr(face)"
   ]
  },
  {
   "cell_type": "markdown",
   "id": "c17be124",
   "metadata": {},
   "source": [
    "###### limitations\n",
    "\n",
    "- If your format strings are provided by the user, use `Template Strings` to avoid security issues.\n",
    "\n",
    "- Can’t use backslashes to escape in the expression part of an f-string.\n",
    "\n",
    "- Expressions should not include comments using the # symbol"
   ]
  },
  {
   "cell_type": "markdown",
   "id": "7f8d95c4",
   "metadata": {},
   "source": [
    "#### Lists\n",
    "\n",
    "A list is a `sequence object` that stores an ordered sequence of objects, which can be of any types (even lists, yes)."
   ]
  },
  {
   "cell_type": "code",
   "execution_count": 39,
   "id": "94cdf1ce",
   "metadata": {},
   "outputs": [],
   "source": [
    "random_stuff = [\"lion\", 1, False, [\"o\", \"k\"]]"
   ]
  },
  {
   "cell_type": "code",
   "execution_count": 40,
   "id": "fc888787",
   "metadata": {},
   "outputs": [
    {
     "name": "stdout",
     "output_type": "stream",
     "text": [
      "lion\n",
      "['o', 'k']\n"
     ]
    }
   ],
   "source": [
    "print(random_stuff[0])\n",
    "print(random_stuff[3])"
   ]
  },
  {
   "cell_type": "markdown",
   "id": "311fb035",
   "metadata": {},
   "source": [
    "Trying to access an invalid index results in an Exception `IndexError` being raised."
   ]
  },
  {
   "cell_type": "code",
   "execution_count": 41,
   "id": "85e8d7a3",
   "metadata": {},
   "outputs": [
    {
     "ename": "IndexError",
     "evalue": "list index out of range",
     "output_type": "error",
     "traceback": [
      "\u001b[31m---------------------------------------------------------------------------\u001b[39m",
      "\u001b[31mIndexError\u001b[39m                                Traceback (most recent call last)",
      "\u001b[36mCell\u001b[39m\u001b[36m \u001b[39m\u001b[32mIn[41]\u001b[39m\u001b[32m, line 1\u001b[39m\n\u001b[32m----> \u001b[39m\u001b[32m1\u001b[39m \u001b[43mrandom_stuff\u001b[49m\u001b[43m[\u001b[49m\u001b[32;43m4\u001b[39;49m\u001b[43m]\u001b[49m\n",
      "\u001b[31mIndexError\u001b[39m: list index out of range"
     ]
    }
   ],
   "source": [
    "random_stuff[4]"
   ]
  },
  {
   "cell_type": "markdown",
   "id": "d6ce41ab",
   "metadata": {},
   "source": [
    "One of the under-rated feature of python is its negative index !\n",
    "If you want to access the last element of a list without having to calculate its size, use the `-1` index !"
   ]
  },
  {
   "cell_type": "code",
   "execution_count": 42,
   "id": "b26aba31",
   "metadata": {},
   "outputs": [
    {
     "data": {
      "text/plain": [
       "[3, 2, 1]"
      ]
     },
     "execution_count": 42,
     "metadata": {},
     "output_type": "execute_result"
    }
   ],
   "source": [
    "numbers = [1, 2, 3]\n",
    "#    0  1  2   ---> positive index\n",
    "#   -3 -2 -1   ---> negative index\n",
    "\n",
    "numbers[::-1]"
   ]
  },
  {
   "cell_type": "markdown",
   "id": "06243d36",
   "metadata": {},
   "source": [
    "also works for string : (but string are not lists, how does it work ? more on that later)\n",
    "\n",
    "```python\n",
    "+---+---+---+---+---+---+\n",
    "| P | y | t | h | o | n |\n",
    "+---+---+---+---+---+---+\n",
    "  0   1   2   3   4   5   6\n",
    " -6  -5  -4  -3  -2  -1\n",
    "```"
   ]
  },
  {
   "cell_type": "markdown",
   "id": "3d9812c8",
   "metadata": {},
   "source": [
    "##### Slicing\n",
    "\n",
    "Slicing is used to get a part (a `slice`) of a `sequence`. A lot of tricks can be done with slicing.\n",
    "\n",
    "The syntax of a slice is as followed : `[<start_index>:<stop_index>:<step>]`."
   ]
  },
  {
   "cell_type": "code",
   "execution_count": 49,
   "id": "ebeeedee",
   "metadata": {},
   "outputs": [
    {
     "name": "stdout",
     "output_type": "stream",
     "text": [
      "[1, 2, 3]\n",
      "[4, 3, 2]\n"
     ]
    }
   ],
   "source": [
    "numbers = [1, 2, 3, 4]\n",
    "print(numbers[0:3:1])\n",
    "print(numbers[4:0:-1])"
   ]
  },
  {
   "cell_type": "code",
   "execution_count": 50,
   "id": "0d8b2113",
   "metadata": {},
   "outputs": [
    {
     "name": "stdout",
     "output_type": "stream",
     "text": [
      "[1, 2, 3, 4]\n",
      "[1, 2, 3, 4, 5]\n"
     ]
    }
   ],
   "source": [
    "# how NOT to copy a list\n",
    "copy_of_numbers = numbers\n",
    "print(copy_of_numbers)\n",
    "numbers.append(5)\n",
    "print(copy_of_numbers)"
   ]
  },
  {
   "cell_type": "markdown",
   "id": "c9c15d77",
   "metadata": {},
   "source": [
    "<details>\n",
    "<summary>QUIZZ : why is this happening ?</summary>\n",
    "\n",
    "TODO\n",
    "\n",
    "- [pythontutor](https://pythontutor.com/render.html#code=numbers%20%3D%20%5B1,%202,%203,%204%5D%0Aprint%28numbers%29%0A%0Anumbers2%20%3D%20numbers%0Anumbers.append%285%29%0Aprint%28numbers2%29%0A%0Acopy_of_numbers%20%3D%20numbers%5B%3A%5D%0Anumbers.append%286%29%0Aprint%28copy_of_numbers%29&cumulative=true&curInstr=7&heapPrimitives=true&mode=display&origin=opt-frontend.js&py=3&rawInputLstJSON=%5B%5D&textReferences=false)\n",
    "\n",
    "</details>"
   ]
  },
  {
   "cell_type": "code",
   "execution_count": 51,
   "id": "e7e72df3",
   "metadata": {},
   "outputs": [
    {
     "name": "stdout",
     "output_type": "stream",
     "text": [
      "[1, 2, 3, 4, 5]\n"
     ]
    }
   ],
   "source": [
    "# how to correctly copy a list\n",
    "copy_of_numbers = numbers[:]\n",
    "numbers.append(6)\n",
    "print(copy_of_numbers)"
   ]
  },
  {
   "cell_type": "code",
   "execution_count": 52,
   "id": "a1dfbbc6",
   "metadata": {},
   "outputs": [
    {
     "name": "stdout",
     "output_type": "stream",
     "text": [
      "[1, 2, [3, 4, 5]]\n",
      "[1, 2, [3, 4, 5, 6]]\n"
     ]
    }
   ],
   "source": [
    "numbers = [1,2,[3,4,5]]\n",
    "numbers2 = numbers[:]\n",
    "print(numbers2)\n",
    "numbers[2].append(6)\n",
    "print(numbers2)"
   ]
  },
  {
   "cell_type": "code",
   "execution_count": null,
   "id": "a6a82f47",
   "metadata": {},
   "outputs": [],
   "source": [
    "reversed_numbers = numbers[::-1]\n",
    "print(reversed_numbers)"
   ]
  },
  {
   "cell_type": "code",
   "execution_count": null,
   "id": "9d34d3ec",
   "metadata": {},
   "outputs": [],
   "source": [
    "n = [1,2,3,[5,6]]\n",
    "o = n.copy()\n",
    "print(o, n)\n",
    "n[3].append(8)\n",
    "print(o, n)"
   ]
  },
  {
   "cell_type": "markdown",
   "id": "34a317f8",
   "metadata": {},
   "source": [
    "##### Common list methods\n",
    "\n",
    "we can enumerate all the methods of the `list` object by using the `dir` built-in function."
   ]
  },
  {
   "cell_type": "code",
   "execution_count": 53,
   "id": "909c0487",
   "metadata": {},
   "outputs": [
    {
     "data": {
      "text/plain": [
       "['__add__',\n",
       " '__class__',\n",
       " '__class_getitem__',\n",
       " '__contains__',\n",
       " '__delattr__',\n",
       " '__delitem__',\n",
       " '__dir__',\n",
       " '__doc__',\n",
       " '__eq__',\n",
       " '__format__',\n",
       " '__ge__',\n",
       " '__getattribute__',\n",
       " '__getitem__',\n",
       " '__getstate__',\n",
       " '__gt__',\n",
       " '__hash__',\n",
       " '__iadd__',\n",
       " '__imul__',\n",
       " '__init__',\n",
       " '__init_subclass__',\n",
       " '__iter__',\n",
       " '__le__',\n",
       " '__len__',\n",
       " '__lt__',\n",
       " '__mul__',\n",
       " '__ne__',\n",
       " '__new__',\n",
       " '__reduce__',\n",
       " '__reduce_ex__',\n",
       " '__repr__',\n",
       " '__reversed__',\n",
       " '__rmul__',\n",
       " '__setattr__',\n",
       " '__setitem__',\n",
       " '__sizeof__',\n",
       " '__str__',\n",
       " '__subclasshook__',\n",
       " 'append',\n",
       " 'clear',\n",
       " 'copy',\n",
       " 'count',\n",
       " 'extend',\n",
       " 'index',\n",
       " 'insert',\n",
       " 'pop',\n",
       " 'remove',\n",
       " 'reverse',\n",
       " 'sort']"
      ]
     },
     "execution_count": 53,
     "metadata": {},
     "output_type": "execute_result"
    }
   ],
   "source": [
    "l = []\n",
    "dir(l)"
   ]
  },
  {
   "cell_type": "markdown",
   "id": "2887d634",
   "metadata": {},
   "source": [
    "But here's some commonly used :\n",
    "- `.append(<value>)` adds an element at the end of the list\n",
    "- `.pop()` *removes* the last element of the list and returns it\n",
    "- `.remove(<value>)` removes the first occurence of a value (or raises a `ValueError` if the value can't be found)\n",
    "- `.insert(<index>, <value>)` adds an element at the given index\n",
    "- `.index(<value>)` returns the index of the first occurence of a value (or raises a `ValueError` if the value can't be found)\n",
    "- `.sort()` *modify* the list to sort it ascendingly\n",
    "- `.reverse()` *modify* the list to put it in reverse order\n",
    "- `.count(<value>)` returns the number of occurence of a value in the list"
   ]
  },
  {
   "cell_type": "code",
   "execution_count": null,
   "id": "e69a12c5",
   "metadata": {},
   "outputs": [],
   "source": [
    "l = [1,2,3]\n",
    "l.append(4)\n",
    "print(l)\n",
    "l.pop()\n",
    "print(l)\n",
    "l.remove(1)\n",
    "print(l)\n",
    "l.insert(0, 1)\n",
    "print(l)\n",
    "l.index(2)\n",
    "l + [0]\n",
    "print(l)\n",
    "l.reverse()\n",
    "print(l)\n",
    "l.count(1)\n",
    "l.sort()\n",
    "print(l)"
   ]
  },
  {
   "cell_type": "markdown",
   "id": "4f63e273",
   "metadata": {},
   "source": [
    "##### `list` built-in function\n",
    "\n",
    "the `list` function converts an object to a list."
   ]
  },
  {
   "cell_type": "code",
   "execution_count": null,
   "id": "c2f4a0c4",
   "metadata": {},
   "outputs": [],
   "source": [
    "msg = \"hello\"\n",
    "l_msg = list(msg)\n",
    "print(l_msg)"
   ]
  },
  {
   "cell_type": "markdown",
   "id": "a8412fc3",
   "metadata": {},
   "source": [
    "##### `in` keyword\n",
    "\n",
    "The `in` keyword has two purposes:\n",
    "1. check if a value is present in a `sequence` (list, range, string etc.), returns a Bool\n",
    "2. iterate through a sequence in a `for` loop"
   ]
  },
  {
   "cell_type": "code",
   "execution_count": 57,
   "id": "dbdd6205",
   "metadata": {},
   "outputs": [
    {
     "data": {
      "text/plain": [
       "True"
      ]
     },
     "execution_count": 57,
     "metadata": {},
     "output_type": "execute_result"
    }
   ],
   "source": [
    "# checking the presence of a value (present)\n",
    "l = [1,2,3]\n",
    "3 in l"
   ]
  },
  {
   "cell_type": "code",
   "execution_count": null,
   "id": "1f507fbd",
   "metadata": {},
   "outputs": [],
   "source": [
    "msg = \"hello\"\n",
    "\"ll\" in msg"
   ]
  },
  {
   "cell_type": "code",
   "execution_count": null,
   "id": "26cbde68",
   "metadata": {},
   "outputs": [],
   "source": [
    "# checking the presence of a value (absent)\n",
    "l = [1, 2, 3]\n",
    "55 in l"
   ]
  },
  {
   "cell_type": "code",
   "execution_count": null,
   "id": "ecdaf2ee",
   "metadata": {},
   "outputs": [],
   "source": [
    "# iterate\n",
    "l = [1, 2, 3]\n",
    "for elem in l:\n",
    "    print(elem)"
   ]
  },
  {
   "cell_type": "code",
   "execution_count": null,
   "id": "be70c6f9",
   "metadata": {},
   "outputs": [
    {
     "name": "stdout",
     "output_type": "stream",
     "text": [
      "1\n",
      "2\n",
      "3\n",
      "0 1\n",
      "1 2\n",
      "2 3\n"
     ]
    }
   ],
   "source": [
    "# NO\n",
    "l = [1, 2, 3]\n",
    "for i in range(len(l)):\n",
    "    print(l[i])\n",
    "\n",
    "# YES\n",
    "for i, val in enumerate(l):\n",
    "    print(i, val)"
   ]
  },
  {
   "cell_type": "markdown",
   "id": "57c59b2a",
   "metadata": {},
   "source": [
    "##### `len` built-in function\n",
    "\n",
    "the `len` function returns the length of a `sequence`"
   ]
  },
  {
   "cell_type": "code",
   "execution_count": null,
   "id": "c12c180e",
   "metadata": {},
   "outputs": [],
   "source": [
    "l = [1,2,3,4]\n",
    "len(l)"
   ]
  },
  {
   "cell_type": "markdown",
   "id": "8c3907a2",
   "metadata": {},
   "source": [
    "##### `del` keyword\n",
    "\n",
    "use the `del` keyword to delete an element with its index"
   ]
  },
  {
   "cell_type": "code",
   "execution_count": null,
   "id": "1c4bdfe3",
   "metadata": {},
   "outputs": [],
   "source": [
    "l = [1, 2 ,3]\n",
    "del l[1]\n",
    "print(l)"
   ]
  },
  {
   "cell_type": "code",
   "execution_count": null,
   "id": "e5079ffd",
   "metadata": {},
   "outputs": [],
   "source": [
    "del l[49]  # deleting an index that does not exist for this list raises an Exception"
   ]
  },
  {
   "cell_type": "markdown",
   "id": "277a518b",
   "metadata": {},
   "source": [
    "##### Common built-in functions used with lists\n",
    "\n",
    "- `max(<list>)` returns the maximum value in a list\n",
    "- `min(<list>)` returns the minimum value in a list"
   ]
  },
  {
   "cell_type": "code",
   "execution_count": null,
   "id": "a8393d00",
   "metadata": {},
   "outputs": [],
   "source": [
    "l = [1, 22, 333333]\n",
    "print(min(l))\n",
    "print(max(l))"
   ]
  },
  {
   "cell_type": "markdown",
   "id": "50bac446",
   "metadata": {},
   "source": [
    "#### Strings"
   ]
  },
  {
   "cell_type": "markdown",
   "id": "e6594452",
   "metadata": {},
   "source": [
    "/!\\ aparté /!\\\n",
    "\n",
    "speaking of text, do you use the best font FOR YOU ?\n",
    "\n",
    "Please check [codingfont.com](https://www.codingfont.com/\n",
    ") to find out :) \n",
    "\n",
    "\n",
    "Pssss, mine is Roboto Mono ;-)"
   ]
  },
  {
   "cell_type": "markdown",
   "id": "7d7871aa",
   "metadata": {},
   "source": [
    "a `string` can be seen as a `list` of characters (because it is a `sequence`) ! You can access each of its characters via their index. You can also loop on it."
   ]
  },
  {
   "cell_type": "code",
   "execution_count": null,
   "id": "1e986a89",
   "metadata": {},
   "outputs": [],
   "source": [
    "msg = \"hello\"\n",
    "print(msg[0])"
   ]
  },
  {
   "cell_type": "code",
   "execution_count": null,
   "id": "43fffae3",
   "metadata": {},
   "outputs": [],
   "source": [
    "for letter in msg:\n",
    "    print(letter)"
   ]
  },
  {
   "cell_type": "markdown",
   "id": "63aef110",
   "metadata": {},
   "source": [
    "Two or more string _literals_ (i.e. the ones enclosed between quotes) next to each other are automatically concatenated."
   ]
  },
  {
   "cell_type": "code",
   "execution_count": null,
   "id": "c509aacd",
   "metadata": {},
   "outputs": [],
   "source": [
    "s = 'Py' 'thon'\n",
    "print(s)"
   ]
  },
  {
   "cell_type": "code",
   "execution_count": null,
   "id": "9b30010c",
   "metadata": {},
   "outputs": [],
   "source": [
    "# This feature is particularly useful when you want to break long strings:\n",
    "text = ('Put several strings within parentheses '\n",
    "        'to have them joined together.')\n",
    "print(text)"
   ]
  },
  {
   "cell_type": "markdown",
   "id": "05b7d594",
   "metadata": {},
   "source": [
    "##### Common string methods\n",
    "\n",
    "use `dir` to list the methods of this class"
   ]
  },
  {
   "cell_type": "code",
   "execution_count": null,
   "id": "1853ee6e",
   "metadata": {},
   "outputs": [],
   "source": [
    "dir(str)"
   ]
  },
  {
   "cell_type": "markdown",
   "id": "97a928db",
   "metadata": {},
   "source": [
    "- `<string>.join(<list>)` creates a new string with each element of `<list>`, separated by `<string>`\n",
    "- `.upper()` returns the string entirely in ALL CAPS\n",
    "- `.lower()` returns the string entirely in lowercase\n",
    "- `.capitalize()` returns the string with a Uppercase at the beginning\n",
    "- `.split(<separator>)` splits the string using the separator and returns a list of string\n",
    "- `.startswith(<value>)` checks if the string starts with the value\n",
    "- `.endswith(<value>)` checks if the string ends with the value\n",
    "- `.replace(<old>, <new>, [count=-1])` returns a copy of the string where the `<old>` part is replaced by the `<new>` part. By default, `count` is at `-1` meaning that all occurences of `<old>` will be replaced. If you want only the first occurence of `old` to be replaced, then set `count` as `1`\n",
    "- `.find(<sub>)` returns the first index where the `sub` string is found"
   ]
  },
  {
   "cell_type": "code",
   "execution_count": 61,
   "id": "2e275bcc",
   "metadata": {},
   "outputs": [
    {
     "name": "stdout",
     "output_type": "stream",
     "text": [
      "hello.world\n",
      "HELLO\n",
      "hello\n",
      "Hello\n",
      "['127', '0', '0', '1']\n",
      "True\n",
      "False\n",
      "4\n"
     ]
    }
   ],
   "source": [
    "s = \".\".join([\"hello\", \"world\"])\n",
    "print(s)\n",
    "s = \"hello\"\n",
    "print(s.upper())\n",
    "print(s.lower())\n",
    "print(s.capitalize())\n",
    "sp = \"127.0.0.1\"\n",
    "print(sp.split(\".\"))\n",
    "print(sp.startswith(\"127\"))\n",
    "print(sp.endswith(\"8\"))\n",
    "print(sp.find('0'))\n"
   ]
  },
  {
   "cell_type": "markdown",
   "id": "da736e0f",
   "metadata": {},
   "source": [
    "##### Ellipsis\n",
    "\n",
    "`...` in python is called `ellipsis`. It is a string literal.\n",
    "\n",
    "One of its main purpose is placeholding (just like `pass`). For example if you declare a class without attribute (like a custome Exception for example), you can use the `ellipsis` as a placeholder.\n",
    "\n",
    "```python\n",
    "class CustomException:\n",
    "    ...\n",
    "\n",
    "class CustomException:\n",
    "    pass\n",
    "```\n",
    "\n",
    "But the `no-op` instruction `pass` is prefered and much older than the `ellipsis` so use `pass` instead :)"
   ]
  },
  {
   "cell_type": "markdown",
   "id": "e40e537c",
   "metadata": {},
   "source": [
    "#### Tuples\n",
    "\n",
    "`Tuples` are like `lists` but are immutable and are written with parenthesis."
   ]
  },
  {
   "cell_type": "code",
   "execution_count": null,
   "id": "0f3adf0a",
   "metadata": {},
   "outputs": [],
   "source": [
    "immut = (1, 2, 3)\n",
    "type(immut)"
   ]
  },
  {
   "cell_type": "code",
   "execution_count": null,
   "id": "e1b16bb2",
   "metadata": {},
   "outputs": [],
   "source": [
    "# if you want to create a tuple of one element, you need to add a comma after the element\n",
    "immut = (1,)\n",
    "len(immut)"
   ]
  },
  {
   "cell_type": "code",
   "execution_count": 62,
   "id": "cb8f39fb",
   "metadata": {},
   "outputs": [
    {
     "ename": "TypeError",
     "evalue": "'tuple' object does not support item assignment",
     "output_type": "error",
     "traceback": [
      "\u001b[31m---------------------------------------------------------------------------\u001b[39m",
      "\u001b[31mTypeError\u001b[39m                                 Traceback (most recent call last)",
      "\u001b[36mCell\u001b[39m\u001b[36m \u001b[39m\u001b[32mIn[62]\u001b[39m\u001b[32m, line 3\u001b[39m\n\u001b[32m      1\u001b[39m \u001b[38;5;66;03m# if we try to edit a tuple, we'll get an error\u001b[39;00m\n\u001b[32m      2\u001b[39m immut = (\u001b[32m1\u001b[39m, \u001b[32m2\u001b[39m, \u001b[32m3\u001b[39m)\n\u001b[32m----> \u001b[39m\u001b[32m3\u001b[39m \u001b[43mimmut\u001b[49m\u001b[43m[\u001b[49m\u001b[32;43m0\u001b[39;49m\u001b[43m]\u001b[49m = \u001b[32m35\u001b[39m\n",
      "\u001b[31mTypeError\u001b[39m: 'tuple' object does not support item assignment"
     ]
    }
   ],
   "source": [
    "# if we try to edit a tuple, we'll get an error\n",
    "immut = (1, 2, 3)\n",
    "immut[0] = 35"
   ]
  },
  {
   "cell_type": "markdown",
   "id": "c25c97fd",
   "metadata": {},
   "source": [
    "##### Really immutable ?\n",
    "\n",
    "/!\\ a tuple is immutable, but one of its item CAN be mutable"
   ]
  },
  {
   "cell_type": "code",
   "execution_count": 65,
   "id": "5a128337",
   "metadata": {},
   "outputs": [
    {
     "name": "stdout",
     "output_type": "stream",
     "text": [
      "(1, 2, [3, 4])\n",
      "(1, 2, [3, 4, 5])\n"
     ]
    }
   ],
   "source": [
    "immut = (1, 2, [3, 4])\n",
    "print(immut)\n",
    "immut[2].append(5)\n",
    "print(immut)"
   ]
  },
  {
   "cell_type": "markdown",
   "id": "1eec1e47",
   "metadata": {},
   "source": [
    "##### Unpacking\n",
    "\n",
    "a `sequence` can be unpacked into variables.\n",
    "\n",
    "Unpacking is a powerful tool !"
   ]
  },
  {
   "cell_type": "code",
   "execution_count": null,
   "id": "fd19ed66",
   "metadata": {},
   "outputs": [],
   "source": [
    "a, b, c = (1, 2, 3)\n",
    "print(a, b ,c)\n",
    "\n",
    "def give_numbers():\n",
    "    return 4, 5, 6\n",
    "\n",
    "d, e, f = give_numbers()\n",
    "print(d, e ,f)"
   ]
  },
  {
   "cell_type": "code",
   "execution_count": null,
   "id": "f940bce9",
   "metadata": {},
   "outputs": [],
   "source": [
    "# extended unpacking is defined by an asterisk\n",
    "a, *b, c = (1, 2, 3, 4)\n",
    "print(a, b, c)"
   ]
  },
  {
   "cell_type": "code",
   "execution_count": null,
   "id": "b481a730",
   "metadata": {},
   "outputs": [],
   "source": [
    "# you can also use unpacking to init some variables\n",
    "d, e = 1, 2\n",
    "\n",
    "# a neat trick with unpacking is to swap variables (commonly used in math algorithm implementation)\n",
    "# other programming languages would have required temporary variables\n",
    "e, d = d, e\n",
    "print(d, e)"
   ]
  },
  {
   "cell_type": "markdown",
   "id": "2c8a3c54",
   "metadata": {},
   "source": [
    "#### Dictionaries\n",
    "\n",
    "A `dict` is a key/value datastructure, created by placing a sequence of elements within curly braces `{}`.\n",
    "\n",
    "Keys of a `dict` needs to be immutable (int, float, string, tuple). But a `dict` is not immutable.\n",
    "\n",
    "You can access an element using square brackets and the key. `[<key>]`\n",
    "\n",
    "When the element is nested, combined multiple square brackets.\n",
    "\n",
    "To add or edit an element, also use square brackets + the `=` assign operator."
   ]
  },
  {
   "cell_type": "code",
   "execution_count": null,
   "id": "578ba5e0",
   "metadata": {},
   "outputs": [],
   "source": [
    "empty_dict = {}"
   ]
  },
  {
   "cell_type": "code",
   "execution_count": null,
   "id": "77c31410",
   "metadata": {},
   "outputs": [],
   "source": [
    "d = {\"one\": 1, \"two\": 2}\n",
    "d[\"one\"]\n",
    "d[\"three\"] = 3\n",
    "print(d)"
   ]
  },
  {
   "cell_type": "code",
   "execution_count": null,
   "id": "bea24193",
   "metadata": {},
   "outputs": [],
   "source": [
    "d[\"four\"] = [\"rowenta\", \"bosch\"]\n",
    "print(d[\"four\"][0])"
   ]
  },
  {
   "cell_type": "code",
   "execution_count": null,
   "id": "882b3673",
   "metadata": {},
   "outputs": [],
   "source": [
    "d[\"unknown\"] # accessing an unknown key raises a KeyError exception"
   ]
  },
  {
   "cell_type": "markdown",
   "id": "5719bbab",
   "metadata": {},
   "source": [
    "##### Common dict methods"
   ]
  },
  {
   "cell_type": "code",
   "execution_count": null,
   "id": "986d05a4",
   "metadata": {},
   "outputs": [],
   "source": [
    "dir(dict)"
   ]
  },
  {
   "cell_type": "markdown",
   "id": "4ffba26e",
   "metadata": {},
   "source": [
    "- `.keys()` returns a list of all the keys\n",
    "- `.values()` returns a list of all the values\n",
    "- `.items()` returns a list of tuples which are the couples <key>, <value>\n",
    "- `.get(<key>, [default])` returns an element for a key, if the key does not exist, `None` is returned, except if a `default` is provided\n",
    "- `.setdefault(<key>, <value>)` set a default value for a key if it's not already set\n",
    "- `.update({\"four\":4})` merges two dictionaries"
   ]
  },
  {
   "cell_type": "code",
   "execution_count": 67,
   "id": "2dd4f8cb",
   "metadata": {},
   "outputs": [],
   "source": [
    "d = {\"one\": 1, \"two\": 2}"
   ]
  },
  {
   "cell_type": "code",
   "execution_count": null,
   "id": "e7122681",
   "metadata": {},
   "outputs": [],
   "source": [
    "d.keys()"
   ]
  },
  {
   "cell_type": "code",
   "execution_count": null,
   "id": "756c8aa4",
   "metadata": {},
   "outputs": [],
   "source": [
    "d.values()"
   ]
  },
  {
   "cell_type": "code",
   "execution_count": null,
   "id": "14ea1b4d",
   "metadata": {},
   "outputs": [],
   "source": [
    "d.items()"
   ]
  },
  {
   "cell_type": "code",
   "execution_count": 68,
   "id": "5bc7cec3",
   "metadata": {},
   "outputs": [
    {
     "ename": "KeyError",
     "evalue": "'blabla'",
     "output_type": "error",
     "traceback": [
      "\u001b[31m---------------------------------------------------------------------------\u001b[39m",
      "\u001b[31mKeyError\u001b[39m                                  Traceback (most recent call last)",
      "\u001b[36mCell\u001b[39m\u001b[36m \u001b[39m\u001b[32mIn[68]\u001b[39m\u001b[32m, line 2\u001b[39m\n\u001b[32m      1\u001b[39m d.get(\u001b[33m\"\u001b[39m\u001b[33mone\u001b[39m\u001b[33m\"\u001b[39m)\n\u001b[32m----> \u001b[39m\u001b[32m2\u001b[39m \u001b[43md\u001b[49m\u001b[43m[\u001b[49m\u001b[33;43m\"\u001b[39;49m\u001b[33;43mblabla\u001b[39;49m\u001b[33;43m\"\u001b[39;49m\u001b[43m]\u001b[49m\n",
      "\u001b[31mKeyError\u001b[39m: 'blabla'"
     ]
    }
   ],
   "source": [
    "d.get(\"one\")\n",
    "d[\"blabla\"]"
   ]
  },
  {
   "cell_type": "code",
   "execution_count": null,
   "id": "31f18c8b",
   "metadata": {},
   "outputs": [],
   "source": [
    "print(d.get(\"three\"))"
   ]
  },
  {
   "cell_type": "code",
   "execution_count": null,
   "id": "61310693",
   "metadata": {},
   "outputs": [],
   "source": [
    "d.get(\"three\", \"default data 3\")"
   ]
  },
  {
   "cell_type": "code",
   "execution_count": null,
   "id": "6814aa44",
   "metadata": {},
   "outputs": [],
   "source": [
    "d.setdefault(\"three\", 3) # \"three\" key is not configured, so the default value is set\n",
    "d[\"three\"]"
   ]
  },
  {
   "cell_type": "code",
   "execution_count": null,
   "id": "42b0696d",
   "metadata": {},
   "outputs": [],
   "source": [
    "d.setdefault(\"three\", \"default 3\") # \"three\" key is already configured\n",
    "d[\"three\"]"
   ]
  },
  {
   "cell_type": "code",
   "execution_count": null,
   "id": "a52b13b5",
   "metadata": {},
   "outputs": [],
   "source": [
    "d.update({\"four\":4})\n",
    "d"
   ]
  },
  {
   "cell_type": "markdown",
   "id": "9cc468e4",
   "metadata": {},
   "source": [
    "##### `in` keyword\n",
    "\n",
    "the `in` keyword can be used to check if an element is a key of a dict."
   ]
  },
  {
   "cell_type": "code",
   "execution_count": null,
   "id": "7fb9a528",
   "metadata": {},
   "outputs": [],
   "source": [
    "d = {\"one\": 1, \"two\": 2}\n",
    "\"one\" in d # is equivalent to \"one\" in d.keys()"
   ]
  },
  {
   "cell_type": "markdown",
   "id": "199a8348",
   "metadata": {},
   "source": [
    "##### `del` keyword\n",
    "\n",
    "you can use the `del` keyword to delete a key in a dict.\n",
    "\n",
    "trying to delete a key that doesn't exist raises a `KeyError` exception."
   ]
  },
  {
   "cell_type": "code",
   "execution_count": null,
   "id": "000e15fc",
   "metadata": {},
   "outputs": [],
   "source": [
    "d = {\"one\": 1, \"two\": 2}\n",
    "del d[\"one\"]\n",
    "d"
   ]
  },
  {
   "cell_type": "code",
   "execution_count": null,
   "id": "83239c1a",
   "metadata": {},
   "outputs": [],
   "source": [
    "del d[\"one\"]"
   ]
  },
  {
   "cell_type": "markdown",
   "id": "8d794249",
   "metadata": {},
   "source": [
    "##### unpacking (again!)\n",
    "\n",
    "Since python 3.5, you can now unpack elements in a dict, resulting in a `merge` or an `addition` !"
   ]
  },
  {
   "cell_type": "code",
   "execution_count": null,
   "id": "dae971c7",
   "metadata": {},
   "outputs": [],
   "source": [
    "d = {'a': 1, **{'b': 2}} # addition because the key 'b' is not set\n",
    "print(d)"
   ]
  },
  {
   "cell_type": "code",
   "execution_count": null,
   "id": "d0f89e5f",
   "metadata": {},
   "outputs": [],
   "source": [
    "d = {'a': 1, **{'a': 2}} # merge because the key 'a' is already defined so its overwritten\n",
    "print(d)"
   ]
  },
  {
   "cell_type": "markdown",
   "id": "7e80cccc",
   "metadata": {},
   "source": [
    "#### Sets\n",
    "\n",
    "a `set` is a collection of *unique* elements. You can add multiple times the same element, but there will be only one occurence of this element in the set.\n",
    "\n",
    "a `set` can be instancied with the function `set` or with curly braces (like a dict) `{}`.\n",
    "\n",
    "a `set` can contain only immutable elements (strings, tuples, ints...) (like the keys of a dict). Trying to add a mutable item will result in a TypeError `unhashable type` :eyes:"
   ]
  },
  {
   "cell_type": "code",
   "execution_count": 70,
   "id": "c17461c8",
   "metadata": {},
   "outputs": [
    {
     "name": "stdout",
     "output_type": "stream",
     "text": [
      "{1, 2, 3, 4}\n"
     ]
    }
   ],
   "source": [
    "empty_set = set()\n",
    "s = {1,2,3,4}\n",
    "s.add(1) # here we try to add 1 to the set\n",
    "print(s)\n",
    "# as we can see, 1 was already in the set so the addition didn't do anything"
   ]
  },
  {
   "cell_type": "code",
   "execution_count": null,
   "id": "efebfd59",
   "metadata": {},
   "outputs": [
    {
     "name": "stdout",
     "output_type": "stream",
     "text": [
      "['greg', 'julien', 'julien']\n",
      "['greg', 'julien']\n"
     ]
    }
   ],
   "source": [
    "names = [\"greg\", \"julien\", \"julien\"]\n",
    "print(names)\n",
    "names = list(set(names))\n",
    "print(names)\n",
    "names"
   ]
  },
  {
   "cell_type": "code",
   "execution_count": null,
   "id": "86bbe6e1",
   "metadata": {},
   "outputs": [],
   "source": [
    "empty_set = set()\n",
    "empty_set.add([1,2,3,4])"
   ]
  },
  {
   "cell_type": "markdown",
   "id": "1e4a7347",
   "metadata": {},
   "source": [
    "Like a mathematical `set`, we can do mathematical operations such as intersection (`&`), union (`|`), difference (`-`) ..."
   ]
  },
  {
   "cell_type": "code",
   "execution_count": 72,
   "id": "11ba18c9",
   "metadata": {},
   "outputs": [
    {
     "data": {
      "text/plain": [
       "{2, 3}"
      ]
     },
     "execution_count": 72,
     "metadata": {},
     "output_type": "execute_result"
    }
   ],
   "source": [
    "s1 = {1,2,3,4}\n",
    "s2 = {2,3}\n",
    "s1 & s2 # intersection"
   ]
  },
  {
   "cell_type": "code",
   "execution_count": 73,
   "id": "37a982dd",
   "metadata": {},
   "outputs": [
    {
     "data": {
      "text/plain": [
       "{1, 2, 3, 4, 5, 6}"
      ]
     },
     "execution_count": 73,
     "metadata": {},
     "output_type": "execute_result"
    }
   ],
   "source": [
    "s3 = {5,6}\n",
    "s1 | s3 # union"
   ]
  },
  {
   "cell_type": "code",
   "execution_count": 74,
   "id": "2cd01d5a",
   "metadata": {},
   "outputs": [
    {
     "data": {
      "text/plain": [
       "{1, 4}"
      ]
     },
     "execution_count": 74,
     "metadata": {},
     "output_type": "execute_result"
    }
   ],
   "source": [
    "{1, 2, 3, 4, 5, 6}\n",
    "s1 - s2 # difference"
   ]
  },
  {
   "cell_type": "markdown",
   "id": "4f27465a",
   "metadata": {},
   "source": [
    "##### `in` keyword\n",
    "\n",
    "the `in` keyword can be used to **check** if an element exists in a `set`, and to **iterate**."
   ]
  },
  {
   "cell_type": "code",
   "execution_count": null,
   "id": "c6aa3099",
   "metadata": {},
   "outputs": [],
   "source": [
    "unique_numbers = {1,2,3,4}\n",
    "1 in unique_numbers"
   ]
  },
  {
   "cell_type": "code",
   "execution_count": null,
   "id": "ed3a1e57",
   "metadata": {},
   "outputs": [],
   "source": [
    "5 in unique_numbers"
   ]
  },
  {
   "cell_type": "code",
   "execution_count": null,
   "id": "f2326045",
   "metadata": {},
   "outputs": [],
   "source": [
    "for number in unique_numbers: # iterating\n",
    "    print(numbers)"
   ]
  },
  {
   "cell_type": "markdown",
   "id": "45c65916",
   "metadata": {},
   "source": [
    "#### pointers, pass-by-value, pass-by-reference\n",
    "\n",
    "A little aparté to talk about how python variables are passed between functions.\n",
    "\n",
    "**Python is \"pass-by-object-reference\"**\n",
    "\n",
    "This is equivalent to “object references are passed by value\".\n",
    "\n",
    "The variable is not the object itself.\n",
    "\n",
    "> source : https://stackoverflow.com/a/986145\n",
    "\n",
    "If you pass a mutable object into a method, the method gets a reference to that same object and you can mutate it as you want, but if you rebind the reference in the method, the outer scope will know nothing about it, and after you're done, the outer reference will still point at the original object.\n",
    "\n",
    "If you pass an immutable object to a method, you still can't rebind the outer reference, and you can't even mutate the object."
   ]
  },
  {
   "cell_type": "markdown",
   "id": "dfadfa61",
   "metadata": {},
   "source": [
    "##### Some examples of memory usage\n",
    "\n",
    "Let's dig deeper. Take a look at the following examples and try to guess the answer"
   ]
  },
  {
   "cell_type": "markdown",
   "id": "d6593695",
   "metadata": {},
   "source": [
    "```python\n",
    ">>> a = [1,2,3]\n",
    ">>> b = [1,2,3]\n",
    ">>> a == b # ? True or False ?\n",
    "```\n",
    "\n",
    "<details>\n",
    "<summary>answer</summary>\n",
    "\n",
    "```python\n",
    "True\n",
    "```\n",
    "\n",
    "</details>"
   ]
  },
  {
   "cell_type": "code",
   "execution_count": null,
   "id": "8a2b80c7",
   "metadata": {},
   "outputs": [],
   "source": [
    "a = [1,2,3]\n",
    "b = [1,2,3]\n",
    "# a == b # uncomment me for the solution"
   ]
  },
  {
   "cell_type": "markdown",
   "id": "420f033b",
   "metadata": {},
   "source": [
    "```python\n",
    ">>> a = [1,2,3]\n",
    ">>> b = [1,2,3]\n",
    ">>> a is b # ? True or False ?\n",
    "```\n",
    "\n",
    "<details>\n",
    "<summary>answer</summary>\n",
    "\n",
    "```python\n",
    "False\n",
    "```\n",
    "\n",
    "remember, the `is` keywork check if both sides are the same *objects* (if they have the same address)\n",
    "\n",
    "we can verify this claim by using the `id` function\n",
    "\n",
    "</details>"
   ]
  },
  {
   "cell_type": "code",
   "execution_count": null,
   "id": "56e81eb2",
   "metadata": {},
   "outputs": [],
   "source": [
    "a = [1,2,3]\n",
    "b = [1,2,3]\n",
    "# a is b # uncomment me for the solution"
   ]
  },
  {
   "cell_type": "code",
   "execution_count": null,
   "id": "c62c9586",
   "metadata": {},
   "outputs": [],
   "source": [
    "print(id(a), id(b))"
   ]
  },
  {
   "cell_type": "markdown",
   "id": "278ca1cf",
   "metadata": {},
   "source": [
    "now what about this example :\n",
    "\n",
    "```python\n",
    ">>> a = [1,2,3]\n",
    ">>> b = a\n",
    ">>> a == b # ? True or False ?\n",
    "True\n",
    ">>> a is b # ? True or False ?\n",
    "```\n",
    "\n",
    "<details>\n",
    "<summary>answer</summary>\n",
    "\n",
    "```python\n",
    "True\n",
    "```\n",
    "\n",
    "</details>"
   ]
  },
  {
   "cell_type": "code",
   "execution_count": null,
   "id": "610eccc8",
   "metadata": {},
   "outputs": [],
   "source": [
    "a = [1,2,3]\n",
    "b = a\n",
    "# print(a == b) # uncomment me for the solution\n",
    "# print(a is b) # uncomment me for the solution\n",
    "# print(id(a), id(b)) # uncomment me for the solution"
   ]
  },
  {
   "cell_type": "markdown",
   "id": "947edcd1",
   "metadata": {},
   "source": [
    "but what if we want `b` to be a copy of `a` and not a `reference` to it ? ;-)\n",
    "\n",
    "we can use the `.copy()` method (or use a trick with slicing)"
   ]
  },
  {
   "cell_type": "code",
   "execution_count": null,
   "id": "e1931579",
   "metadata": {},
   "outputs": [],
   "source": [
    "a = [1,2,3]\n",
    "b = a.copy()\n",
    "a is b\n",
    "print(id(a), id(b))"
   ]
  },
  {
   "cell_type": "code",
   "execution_count": null,
   "id": "7c36765a",
   "metadata": {},
   "outputs": [],
   "source": [
    "b = a[:]\n",
    "a is b\n",
    "print(id(a), id(b))"
   ]
  },
  {
   "cell_type": "markdown",
   "id": "725c9c7a",
   "metadata": {},
   "source": [
    "but be careful, with a \"simple\" `copy` like this, we don't clone the elements in the list, we just make new pointers (we can call them `labels`) to them.\n",
    "\n",
    "if you modify the new list, elements in the old list will be affected too ! this is called a `shallow copy`.\n",
    "\n",
    "Let's see two examples !"
   ]
  },
  {
   "cell_type": "code",
   "execution_count": null,
   "id": "66417649",
   "metadata": {},
   "outputs": [],
   "source": [
    "# first example\n",
    "a = [1,2,3,4]\n",
    "b = a.copy()\n",
    "print(b)\n",
    "# now we edit b, lets change its first element\n",
    "b[0] = \"RIP\"\n",
    "print(b)\n",
    "print(a)"
   ]
  },
  {
   "cell_type": "markdown",
   "id": "8caff82e",
   "metadata": {},
   "source": [
    "In this first example, we see that editing `b`, the copy of `a`, doesn't change `a`. But in the second example ..."
   ]
  },
  {
   "cell_type": "code",
   "execution_count": null,
   "id": "2d6f8a15",
   "metadata": {},
   "outputs": [],
   "source": [
    "a = [[1,2],[3,4]]\n",
    "b = a.copy()\n",
    "print(b)\n",
    "# now we edit b, lets change its first element\n",
    "b[0][0] = \"RIP\"\n",
    "print(b)\n",
    "print(a)"
   ]
  },
  {
   "cell_type": "markdown",
   "id": "3dd46ed1",
   "metadata": {},
   "source": [
    "<details>\n",
    "<summary>Do you know why this happens ?</summary>\n",
    "\n",
    "the `<source>.copy()` method iterate over the `<source>` and create a new reference for each of its element (so only for the **first** dimension). This behaviour (problem?) arises when those elements are mutable, like `lists` ! Because if we mutate those `lists` in the `copy`, it is in fact the same objects that are being edited.\n",
    "\n",
    "See this [pythontutor example](https://pythontutor.com/render.html#code=a%20%3D%20%5B%5B1,2%5D,%5B3,4%5D%5D%0Ab%20%3D%20a.copy%28%29%0Ab%5B0%5D%5B0%5D%20%3D%20%22RIP%22&cumulative=true&curInstr=3&heapPrimitives=true&mode=display&origin=opt-frontend.js&py=3&rawInputLstJSON=%5B%5D&textReferences=false) to better visualize !\n",
    "\n",
    "</details>"
   ]
  },
  {
   "cell_type": "markdown",
   "id": "b84e34cc",
   "metadata": {},
   "source": [
    "If we really want to clone the entire list, we must create a `deep copy` with the `copy` module and its function `deepcopy()`"
   ]
  },
  {
   "cell_type": "code",
   "execution_count": null,
   "id": "b4ab6b6f",
   "metadata": {},
   "outputs": [],
   "source": [
    "import copy\n",
    "a = [[1,2,3],[4,5,6],[7,8,9]]\n",
    "b = copy.deepcopy(a)\n",
    "b[0][0] = \"RIP\"\n",
    "print(a)\n",
    "print(b)"
   ]
  },
  {
   "cell_type": "markdown",
   "id": "4b44f93d",
   "metadata": {},
   "source": [
    "Here's another exercice (trap ?)\n",
    "\n",
    "```python\n",
    "def reassign(l):\n",
    "    l = [0, 1]\n",
    "\n",
    "l = [1,2,3]\n",
    "reassign(l)\n",
    "```\n",
    "\n",
    "<details>\n",
    "<summary>What's the value of `some_numbers` ?</summary>\n",
    "\n",
    "```python\n",
    "[1,2,3]\n",
    "```\n",
    "\n",
    "the variable `some_numbers` is passed by reference and linked to the `l` local variable. But this local variable `l` is reassigned to something else, so this doesn't affect `some_numbers`.\n",
    "\n",
    "[pythontutor explanation](https://pythontutor.com/render.html#code=def%20reassign%28l%29%3A%0A%20%20%20%20l%20%3D%20%5B0,%201%5D%0A%0Asome_numbers%20%3D%20%5B1,2,3%5D%0Areassign%28some_numbers%29&cumulative=true&curInstr=0&heapPrimitives=true&mode=display&origin=opt-frontend.js&py=3&rawInputLstJSON=%5B%5D&textReferences=false)\n",
    "\n",
    "</details>"
   ]
  },
  {
   "cell_type": "code",
   "execution_count": 75,
   "id": "86bf83e1",
   "metadata": {},
   "outputs": [
    {
     "name": "stdout",
     "output_type": "stream",
     "text": [
      "[1, 2, 3]\n"
     ]
    }
   ],
   "source": [
    "def reassign(l):\n",
    "    l = [0, 1]\n",
    "\n",
    "l = [1,2,3]\n",
    "reassign(l)\n",
    "\n",
    "print(l)"
   ]
  },
  {
   "cell_type": "markdown",
   "id": "4d296baa",
   "metadata": {},
   "source": [
    "the previous example can be confusing because the `local variable` of the `function` has the same name as the other variable `l`.\n",
    "\n",
    "we can rewrite it for more clarity."
   ]
  },
  {
   "cell_type": "code",
   "execution_count": null,
   "id": "c9cc0303",
   "metadata": {},
   "outputs": [],
   "source": [
    "def reassign(local_l):\n",
    "  local_l = [0, 1]\n",
    "\n",
    "l = [1,2,3]\n",
    "reassign(l)"
   ]
  },
  {
   "cell_type": "markdown",
   "id": "28ae8a14",
   "metadata": {},
   "source": [
    "Let's make sure it's understood :)\n",
    "\n",
    "```python\n",
    "def do_smth(local_l):\n",
    "  local_l.append(4)\n",
    "\n",
    ">>> l = [1,2,3]\n",
    ">>> do_smth(l) # here we pass the `l` variable to the function `do_smth`\n",
    ">>> print(l)\n",
    "\n",
    "# what's the value of `l` now ?\n",
    "# answer 1. [1, 2, 3, 4]\n",
    "# answer 2. [1, 2, 3]\n",
    "```\n",
    "\n",
    "<details>\n",
    "<summary>answer</summary>\n",
    "\n",
    "- you choosed answer 1, well done !\n",
    "- answer 2 ? yikes ! please read this chapter again :) (or drop an email)\n",
    "\n",
    "</details>"
   ]
  },
  {
   "cell_type": "code",
   "execution_count": null,
   "id": "80c0d22e",
   "metadata": {},
   "outputs": [
    {
     "name": "stdout",
     "output_type": "stream",
     "text": [
      "[1, 2, 3, 4]\n"
     ]
    }
   ],
   "source": [
    "def do_smth(local_l):\n",
    "  local_l.append(4)\n",
    "\n",
    "l = [1,2,3]\n",
    "do_smth(l)\n",
    "print(l)"
   ]
  },
  {
   "cell_type": "markdown",
   "id": "634780bb",
   "metadata": {},
   "source": [
    "#### `range`\n",
    "\n",
    "`range` is a powerful function (actually its not a function but that's for another time), which can be used in various ways :\n",
    "\n",
    "- generate a sequence of numbers from `0` to `<stop>-1` with `range(<stop>)`\n",
    "- generate a sequence of numbers from `<start>` to `<stop>` (with an optional `<step>`) with `range(<start>, <stop>, [step])`\n",
    "\n",
    "(Want to see its source code ? <https://github.com/python/cpython/blob/5fcfdd87c9b5066a581d3ccb4b2fede938f343ec/Objects/rangeobject.c#L76>)"
   ]
  },
  {
   "cell_type": "code",
   "execution_count": null,
   "id": "9c216f3e",
   "metadata": {},
   "outputs": [],
   "source": [
    "list(range(0, 5)) # will generate a list of numbers from 0 to 4 (5-1)"
   ]
  },
  {
   "cell_type": "code",
   "execution_count": null,
   "id": "79efd285",
   "metadata": {},
   "outputs": [],
   "source": [
    "list(range(5, 10, 2)) # will generate a list of numbers from 5 to 9 (10-1) 2-by-2"
   ]
  },
  {
   "cell_type": "code",
   "execution_count": null,
   "id": "d16903e9",
   "metadata": {},
   "outputs": [],
   "source": [
    "list(range(10, -1, -1)) # will generate a list of numbers from 10 to 0"
   ]
  },
  {
   "cell_type": "code",
   "execution_count": null,
   "id": "aa99ba25",
   "metadata": {},
   "outputs": [],
   "source": [
    "for i in range(10):\n",
    "    print(i)"
   ]
  },
  {
   "cell_type": "markdown",
   "id": "1880b0d6",
   "metadata": {},
   "source": [
    "Want to see its [C source code](https://github.com/python/cpython/blob/5fcfdd87c9b5066a581d3ccb4b2fede938f343ec/Objects/rangeobject.c#L76) ?"
   ]
  },
  {
   "cell_type": "markdown",
   "id": "0fc53cda",
   "metadata": {},
   "source": [
    "#### conditions\n",
    "\n",
    "TODO\n",
    "if / elif / else\n",
    "break\n",
    "continue\n",
    "==\n",
    "!=\n",
    ">\n",
    ">=\n",
    "<\n",
    "<=\n",
    "\n",
    "1 < 3 < 5"
   ]
  },
  {
   "cell_type": "markdown",
   "id": "a837978f",
   "metadata": {},
   "source": [
    "#### loops\n",
    "\n",
    "##### for\n",
    "\n",
    "exercice 1 : create a program that prints this \"graph\" with `n = 4` (number of lines).\n",
    "\n",
    "```python\n",
    "****\n",
    "***\n",
    "**\n",
    "*\n",
    "```\n",
    "\n",
    "<details>\n",
    "<summary>solution exercice 1</summary>\n",
    "\n",
    "```python\n",
    "n = 4\n",
    "for i in range(n):\n",
    "    print('*' * (n - i))\n",
    "```\n",
    "\n",
    "or\n",
    "\n",
    "```python\n",
    "n = 4\n",
    "for i in range(n, 0, -1):\n",
    "    print('*' * i)\n",
    "```\n",
    "\n",
    "</details>"
   ]
  },
  {
   "cell_type": "code",
   "execution_count": null,
   "id": "8a3fe600",
   "metadata": {},
   "outputs": [],
   "source": [
    "# try your code here :)\n",
    "n = 4\n",
    "for i in range(n, 0, -1):\n",
    "    print(\"*\" * i)\n",
    "\n",
    "for i in range(n+1):\n",
    "    print('*' * (n - i))"
   ]
  },
  {
   "cell_type": "markdown",
   "id": "239f08b5",
   "metadata": {},
   "source": [
    "exercice 2 : create a program that print this \"pyramid\" with `height = 4`.\n",
    "\n",
    "```python\n",
    "   *         3 espaces 1 etoile ligne 0 hauteur 4\n",
    "  ***        2 espaces 3 etoile ligne 1 hauteur 4\n",
    " *****       1 espace  5 etoile ligne 2 hauteur 4\n",
    "*******      0 espace  7 etoile ligne 3 hauteur 4\n",
    "```"
   ]
  },
  {
   "cell_type": "code",
   "execution_count": null,
   "id": "8ab6146f",
   "metadata": {},
   "outputs": [],
   "source": [
    "def print_pyramid(height: int):\n",
    "    # code here plz\n",
    "    pass\n",
    "\n",
    "height = 4\n",
    "print_pyramid(height)"
   ]
  },
  {
   "cell_type": "markdown",
   "id": "dba8f758",
   "metadata": {},
   "source": [
    "<details>\n",
    "<summary>solution exercice 2</summary>\n",
    "\n",
    "```python\n",
    "def print_pyramid(height: int):\n",
    "    ''' in this example for height = 4, we see that\n",
    "       *    > 3 spaces, 1 stone (3 spaces optional)\n",
    "      ***   > 2 spaces, 3 stones (2 spaces optional)\n",
    "     *****  > 1 space, 5 stones (1 space optional)\n",
    "    ******* > 0 space, 7 stones\n",
    "    with current_height starting at 0\n",
    "    we add 2 'stones' for each new line, so 2 * current_height + 1\n",
    "    those stones have (height - current_height - 1) * spaces on the left\n",
    "    '''\n",
    "    for current_height in range(height):\n",
    "        stones = '*' * (2 * current_height + 1)\n",
    "        space = ' ' * (height - current_height - 1)\n",
    "        print(f\"{space}{stones}{space}\")\n",
    "\n",
    "height = 4\n",
    "print_pyramid(height)\n",
    "```\n",
    "\n",
    "</details>"
   ]
  },
  {
   "cell_type": "markdown",
   "id": "5f70ca77",
   "metadata": {},
   "source": [
    "###### `else` clause\n",
    "\n",
    "the `else` clause in a for loop is used when for loop **DOES NOT** break.\n",
    "\n",
    "It is equivalent to a `if no break`."
   ]
  },
  {
   "cell_type": "code",
   "execution_count": null,
   "id": "ec030e4a",
   "metadata": {},
   "outputs": [],
   "source": [
    "# first a method using a boolean\n",
    "def find_with_bool(seq, target):\n",
    "    found = False\n",
    "    for i, value in enumerate(seq):\n",
    "        if value == target:\n",
    "            found = True\n",
    "            break\n",
    "    if not found:\n",
    "        return -1\n",
    "    return i\n",
    "\n",
    "find_with_bool([1,2,3], 3)"
   ]
  },
  {
   "cell_type": "code",
   "execution_count": null,
   "id": "a5f219b0",
   "metadata": {},
   "outputs": [],
   "source": [
    "# but we can now use the else clause\n",
    "def find_with_else(seq, target):\n",
    "    for i, value in enumerate(seq):\n",
    "        if value == seq:\n",
    "            break\n",
    "    else:\n",
    "        return -1\n",
    "    return i\n",
    "\n",
    "find_with_else([1,2,3], 3)"
   ]
  },
  {
   "cell_type": "markdown",
   "id": "204ed7e2",
   "metadata": {},
   "source": [
    "##### using index to loop\n",
    "\n",
    "If you're using the index to access an element, you're doing it (probably) wrong."
   ]
  },
  {
   "cell_type": "code",
   "execution_count": null,
   "id": "fff6c2d1",
   "metadata": {},
   "outputs": [],
   "source": [
    "# BEURK\n",
    "users = ['greg', 'leo']\n",
    "for i in range(len(users)):\n",
    "    print(users[i])"
   ]
  },
  {
   "cell_type": "code",
   "execution_count": null,
   "id": "bcaeffab",
   "metadata": {},
   "outputs": [],
   "source": [
    "# good :)\n",
    "users = ['greg', 'leo']\n",
    "for user in users:\n",
    "    print(user)"
   ]
  },
  {
   "cell_type": "markdown",
   "id": "0b4a9320",
   "metadata": {},
   "source": [
    "But I still want the index for some reasons !!\n",
    "\n",
    "##### enumerate\n",
    "\n",
    "the `enumerate` function returns a pair of elements (index, value)"
   ]
  },
  {
   "cell_type": "code",
   "execution_count": null,
   "id": "ad93c957",
   "metadata": {},
   "outputs": [],
   "source": [
    "users = ['greg', 'leo']\n",
    "for index, user in enumerate(users):\n",
    "    print(index, ' - ', user)"
   ]
  },
  {
   "cell_type": "markdown",
   "id": "44531dd3",
   "metadata": {},
   "source": [
    "But what if I want only to use one element every three ?"
   ]
  },
  {
   "cell_type": "code",
   "execution_count": null,
   "id": "0790656c",
   "metadata": {},
   "outputs": [],
   "source": [
    "# then use a slice ;-)\n",
    "users = ['greg', 'leo', 'alban', 'zoe']\n",
    "for user in users[::3]:\n",
    "    print(user)\n",
    "\n",
    "# and please NEVER do this :\n",
    "users = ['greg', 'leo', 'alban', 'zoe']\n",
    "for i in range(len(users)):\n",
    "    if i % 3 == 0:\n",
    "        print(users[i])"
   ]
  },
  {
   "cell_type": "markdown",
   "id": "e79e1b47",
   "metadata": {},
   "source": [
    "##### while\n",
    "\n",
    "- `while <condition>` is executing as long as its `<condition>` is `True`\n",
    "- `continue` is used to go to the next iteration (like a skip) \n",
    "- `break` is used to stop the loop\n",
    "- the `else` block is executed when the `<condition>` is no longer `True`"
   ]
  },
  {
   "cell_type": "code",
   "execution_count": null,
   "id": "48e0fa2f",
   "metadata": {},
   "outputs": [],
   "source": [
    "i = 0\n",
    "while True: #infinite loop\n",
    "    if i != 4:\n",
    "        i += 1\n",
    "        continue\n",
    "    else:\n",
    "        break\n",
    "\n",
    "print(i) # should be 4"
   ]
  },
  {
   "cell_type": "code",
   "execution_count": null,
   "id": "2ec38675",
   "metadata": {},
   "outputs": [],
   "source": [
    "i = 0\n",
    "while i < 6:\n",
    "    print(i)\n",
    "    i += 1\n",
    "else:\n",
    "    print(\"here > i is no longer less than 6\")"
   ]
  },
  {
   "cell_type": "markdown",
   "id": "787f858d",
   "metadata": {},
   "source": [
    "##### Looping over a dict"
   ]
  },
  {
   "cell_type": "code",
   "execution_count": null,
   "id": "0159e4a3",
   "metadata": {},
   "outputs": [],
   "source": [
    "store = {\"apple\": 3, \"ananas\": 1}\n",
    "for fruit in store:\n",
    "    print(fruit)"
   ]
  },
  {
   "cell_type": "code",
   "execution_count": null,
   "id": "e1e1830e",
   "metadata": {},
   "outputs": [],
   "source": [
    "store = {\"apple\": 3, \"ananas\": 1}\n",
    "for fruit, quantity in store.items():\n",
    "    print(fruit, quantity)"
   ]
  },
  {
   "cell_type": "markdown",
   "id": "0ccd24d4",
   "metadata": {},
   "source": [
    "- Exercice, try to edit the dict while iterating over it !\n",
    "    - You will encounter a RuntimeError"
   ]
  },
  {
   "cell_type": "code",
   "execution_count": null,
   "id": "62070614",
   "metadata": {},
   "outputs": [],
   "source": [
    "# naive implem\n",
    "store = {\"apple\": 3, \"ananas\": 1}\n",
    "for fruit in store:\n",
    "    if fruit == \"apple\":\n",
    "        del store[fruit]"
   ]
  },
  {
   "cell_type": "code",
   "execution_count": null,
   "id": "75acd881",
   "metadata": {},
   "outputs": [],
   "source": [
    "# To edit a dict while iterating over it, we can convert the dict to a list to get a list of keys that doesn't \"lock\" the dict\n",
    "store = {\"apple\": 3, \"ananas\": 1}\n",
    "for fruit in list(store):\n",
    "    if fruit == \"apple\":\n",
    "        del store[fruit]\n",
    "\n",
    "print(store)"
   ]
  },
  {
   "cell_type": "markdown",
   "id": "cce25d97",
   "metadata": {},
   "source": [
    "/!\\ But remember, be careful when mutating a variable while iterating over it /!\\"
   ]
  },
  {
   "cell_type": "markdown",
   "id": "9111200d",
   "metadata": {},
   "source": [
    "#### functions (again!)\n",
    "\n",
    "##### `*args` and `**kwargs`\n",
    "\n",
    "When a final formal parameter of the form `**name` is present, it receives a dictionary (see Mapping Types — dict) containing all keyword arguments except for those corresponding to a formal parameter. This may be combined with a formal parameter of the form *name (described in the next subsection) which receives a tuple containing the positional arguments beyond the formal parameter list. (`*name` must occur before `**name`.)"
   ]
  },
  {
   "cell_type": "code",
   "execution_count": null,
   "id": "d6f4d1e9",
   "metadata": {},
   "outputs": [
    {
     "name": "stdout",
     "output_type": "stream",
     "text": [
      "a\n",
      "--------------------\n",
      "arg : b\n",
      "arg : c\n",
      "--------------------\n",
      "kwarg: k1 => v1\n",
      "kwarg: k2 => v2\n"
     ]
    }
   ],
   "source": [
    "def dynamic(bar, *args, **kwargs):\n",
    "    print(bar)\n",
    "    print(\"-\" * 20)\n",
    "    for arg in args:\n",
    "        print(f\"arg : {arg}\")\n",
    "    print(\"-\" * 20)\n",
    "    for k in kwargs:\n",
    "        print(f\"kwarg: {k} => {kwargs[k]}\")\n",
    "\n",
    "dynamic(\"a\", \"b\", \"c\", k1=\"v1\", k2=\"v2\")\n",
    "\n",
    "# TODO trouver un cas concret"
   ]
  },
  {
   "cell_type": "markdown",
   "id": "32ddc3c9",
   "metadata": {},
   "source": [
    "##### type annotation\n",
    "\n",
    "Function annotations are optional metadata information about the types used by user-defined functions.\n",
    "\n",
    "Annotations are stored in the `__annotations__` attribute of the function as a dictionary and have no effect on any other part of the function."
   ]
  },
  {
   "cell_type": "code",
   "execution_count": null,
   "id": "471d4b2e",
   "metadata": {},
   "outputs": [],
   "source": [
    "# here we specify that the function expects a string and returns a string\n",
    "def foo(bar: str) -> str:\n",
    "    print(bar)\n",
    "    return \"ok\"\n",
    "\n",
    "print(foo.__annotations__)"
   ]
  },
  {
   "cell_type": "markdown",
   "id": "88f9506a",
   "metadata": {},
   "source": [
    "#### comprehensions\n",
    "\n",
    "A `comprehension` is a short syntax to construct a `sequence` (such as lists, set, dictionary etc).\n",
    "\n",
    "Usually on one-line (these are called `oneliners`) a comprehension \"can\" replace multiple lines of code. (But should it ??)"
   ]
  },
  {
   "cell_type": "code",
   "execution_count": null,
   "id": "d3978f8f",
   "metadata": {},
   "outputs": [],
   "source": [
    "# \"classic\"\n",
    "numbers = []\n",
    "for i in range(10):\n",
    "    numbers.append(i)\n",
    "print(numbers)\n",
    "\n",
    "# comprehension\n",
    "numbers = [i for i in range(10)]\n",
    "print(numbers)"
   ]
  },
  {
   "cell_type": "code",
   "execution_count": null,
   "id": "33a20848",
   "metadata": {},
   "outputs": [],
   "source": [
    "# let's create a dictionary that has x for key and x^2 for value (x->10)\n",
    "\n",
    "numbers_squared = {}\n",
    "for i in range(1, 10):\n",
    "    numbers_squared[i] = i**2\n",
    "print(numbers_squared)\n",
    "\n",
    "numbers_squared = {k:k**2 for k in range(1,10)}\n",
    "print(numbers_squared)"
   ]
  },
  {
   "cell_type": "code",
   "execution_count": null,
   "id": "95602a20",
   "metadata": {},
   "outputs": [],
   "source": [
    "# we can also add conditions in a comprehension\n",
    "firstnames = [\"Linus\", \"Bill\", \"Steve\"]\n",
    "\n",
    "# if we want a sublist without the firstnames that begin with a 'B'\n",
    "firstnames_no_b = [f for f in firstnames if not f.startswith('B')]\n",
    "\n",
    "print(firstnames_no_b)"
   ]
  },
  {
   "cell_type": "code",
   "execution_count": null,
   "id": "d86c3c5f",
   "metadata": {},
   "outputs": [],
   "source": [
    "# more complex example, we have a dict of malwares and we want a sub-dict without windows malwares\n",
    "\n",
    "malwares = {\"linux\": [\"mirai\"], \"windows\": [\"njrat\"], \"android\": [\"vikinghorde\"]}\n",
    "\n",
    "malwares_no_windows = {p:m for p,m in malwares.items() if p != \"windows\" }\n",
    "\n",
    "print(malwares_no_windows)"
   ]
  },
  {
   "cell_type": "markdown",
   "id": "7632c6c6",
   "metadata": {},
   "source": [
    "Exercice :\n",
    "\n",
    "with a list of `quantities` and a list of corresponding `fruits`, combine those two lists into one dictionary named `fruits_and_quantities` using a comprehension, with the fruit name as key and the quantity as value., only if the quantity is not 0."
   ]
  },
  {
   "cell_type": "code",
   "execution_count": null,
   "id": "41c6403b",
   "metadata": {},
   "outputs": [],
   "source": [
    "quantities = [2, 5, 0]\n",
    "fruits = ['apples', 'bananas', 'kiwis']\n",
    "\n",
    "#\n",
    "# code here\n",
    "#\n",
    "\n",
    "assert fruits_and_quantities == {'apples':2, 'bananas':5}\n",
    "\n",
    "print(fruits_and_quantities)"
   ]
  },
  {
   "cell_type": "markdown",
   "id": "2ce2b9cc",
   "metadata": {},
   "source": [
    "<details>\n",
    "<summary>answer</summary>\n",
    "\n",
    "```python\n",
    "fruits_and_quantities = {f:q for f,q in zip(fruits, quantities) if q > 0}\n",
    "```\n",
    "\n",
    "</details>"
   ]
  },
  {
   "cell_type": "markdown",
   "id": "724c3eb3",
   "metadata": {},
   "source": [
    "/!\\ BUT, comprehensions as you can see can become very complex and narrow. \n",
    "\n",
    "A good practice when coding comprehensions is \"your comprehension should be equal to a simple sentence\".\n",
    "\n",
    "For example, `a list of names without 'f'`.\n",
    "\n",
    "A bad example would be `a dict where the key is in the database and the value is not a in the GET query of the RSS url provided by the user if this URL is ...`\n",
    "\n",
    "Google in its [`python styling guide`](https://google.github.io/styleguide/pyguide.html#27-comprehensions--generator-expressions) has some interesting recommendations "
   ]
  },
  {
   "cell_type": "markdown",
   "id": "eabc32ab",
   "metadata": {},
   "source": [
    "#### modules/packages/libraries/script\n",
    "\n",
    "- a `script` is a python file designed to be executed\n",
    "- a `module` is a python file designed to be imported\n",
    "- a `package` is a directory of `modules` along with a `__init__.py`\n",
    "- a `library` doesn't really exist in python, but can be understood as a collection of `packages`\n",
    "\n",
    "example : the module name `A.B` designates a `submodule` named `B` in a `package` named `A`"
   ]
  },
  {
   "cell_type": "markdown",
   "id": "d0c48bec",
   "metadata": {},
   "source": [
    "##### importing\n",
    "\n",
    "when you import a module, you change the global namespace.\n",
    "\n",
    "Using `dir()` without any argument shows what’s in the global namespace."
   ]
  },
  {
   "cell_type": "code",
   "execution_count": null,
   "id": "a216cbc2",
   "metadata": {},
   "outputs": [],
   "source": [
    "dir()"
   ]
  },
  {
   "cell_type": "markdown",
   "id": "a5b0a997",
   "metadata": {},
   "source": [
    "When we import for example `math` this way `import math`, we place (or replace if it was already defined) `math` in the global namespace."
   ]
  },
  {
   "cell_type": "code",
   "execution_count": null,
   "id": "bb729124",
   "metadata": {},
   "outputs": [],
   "source": [
    "import math\n",
    "\n",
    "dir()"
   ]
  },
  {
   "cell_type": "markdown",
   "id": "0cbb9038",
   "metadata": {},
   "source": [
    "If we don't want to \"pollute\" our global namespace, we can select only certain elements of a module. For example we can only import `pi` from `math` with `from math import pi`. Out global namespace will now contain `pi` and not `math`.\n",
    "\n",
    "If what we want to import has a name that is too generic for our usecase, for example `now`, we can rename our import with the `as` statement : `from math import pi as math_pi`.\n",
    "\n",
    "Prefer importing the module entirely rateher than selecting only certain things from the module.\n",
    "\n",
    "Also, use a tool like [isort](https://github.com/PyCQA/isort) to automaticcaly sort your imports."
   ]
  },
  {
   "cell_type": "markdown",
   "id": "86d09928",
   "metadata": {},
   "source": [
    "###### Relative imports\n",
    "\n",
    "Do not use relative names in imports, use absolute imports.\n",
    "\n",
    "That is, if your app has multiple folders (modules), do not use `from ..app.database import db`.\n",
    "\n",
    "Python has some mechanisms to import from the top of your app. (PYTHONPATH, etc ...)"
   ]
  },
  {
   "cell_type": "markdown",
   "id": "5be69113",
   "metadata": {},
   "source": [
    "##### execution\n",
    "\n",
    "ever wondered what this code does ?\n",
    "\n",
    "```python\n",
    "if __name__ == '__main__':\n",
    "    ...\n",
    "```\n",
    "\n",
    "Whenever the Python interpreter reads a source file, it does two things:\n",
    "\n",
    "1. it sets a few special variables like __name__, and then\n",
    "\n",
    "2. it executes all of the code found in the file.\n",
    "\n",
    "Here's a script example :\n",
    "\n",
    "```python\n",
    "# calc.py\n",
    "def add(a, b):\n",
    "    return a+b\n",
    "\n",
    "print(\"a+b\")\n",
    "a = int(input(\"enter a: \"))\n",
    "b = int(input(\"enter b: \"))\n",
    "print(add(a, b))\n",
    "```\n",
    "\n",
    "Now, if I import this file `calc.py` in another file `main.py`, and try to execute the `main.py` file\n",
    "\n",
    "```python\n",
    "# main.py\n",
    "from calc import add\n",
    "\n",
    "... # do stuff\n",
    "```\n",
    "\n",
    "here's what happens :\n",
    "\n",
    "```bash\n",
    "$ python3 m.py\n",
    "a+b\n",
    "enter a:\n",
    "```\n",
    "\n",
    "The code in the `calc.py` file is executed too !\n",
    "\n",
    "The `if __name__ == \"__main__\":` code is used to tell python to execute this `if` block only if the `script` is called directly.\n",
    "\n",
    "In our case, our `calc.py` file can be both a `module` and a `script` if we move the interactive code in a function or in the `if` block :\n",
    "\n",
    "```python\n",
    "# calc.py\n",
    "def add(a, b):\n",
    "    return a+b\n",
    "\n",
    "if __name__ == \"__main__\":\n",
    "    print(\"a+b\")\n",
    "    a = int(input(\"enter a: \"))\n",
    "    b = int(input(\"enter b: \"))\n",
    "    print(add(a, b))\n",
    "```"
   ]
  },
  {
   "cell_type": "markdown",
   "id": "6c5e4d42",
   "metadata": {},
   "source": [
    "#### File handling\n",
    "\n",
    "/!\\ use the `with` statement, except if you really know what you're doing.\n",
    "\n",
    "The `with` statement is a `context manager` (more on that later). Basically it creates a block-scope where code can be executed (like a `if` block), and as soon as the execution exits this block (during an error for example), some logic is executed.\n",
    "\n",
    "For example, a naive way to open and close a text file in python is :\n",
    "\n",
    "```python\n",
    "f = open('big-leak.txt','r')\n",
    "... # do stuff with the file\n",
    "f.close()\n",
    "```\n",
    "\n",
    "The problem with this naive way, is that if during the \"do stuff\" code, something bad happens and an exception is thrown, the file will not be closed !\n",
    "\n",
    "To avoid this scenario, use the `with` statement.\n",
    "\n",
    "```python\n",
    "with (\n",
    "    open('the-zen-of-python.txt','r') as f,\n",
    "    open(\"output.txt\", \"wb\") as o,\n",
    "):\n",
    "    # do stuff with the file\n",
    "```"
   ]
  },
  {
   "cell_type": "markdown",
   "id": "711a22e4",
   "metadata": {},
   "source": [
    "##### .read() method\n",
    "\n",
    "Be careful when using the `.read()` method on a file, if you don't specify a `size` (an optional argument of the read method), the entire content of the file will be returned in a single string. If this file is multiple gigabytes, your RAM won't survive.\n",
    "\n",
    "There are multiple ways to read a file `chunk by chunk` to avoid memory exhaustion and slow performance."
   ]
  },
  {
   "cell_type": "markdown",
   "id": "7d8b6530",
   "metadata": {},
   "source": [
    "##### Other kind of files\n",
    "\n",
    "Now that you learned about the `with` statement, other kind of files can be used with this `with` statement."
   ]
  },
  {
   "cell_type": "code",
   "execution_count": null,
   "id": "9a9df63a",
   "metadata": {},
   "outputs": [],
   "source": [
    "import tempfile\n",
    "\n",
    "# temporary file\n",
    "with tempfile.NamedTemporaryFile() as tmpfile:\n",
    "    # this file will be destroyed as soon as it is closed\n",
    "    print('created temporary file', tmpfile.name)\n",
    "\n",
    "# temporary directory\n",
    "with tempfile.TemporaryDirectory() as tmpdir_path:\n",
    "    # this folder will be destroyed as soon as it is closed\n",
    "    print('created temporary directory', tmpdir_path)"
   ]
  },
  {
   "cell_type": "markdown",
   "id": "3306ea4f",
   "metadata": {},
   "source": [
    "#### Good practices\n",
    "\n",
    "(I prefer the term `good practices` than `best practices` `¯\\_(ツ)_/¯`)\n",
    "\n",
    "- [PEP8](https://peps.python.org/pep-0008/)\n",
    "- [Google Python Styling Guide](https://google.github.io/styleguide/pyguide.html)\n",
    "- [zen of python](https://docs.python-guide.org/writing/style/#zen-of-python)"
   ]
  },
  {
   "cell_type": "markdown",
   "id": "0497c1b2",
   "metadata": {},
   "source": [
    "#### Data Structures\n",
    "\n",
    "https://www.hackerrank.com/domains/data-structures\n",
    "\n",
    "> Data dominates. If you've chosen the right data structures and organized things well, the algorithms will almost always be self-evident. Data structures, not algorithms, are central to programming. \n",
    "> -- Rob PIKE (https://users.ece.utexas.edu/~adnan/pike.html)\n",
    "\n",
    "TODO\n",
    "\n",
    "exemple evolutif avec dabord des listes, puis dico puis classe puis dataclass"
   ]
  },
  {
   "cell_type": "code",
   "execution_count": null,
   "id": "253290fd",
   "metadata": {},
   "outputs": [],
   "source": [
    "address = \"Greg\\n24 rue Paradis\\n35000 Rennes\\n France\""
   ]
  },
  {
   "cell_type": "markdown",
   "id": "119f5ecd",
   "metadata": {},
   "source": [
    "### Context Manager\n",
    "\n",
    "A `context manager` is an object that sets up a context for code to run in, `enters` the context, runs the code and then `exits` the context.\n",
    "\n",
    "A `context manager` is usually called via the [`with`](https://www.python.org/dev/peps/pep-0343/) statement.\n",
    "\n",
    "#### Not using a context manager\n",
    "\n",
    "Let's take a look at the following code.\n",
    "\n",
    "```python\n",
    "f = open('afileidontknow.txt')\n",
    "# do stuff\n",
    "f.close()\n",
    "```\n",
    "\n",
    "What happens if during the `do stuff` an error occurs and the execution is stopped ? The file won't be closed !\n",
    "\n",
    "Another alternative could be :\n",
    "\n",
    "```python\n",
    "try:\n",
    "    f = open('afileidontknow.txt')\n",
    "    # do stuff\n",
    "except OSError as e:\n",
    "    # handle exception with open\n",
    "except XXXError as e:\n",
    "    # handle exception with do stuff\n",
    "finally:\n",
    "    f.close()\n",
    "```\n",
    "\n",
    "```python\n",
    "with open('afileidontknow.txt') as f:\n",
    "    # do stuff\n",
    "```"
   ]
  },
  {
   "cell_type": "markdown",
   "id": "f5594051",
   "metadata": {},
   "source": [
    "#### How to implement a contextmanager\n",
    "\n",
    "A `context manager` is an object that implements the `__enter__(self)` and `__exit__(self, exc_type, exc_value, exc_tb)` methods."
   ]
  },
  {
   "cell_type": "code",
   "execution_count": null,
   "id": "f024769d",
   "metadata": {},
   "outputs": [
    {
     "name": "stdout",
     "output_type": "stream",
     "text": [
      "__init__ method called\n",
      "__enter__ method called\n",
      "Hello, World !\n",
      "__exit__ method called\n",
      "exc_type=None | exc_value=None | exc_tb=None\n"
     ]
    }
   ],
   "source": [
    "class HelloContextManager:\n",
    "    def __init__(self, msg, raising=False):\n",
    "        print(\"__init__ method called\")\n",
    "        self.msg = msg\n",
    "        self.raising = raising\n",
    "\n",
    "    def __enter__(self):\n",
    "        print(\"__enter__ method called\")\n",
    "        return self.msg\n",
    "\n",
    "    def __exit__(self, exc_type, exc_value, exc_tb):\n",
    "        print(\"__exit__ method called\")\n",
    "        print(f\"{exc_type=} | {exc_value=} | {exc_tb=}\")\n",
    "        if isinstance(exc_value, IndexError):\n",
    "            # Handle IndexError here...\n",
    "            return True\n",
    "        return self.raising\n",
    "\n",
    "with HelloContextManager(\"Hello, World !\") as msg:\n",
    "    print(msg)\n",
    "\n",
    "with open(\"myfile.txt\") as f:\n",
    "    f.read()"
   ]
  },
  {
   "cell_type": "code",
   "execution_count": null,
   "id": "b2e58eca",
   "metadata": {},
   "outputs": [],
   "source": [
    "with HelloContextManager({\"Hello, World !\"}) as msg:\n",
    "    # trigger an error\n",
    "    msg[0] = \"error\""
   ]
  },
  {
   "cell_type": "code",
   "execution_count": null,
   "id": "241fa043",
   "metadata": {},
   "outputs": [],
   "source": [
    "with HelloContextManager({\"Hello, World !\"}, True) as msg:\n",
    "    # trigger an error, which will be ignored\n",
    "    msg[0] = \"error\""
   ]
  },
  {
   "cell_type": "markdown",
   "id": "1fd8a6ec",
   "metadata": {},
   "source": [
    "The `__exit__()` method has the following arguments :\n",
    "- `exc_type` is the exception class.\n",
    "- `exc_value` is the exception instance.\n",
    "- `exc_tb` is the traceback object.\n",
    "\n",
    "The `exit` method should return a boolean.\n",
    "If `True` any exception raised during the `with` statement will be ignored. If `False` (the default) the exception will be re-raised."
   ]
  },
  {
   "cell_type": "markdown",
   "id": "518c1414",
   "metadata": {},
   "source": [
    "#### @contextmanager\n",
    "\n",
    "A `@contextmanager decorator` is present in the `contextlib` lib. It can be used to turn a `generator` (a function that `yield`s something ) into a `context manager`."
   ]
  },
  {
   "cell_type": "code",
   "execution_count": 81,
   "id": "4bfa5db0",
   "metadata": {},
   "outputs": [
    {
     "name": "stdout",
     "output_type": "stream",
     "text": [
      "__init__ and __enter__\n",
      "during the context\n",
      "hello\n",
      "__exit__\n"
     ]
    }
   ],
   "source": [
    "from contextlib import contextmanager\n",
    "\n",
    "@contextmanager\n",
    "def simple_context():\n",
    "    print(\"__init__ and __enter__\")\n",
    "    yield \"hello\" # return __enter__\n",
    "    print(\"__exit__\")\n",
    "\n",
    "with simple_context() as s:\n",
    "    print(\"during the context\")\n",
    "    print(s)"
   ]
  },
  {
   "cell_type": "code",
   "execution_count": null,
   "id": "18032e31",
   "metadata": {},
   "outputs": [],
   "source": [
    "from contextlib import contextmanager\n",
    "\n",
    "@contextmanager\n",
    "def open2(filepath: str):\n",
    "    print(\"__init__ and __enter__\")\n",
    "    f = open(filepath)\n",
    "    yield f # return __enter__\n",
    "    print(\"__exit__\")\n",
    "    f.close()\n",
    "\n",
    "with open2(\"idontknow.txt\") as f:\n",
    "    f.read()"
   ]
  },
  {
   "cell_type": "code",
   "execution_count": null,
   "id": "07bfb23e",
   "metadata": {},
   "outputs": [],
   "source": [
    "from contextlib import contextmanager\n",
    "\n",
    "@contextmanager\n",
    "def open_db():\n",
    "    print(\"enter\")\n",
    "    try:\n",
    "        yield \"a connection to a database\"\n",
    "    except OSError as err:\n",
    "        # handle error\n",
    "        pass\n",
    "    finally:\n",
    "        print(\"exit\")\n",
    "\n",
    "with open_db() as db:\n",
    "    print(\"during the context\")\n",
    "    print(db)"
   ]
  },
  {
   "cell_type": "markdown",
   "id": "9ee45ff3",
   "metadata": {},
   "source": [
    "### Decorator\n",
    "\n",
    "A decorator is a function that takes in a function and extend its behaviour, for example it can check its arguments or its return value, measure its execution time ..."
   ]
  },
  {
   "cell_type": "code",
   "execution_count": 82,
   "id": "91ca30b8",
   "metadata": {},
   "outputs": [
    {
     "name": "stdout",
     "output_type": "stream",
     "text": [
      "Hello, World!\n"
     ]
    }
   ],
   "source": [
    "def simple_decorator(func):\n",
    "    def inner():\n",
    "        print(\"inside the decorator\")\n",
    "        return func()\n",
    "    return inner\n",
    "\n",
    "def hello_no_deco():\n",
    "    print(\"Hello, World!\")\n",
    "\n",
    "@simple_decorator\n",
    "def hello():\n",
    "    print(\"Hello, World !\")\n",
    "\n",
    "hello_no_deco()"
   ]
  },
  {
   "cell_type": "code",
   "execution_count": 83,
   "id": "0c7b5ebc",
   "metadata": {},
   "outputs": [
    {
     "name": "stdout",
     "output_type": "stream",
     "text": [
      "inside the decorator\n",
      "Hello, World !\n"
     ]
    }
   ],
   "source": [
    "hello()"
   ]
  },
  {
   "cell_type": "markdown",
   "id": "d0d5774a",
   "metadata": {},
   "source": [
    "This simple decorator has a flaw, it will mess with the introspection of the object !\n",
    "\n",
    "We must use another decorator, `wraps`, from the `functools` standard package."
   ]
  },
  {
   "cell_type": "code",
   "execution_count": 84,
   "id": "d0ed7cbf",
   "metadata": {},
   "outputs": [
    {
     "name": "stdout",
     "output_type": "stream",
     "text": [
      "inner\n"
     ]
    }
   ],
   "source": [
    "print(hello.__name__)"
   ]
  },
  {
   "cell_type": "code",
   "execution_count": 85,
   "id": "2cc0c53c",
   "metadata": {},
   "outputs": [
    {
     "name": "stdout",
     "output_type": "stream",
     "text": [
      "Hello world\n",
      "print_it\n"
     ]
    }
   ],
   "source": [
    "import functools\n",
    "\n",
    "def decorator_adding_argument(func):\n",
    "    @functools.wraps(func)\n",
    "    def inner():\n",
    "        msg = \"world\"\n",
    "        return func(msg)\n",
    "    return inner\n",
    "\n",
    "@decorator_adding_argument\n",
    "def print_it(x):\n",
    "    print(\"Hello\", x)\n",
    "\n",
    "print_it()\n",
    "print(print_it.__name__)"
   ]
  },
  {
   "cell_type": "code",
   "execution_count": null,
   "id": "c3816997",
   "metadata": {},
   "outputs": [],
   "source": [
    "import functools\n",
    "\n",
    "def decorator_interceptor(func):\n",
    "    @functools.wraps(func)\n",
    "    def inner(*args, **kwargs):\n",
    "        print(\"inside the decorator\")\n",
    "        print(f\"{args=}\")\n",
    "        print(f\"{kwargs=}\")\n",
    "        if kwargs.get(\"user\") == \"Greg\":\n",
    "            print(\"NON !\")\n",
    "            return\n",
    "        return func(*args, **kwargs)\n",
    "    return inner\n",
    "\n",
    "@decorator_interceptor\n",
    "def print_it(a, b, user=\"\"):\n",
    "    print(\"Hello\")\n",
    "\n",
    "print_it(1, 2, user=\"Greg\")"
   ]
  },
  {
   "cell_type": "code",
   "execution_count": 86,
   "id": "2e98aff5",
   "metadata": {},
   "outputs": [
    {
     "name": "stdout",
     "output_type": "stream",
     "text": [
      "Finished 'waste_some_time' in 0.4210 secs\n"
     ]
    }
   ],
   "source": [
    "# https://realpython.com/primer-on-python-decorators/#a-few-real-world-examples\n",
    "import functools\n",
    "import time\n",
    "\n",
    "def timer(func):\n",
    "    @functools.wraps(func)\n",
    "    def wrapper_timer(*args, **kwargs):\n",
    "        start_time = time.perf_counter()\n",
    "        value = func(*args, **kwargs)\n",
    "        end_time = time.perf_counter()\n",
    "        run_time = end_time - start_time\n",
    "        print(f\"Finished {func.__name__!r} in {run_time:.4f} secs\")\n",
    "        return value\n",
    "    return wrapper_timer\n",
    "\n",
    "@timer\n",
    "def waste_some_time(num_times):\n",
    "    for _ in range(num_times):\n",
    "        sum([i**2 for i in range(10000)])\n",
    "\n",
    "waste_some_time(999)"
   ]
  },
  {
   "cell_type": "markdown",
   "id": "038ac1c4",
   "metadata": {},
   "source": [
    "### Generators\n",
    "\n",
    "TODO xxx"
   ]
  },
  {
   "cell_type": "code",
   "execution_count": null,
   "id": "8720c8d1",
   "metadata": {},
   "outputs": [],
   "source": [
    "import time\n",
    "import random\n",
    "\n",
    "def generate_data():\n",
    "    time.sleep(1)\n",
    "    return random.randint(1, 6)\n",
    "\n",
    "ten_elements = [generate_data() for _ in range (10)]\n",
    "for e in ten_elements:\n",
    "    print(e)"
   ]
  },
  {
   "cell_type": "code",
   "execution_count": null,
   "id": "9c3bb726",
   "metadata": {},
   "outputs": [],
   "source": [
    "generator_ten_elements = (generate_data() for _ in range (10))\n",
    "for e in generator_ten_elements:\n",
    "    print(e)"
   ]
  },
  {
   "cell_type": "markdown",
   "id": "6aa5af00",
   "metadata": {},
   "source": [
    "### Exceptions\n",
    "\n",
    "Analogy : Imagine that you order something on the web, and during the delivery you're not at home. `Error handling` in this context means that the delivery company should be able to deliver your package another time/place so you can have it.\n",
    "\n",
    "TODO"
   ]
  },
  {
   "cell_type": "markdown",
   "id": "d38a2ab5",
   "metadata": {},
   "source": [
    "### Protocol\n",
    "\n",
    "In Python a protocol is an informal interface. Protocols are either known as an accepted truth or defined in documentation and not strictly in code1. For example, any class that implements the `__container__()` special method is said to follow the \"container protocol.\" While this is an accepted truth, there is no syntax in the Python language that declares a class as following a protocol. Python classes can also implement multiple protocols.\n",
    "\n",
    "TODO"
   ]
  },
  {
   "cell_type": "markdown",
   "id": "9373631a",
   "metadata": {},
   "source": [
    "### Design patterns\n",
    "\n",
    "TODO\n",
    "\n",
    "> a design pattern is a general repeatable solution to a commonly occurring problem in software design. A design pattern isn't a finished design that can be transformed directly into code. It is a description or template for how to solve a problem that can be used in many different situations.\n",
    "\n",
    "- <https://python-patterns.guide/>\n",
    "- <https://github.com/faif/python-patterns>\n",
    "\n",
    "#### Iterator Pattern\n",
    "\n",
    "TODO\n",
    "\n",
    "#### Decorator Pattern\n",
    "\n",
    "TODO\n",
    "\n",
    "#### Strategy Pattern\n",
    "\n",
    "TODO\n",
    "\n",
    "#### State Pattern\n",
    "\n",
    "TODO\n",
    "\n",
    "#### Singleton Pattern\n",
    "\n",
    "TODO\n",
    "\n",
    "#### Template Pattern\n",
    "\n",
    "TODO\n",
    "\n",
    "#### Adapter Pattern\n",
    "\n",
    "TODO\n",
    "\n",
    "#### Facade Pattern\n",
    "\n",
    "TODO\n",
    "\n",
    "#### Flyweight Pattern\n",
    "\n",
    "TODO\n",
    "\n",
    "#### Command Pattern\n",
    "\n",
    "TODO\n",
    "\n",
    "#### Abstract Factory Pattern\n",
    "\n",
    "TODO\n",
    "\n",
    "#### Composite Pattern\n",
    "\n",
    "TODO"
   ]
  },
  {
   "cell_type": "markdown",
   "id": "0f8d9bca",
   "metadata": {},
   "source": [
    "## Advanced\n",
    "\n",
    "### OOP\n",
    "\n",
    "TODO\n",
    "\n",
    "### functional\n",
    "\n",
    "TODO\n",
    "\n",
    "### Threading\n",
    "\n",
    "TODO\n",
    "\n",
    "GIL\n",
    "\n",
    "### Testing\n",
    "\n",
    "TODO\n",
    "\n",
    "### env\n",
    "\n",
    "TODO"
   ]
  },
  {
   "cell_type": "markdown",
   "id": "b4b1b282",
   "metadata": {},
   "source": [
    "### todo cours recopies pas fini ou deja fait etc\n",
    "\n",
    "affichage\n",
    "    print\n",
    "        signature d'une fonction\n",
    "        help() function\n",
    "        `__dir__` method\n",
    "    fstring\n",
    "\n",
    "conditions\n",
    "    if /elif / else\n",
    "    ==\n",
    "    !=\n",
    "    >\n",
    "    >=\n",
    "    <\n",
    "    <=\n",
    "    continue\n",
    "        saute à l’itération suivante\n",
    "    break\n",
    "        stoppe la boucle\n",
    "\n",
    "    exercice :\n",
    "        jours = [\"lundi\", \"mardi\", \"mercredi\", \"jeudi\", \"vendredi\", \"samedi\", \"dimanche\"]\n",
    "            de lundi a jeudi : travail\n",
    "            vendredi : soon le w-e\n",
    "            samedi dimanche : BBQ\n",
    "\n",
    "boucle\n",
    "    si vous utilisez des index, cest que vous le faites probablement pas bien\n",
    "    for\n",
    "        for i in range(len(colors)):\n",
    "            print(colors[i])\n",
    "\n",
    "        for i in range(len(colors)-1, -1, -1)\n",
    "            print(colors[i])\n",
    "\n",
    "        enumerate + for/else\n",
    "\n",
    "            def find(seq, target):\n",
    "                found = False\n",
    "                for i, value in enumerate(seq):\n",
    "                    if value == target:\n",
    "                        found = True\n",
    "                        break\n",
    "                if not found:\n",
    "                    return -1\n",
    "                return i\n",
    "\n",
    "            def find(seq, target):\n",
    "                for i, value in enumerate(seq):\n",
    "                    if value == seq:\n",
    "                        break\n",
    "                else:\n",
    "                    return -1\n",
    "                return i\n",
    "        zip\n",
    "            2 listes\n",
    "\n",
    "        for n in range(2, 10):\n",
    "            for x in range(2, n):\n",
    "                if n % x == 0:\n",
    "                    print(n, 'equals', x, '*', n//x)\n",
    "                    break\n",
    "            else:\n",
    "                # loop fell through without finding a factor\n",
    "                print(n, 'is a prime number')\n",
    "\n",
    "    valeur sentinel\n",
    "\n",
    "        from functools import partial\n",
    "        from random import randint\n",
    "\n",
    "        pull_trigger = partial(randint, 1, 6)\n",
    "\n",
    "        print('Starting a game of Russian Roulette...')\n",
    "        print('--------------------------------------')\n",
    "\n",
    "        for i in iter(pull_trigger, 6): #iter prend en argument une fonction ne renvo\n",
    "            print('I am still alive, selected', i)\n",
    "        print('Oops, game over, I am dead! :(')\n",
    "\n",
    "        #partial() est utilisé pour une application de fonction partielle\n",
    "        qui \"gèle\" une portion des arguments et/ou mots-clés d'une fonction\n",
    "        donnant un nouvel objet avec une signature simplifiée.\n",
    "\n",
    "    while\n",
    "    range\n",
    "    iter\n",
    "\n",
    "dir()\n",
    "help() - how to use it + how does it work (docstrings)\n",
    "sorted() - sorted(, key)\n",
    "\n",
    "fonction (vs procedure)\n",
    "    signature\n",
    "    portée\n",
    "        LGI\n",
    "    anonyme\n",
    "    DRY\n",
    "    passage d'arguments\n",
    "    renvoi de résultats\n",
    "    arguments positionnels vs. arguments par mots clés\n",
    "        twitter_search(\"@obama\", False, 20, True)\n",
    "        twitter_search(\"@obama\", retweets=False, numtweets=20, popular=True)\n",
    "\n",
    "tuples\n",
    "    NamedTuples (subclass of tuple)\n",
    "    unpacking :\n",
    "        p = 'pommes', 30, 1\n",
    "        produit, quantite, prix = p\n",
    "\n",
    "dictionnaires\n",
    "    fundamental\n",
    "    relationships, linking, counting, grouping\n",
    "\n",
    "    for k in d:\n",
    "        print(k)\n",
    "\n",
    "    cant mutate a dict while youre iterating over it\n",
    "\n",
    "    for k in d.keys():\n",
    "        if k.startswith('non'):\n",
    "            del d[k]\n",
    "\n",
    "    for k in d: #non\n",
    "        print(f\"{k} --> {d[k]}\")\n",
    "\n",
    "    for k, v in d.items():\n",
    "        print(f\"{k} --> {v}\")\n",
    "\n",
    "    colors = [\"red\", \"green\"]\n",
    "    d = {}\n",
    "    for color in colors:\n",
    "        if color not in d: #raise an error but its a not so no problem\n",
    "            d[color] = 0\n",
    "        d[color] += 1\n",
    "\n",
    "    d = {}\n",
    "    for color in colors:\n",
    "        d[color] = d.get(color, 0) + 1\n",
    "\n",
    "    defaultdict # too advanded but it exists ;)\n",
    "\n",
    "    grouping :\n",
    "        d = {}\n",
    "        for name in names:\n",
    "            key = len(name)\n",
    "            d.setdefault(key, []).append(name)\n",
    "\n",
    "        d = defaultdict(list)\n",
    "        for name in names:\n",
    "            key = len(name)\n",
    "            d[key].append(name)\n",
    "\n",
    "    linking :\n",
    "        collections.ChainMap\n",
    "\n",
    "fichier\n",
    "binaire\n",
    "modules / package\n",
    "    docstring\n",
    "\n",
    "iterators\n",
    "\n",
    "context manager\n",
    "    with\n",
    "\n",
    "    try: #wrong way to do it\n",
    "        os.remove('somefile.tmp')\n",
    "    except OSError:\n",
    "        pass\n",
    "\n",
    "    from contextlib import suppress\n",
    "    with suppress(FileNotFoundError):\n",
    "        os.remove('somefile.tmp')\n",
    "\n",
    "    from contextlib import contextmanager\n",
    "\n",
    "    @contextmanager\n",
    "    def open_db(filename: str):\n",
    "        try:\n",
    "            con = sqlite3.connect(filename)\n",
    "            yield con\n",
    "        except sqlite3.DatabaseError as err:\n",
    "            logger.error(err    )\n",
    "        finally:\n",
    "            con.close()\n",
    "\n",
    "one liner : 1 ligne de code = 1 phrase en francais\n",
    "\n",
    "bonnes pratiques\n",
    "    pep8 (syntaxe)\n",
    "    pep257\n",
    "    pep20\n",
    "\n",
    "python : everything is an object\n",
    "\n",
    "decorateurs\n",
    "try except\n",
    "comprehension\n",
    "generateurs\n",
    "magic methods\n",
    "\n",
    "DRY\n",
    "YAGNI\n",
    "\n",
    "classes\n",
    "interfaces\n",
    "conventions (snake case, globals in all-caps)\n",
    "    \"pythonic\" code\n",
    "    https://www.python.org/dev/peps/pep-0008/\n",
    "    https://google.github.io/styleguide/pyguide.html\n",
    "\n",
    "\n",
    "Voici quelques conseils pour vous aider à concevoir un script Python.\n",
    "- Réfléchissez avec un papier, un crayon... et un cerveau (voire même plusieurs) ! Reformulez avec des mots en français (ou en anglais) les consignes qui vous ont été données ou le cahier des charges qui vous a été communiqué. Dessinez ou construisez des schémas si cela vous aide.\n",
    "- Découpez en fonctions chaque élément de votre programme. Vous pourrez ainsi tester chaque élément indépendamment du reste. Pensez à écrire les docstrings en même temps que vous écrivez vos fonctions.\n",
    "- Quand l’algorithme estc omplexe, commentez votre code pour expliquer votre raisonnement. Utiliser des fonctions(ou méthodes) encore plus petites peut aussi être une solution.\n",
    "- Documentez-vous. L’algorithme dont vous avez besoin existe-t-il déjà dans un autre module ? Existe-t-il sous la forme de pseudo-code ? De quels outils mathématiques avez-vous besoin dans votre algorithme ?\n",
    "- Si vous créez ou manipulez une entité cohérente avec des propriétés propres, essayez de construire une classe.\n",
    "- Utilisez des noms de variables explicites, qui signifient quelquechose. En lisant votre code, on doit comprendre ce que vous faites. Choisir des noms de variables pertinents permet aussi de réduire les commentaires.\n",
    "- Quand vous construisez une structure de données complexe (par exemple une liste de dictionnaires contenant d’autres objets), documentez et illustrez l’organisation de cette structure de données sur un exemple simple.\n",
    "- Testez toujours votre code sur un jeu de données simple pour pouvoir comprendre rapidement ce qui se passe. Par exemple, une séquence de 1000 bases est plus facile à gérer que le génome humain ! Cela vous permettra également de retrouver plus facilement une erreur lorsque votre programme ne fait pas ce que vous souhaitez.\n",
    "- Lorsque votre programme « plante », lisez le message d’erreur. Python tente de vous expliquer ce qui ne va pas. Le numéro de la ligne qui pose problème est aussi indiqué.\n",
    "- Discutez avec des gens. Faites tester votre programme par d’autres. Les instructions d’utilisation sont-elles claires ?\n",
    "- Si vous distribuez votre code :\n",
    "- Rédigez une documentation claire.\n",
    "- Testez votre programme (jetez un œil aux tests unitaires 10).\n",
    "- Précisez une licence d’utilisation. Voir par exemple le site Choose an open source license\n",
    "\n",
    "If you are ever wondering how these structures work, have a look at the following source:\n",
    "<https://github.com/python/cpython/blob/main/Lib/collections/__init__.py>"
   ]
  }
 ],
 "metadata": {
  "kernelspec": {
   "display_name": "venv",
   "language": "python",
   "name": "python3"
  },
  "language_info": {
   "codemirror_mode": {
    "name": "ipython",
    "version": 3
   },
   "file_extension": ".py",
   "mimetype": "text/x-python",
   "name": "python",
   "nbconvert_exporter": "python",
   "pygments_lexer": "ipython3",
   "version": "3.13.2"
  }
 },
 "nbformat": 4,
 "nbformat_minor": 5
}
