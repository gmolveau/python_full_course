{
 "cells": [
  {
   "cell_type": "markdown",
   "id": "d41da0b0",
   "metadata": {},
   "source": [
    "# Python Full Course"
   ]
  },
  {
   "cell_type": "markdown",
   "id": "cb467766",
   "metadata": {},
   "source": [
    "TODO la generer automatiquement\n",
    "\n",
    "## Table of Contents\n",
    "* [ZEN of Python](#ZEN%20of%20Python)\n",
    "* [CPython](#CPython)\n",
    "* [Comments](#Comments)\n",
    "    * [Naming](#Naming)\n",
    "    * [Memory management (under the hood)](#Memory%20management%20(under%20the%20hood))\n",
    "* [Variables](#Variables)\n",
    "* [Primitive/native data types](#Primitive/native%20data%20types)\n",
    "    * [Casting / converting a type to another one](#Casting%20/%20converting%20a%20type%20to%20another%20one)\n",
    "    * [Operators](#Operators)\n",
    "    * ['is' keyword](#`is`%20keyword)\n",
    "    * [None](#None)\n",
    "    * [Mutability](#Mutability)\n",
    "    * [Type hinting](#Type%20hinting)\n",
    "* [Functions (intro)](#Functions%20(intro))\n",
    "* [Built-in functions](#Built-in%20functions)\n",
    "* [Classes (intro)](#Classes%20(intro))\n",
    "    * [Methods](#Methods)\n",
    "    * [Magic-methods](#Magic-methods)\n",
    "* [Printing](#Printing)\n",
    "    * [f-string](#f-string)\n",
    "* [Lists](#Lists)\n",
    "    * [Slicing](#Slicing)\n",
    "    * [Common list methods](#Common%20list%20methods)\n",
    "    * ['list' built-in function](#`list`%20built-in%20function)\n",
    "    * ['in' keyword](#`in`%20keyword)\n",
    "    * ['len' built-in function](#`len`%20built-in%20function)\n",
    "    * ['del' keyword](#`del`%20keyword)\n",
    "* [Common built-in functions used with lists](#Common%20built-in%20functions%20used%20with%20lists)\n",
    "* [Strings (again!)](#Strings%20(again!))\n",
    "    * [Common string methods](#Common%20string%20methods)\n",
    "    * [Ellipsis](#Ellipsis)\n",
    "* [Tuples](#Tuples)\n",
    "    * [Unpacking](#Unpacking)\n",
    "* [Dictionaries / dict](#Dictionaries%20/%20dict)\n",
    "* [Common dict methods](#Common%20dict%20methods)"
   ]
  },
  {
   "cell_type": "markdown",
   "id": "4f7788b0",
   "metadata": {},
   "source": [
    "## Basics"
   ]
  },
  {
   "cell_type": "markdown",
   "id": "2dfa715a",
   "metadata": {},
   "source": [
    "### History of Python\n",
    "\n",
    "Python was conceived in the late 1980s by [Guido van Rossum](https://twitter.com/gvanrossum/status/1017546023227424768).\n",
    "\n",
    "![Guido](./docs/img/Guido_van_Rossum_OSCON_2006.jpg)\n",
    "\n",
    "Python 3.0 final was released on December 3rd, 2008.\n",
    "\n",
    "So please use python3 ;-) #nomorepython2\n",
    "\n",
    "Its name is based on the \"Monty Python\"."
   ]
  },
  {
   "cell_type": "markdown",
   "id": "063f0619",
   "metadata": {},
   "source": [
    "### What is Python\n",
    "\n",
    "Python is :\n",
    "- an interpreted language\n",
    "\n",
    "    > source code is converted into bytecode that is then executed\n",
    "\n",
    "- strongly typed\n",
    "\n",
    "    > can't perform operations inappropriate to the type, so for example: in Python you can't add a number typed variable with a string typed variable\n",
    "\n",
    "    - [Wat Gary Bernhardt JS Takj 2012 - youtube.com](https://youtu.be/IINPQuAS6zs)\n",
    "\n",
    "- dynamically typed\n",
    "\n",
    "    > you can write `a = 2` and python will know that `a` is an Integer\n",
    "\n",
    "    > variables, parameters, and return values of a function can be any type. Also, the types of variables can change while the program runs.\n",
    "\n",
    "    > dynamic typing makes it easy to cause unexpected errors that you can only discover until the program runs (runtime).\n",
    "\n",
    "    - note : but python can now be statically typed through [`type hinting`](https://www.python.org/dev/peps/pep-0484/)\n",
    "\n",
    "- [see also](https://wiki.python.org/moin/Why%20is%20Python%20a%20dynamic%20language%20and%20also%20a%20strongly%20typed%20language)\n",
    "\n",
    "- garbage collected"
   ]
  },
  {
   "cell_type": "markdown",
   "id": "d67fbcda",
   "metadata": {},
   "source": [
    "### Why choose python then ?\n",
    "\n",
    "/!\\ opinions - be careful /!\\\n",
    "\n",
    "- sweet syntax\n",
    "- good standard library\n",
    "- big community\n",
    "- various profesionnal applications (IT, space, maths, IA, games...)\n",
    "- does the job\n",
    "\n",
    "#### Our clients\n",
    "\n",
    "- Google / Youtube\n",
    "- Vine (#rip)\n",
    "- Instagram\n",
    "- Reddit\n",
    "- Spotify\n",
    "- Netflix\n",
    "- NASA\n",
    "- Amazon\n",
    "- My middle-school math teacher"
   ]
  },
  {
   "cell_type": "markdown",
   "id": "25741983",
   "metadata": {},
   "source": [
    "### ZEN of python\n",
    "\n",
    "A collection of 19 principles that influence the __conception__ and **usage** of the language.\n",
    "\n",
    "```plaintext\n",
    ">>> import this\n",
    "The Zen of Python, by Tim Peters\n",
    "\n",
    "Beautiful is better than ugly.\n",
    "Explicit is better than implicit.\n",
    "Simple is better than complex.\n",
    "Complex is better than complicated.\n",
    "Flat is better than nested.\n",
    "Sparse is better than dense.\n",
    "Readability counts.\n",
    "Special cases aren't special enough to break the rules.\n",
    "Although practicality beats purity.\n",
    "Errors should never pass silently.\n",
    "Unless explicitly silenced.\n",
    "In the face of ambiguity, refuse the temptation to guess.\n",
    "There should be one-- and preferably only one --obvious way to do it.\n",
    "Although that way may not be obvious at first unless you're Dutch.\n",
    "Now is better than never.\n",
    "Although never is often better than *right* now.\n",
    "If the implementation is hard to explain, it's a bad idea.\n",
    "If the implementation is easy to explain, it may be a good idea.\n",
    "Namespaces are one honking great idea -- let's do more of those!\n",
    "```"
   ]
  },
  {
   "cell_type": "markdown",
   "id": "7eff6588",
   "metadata": {},
   "source": [
    "### CPython\n",
    "\n",
    "[CPython](https://en.wikipedia.org/wiki/CPython) ? What is that ?\n",
    "\n",
    "> CPython is the reference implementation of the Python programming language. Written in C and Python, CPython is the default and most widely used implementation of the Python language.\n",
    "\n",
    "CPython can be defined as both an interpreter and a compiler as it compiles Python code into bytecode before interpreting it.\n"
   ]
  },
  {
   "cell_type": "markdown",
   "id": "c4e2812f",
   "metadata": {},
   "source": [
    "### mise-en-jambe\n",
    "\n",
    "écrire un programme `pseudo.py` qui vous demande votre pseudo et l'affiche verticalement\n",
    "\n",
    "<details>\n",
    "<summary>correction</summary>\n",
    "\n",
    "```python\n",
    "pseudo = input(\"please enter your pseudo ?\\n\")\n",
    "for l in pseudo:\n",
    "    print(l)\n",
    "\n",
    "```\n",
    "\n",
    "</details>"
   ]
  },
  {
   "cell_type": "markdown",
   "id": "cddace44",
   "metadata": {},
   "source": [
    "### Comments\n",
    "\n",
    "Single line comments start with a `#` : `# this is a comment`\n",
    "\n",
    "Multiline comments can be written using triple single-quotes `'''` or double-quotes `\"\"\"`.\n",
    "\n",
    "We usually use triple-quotes `\"\"\"` to write documentation, also called [docstrings](https://www.python.org/dev/peps/pep-0257/#id5).\n"
   ]
  },
  {
   "cell_type": "code",
   "execution_count": null,
   "id": "af1ea7c6",
   "metadata": {},
   "outputs": [],
   "source": [
    "# a single line comment\n",
    "username = \"greg\" # an in-line comment\n",
    "print(username)\n",
    "\n",
    "''' ok so this is\n",
    "    a multiline comment\n",
    "'''\n",
    "\n",
    "\"\"\" and this is\n",
    "    another one\n",
    "    dj khaled\n",
    "\"\"\""
   ]
  },
  {
   "cell_type": "code",
   "execution_count": null,
   "id": "edd0b0a1",
   "metadata": {},
   "outputs": [],
   "source": [
    "def print_it(text:str) -> None:\n",
    "    \"\"\"\n",
    "    print_it prints the given text\n",
    "\n",
    "    Args:\n",
    "        text (str): a text to be printed\n",
    "    \"\"\"\n",
    "    print(text)\n",
    "\n",
    "doc = \"\"\"a very long string with \"double quotes\" and 'single' quotes in it\"\"\"\n",
    "print_it(doc)"
   ]
  },
  {
   "cell_type": "markdown",
   "id": "e9f9ed10",
   "metadata": {},
   "source": [
    "### Variables\n",
    "\n",
    "You don't need to declare a variable before using it, nor its type.\n",
    "\n",
    "A variable [stores a piece of data](https://realpython.com/pointers-in-python/), and gives it a specific name.\n",
    "\n",
    "```python\n",
    "username = \"greg\"\n",
    "```\n",
    "\n",
    "#### Memory management\n",
    "\n",
    "- [example 1](https://pythontutor.com/render.html#code=users%20%3D%20%5B%22greg%22%5D%0Awaiting%20%3D%20%5B%22leo%22%5D%0Aall_users%20%3D%20%5Busers,%20waiting%5D%0Ausers.append%28%22bob%22%29&cumulative=true&curInstr=4&heapPrimitives=true&mode=display&origin=opt-frontend.js&py=3&rawInputLstJSON=%5B%5D&textReferences=false)\n",
    "- [example 2](https://pythontutor.com/render.html#code=a%20%3D%20%22yes%22%0Ab%20%3D%20%22no%22%0Al%20%3D%20%5Ba,b%5D%0Al.append%283%29&cumulative=true&curInstr=4&heapPrimitives=true&mode=display&origin=opt-frontend.js&py=3&rawInputLstJSON=%5B%5D&textReferences=false)\n",
    "\n",
    "#### Naming\n",
    "\n",
    "The name of a variable should use the `snake_case` convention.\n",
    "\n",
    "```python\n",
    "# wrong\n",
    "allTheHashes = ['abcedf123' ...]\n",
    "# right\n",
    "all_hashes = ['abcedf123' ...]\n",
    "```\n",
    "\n",
    "Reading a variable name should give you a hint about its meaning.\n",
    "\n",
    "```python\n",
    "# wrong\n",
    "a = \"https://myapi.heroku.com/api/v1/register\"\n",
    "# right\n",
    "register_url = \"https://myapi.heroku.com/api/v1/register\"\n",
    "```\n",
    "\n",
    "You should _not_ put the type of the variable in its name.\n",
    "\n",
    "```python\n",
    "# wrong\n",
    "list_of_username = [\"greg\", \"alex\"]\n",
    "# right\n",
    "usernames = [\"greg\", \"alex\"]\n",
    "```\n",
    "\n",
    "Finally, you should **NOT** use reserved keywords for a variable name (eg. `dict`, `from`)"
   ]
  },
  {
   "cell_type": "markdown",
   "id": "3dcdef9c",
   "metadata": {},
   "source": [
    "#### Primitive/native data types\n",
    "\n",
    "/!\\ even if it won't makes sense right now, remember that everything in python is an Object /!\\\n",
    "\n",
    "The most common types are :\n",
    "\n",
    "- numbers : integers ; floating point numbers (floats) ; complex\n",
    "- string\n",
    "- list\n",
    "- dict\n",
    "- tuple\n",
    "- boolean (bool) : `True` and `False`\n",
    "    - `None`, `0`, and empty strings/lists/dicts/tuples all evaluate to `False`\n",
    "\n",
    "but there's a lot of other _special_ ones :\n",
    "\n",
    "- iterators\n",
    "- range\n",
    "- bytes ; bytearray ; memoryview\n",
    "- frozenset\n",
    "\n",
    "remember when we said that everything in python is an object ? all these types are objects, represented by a class."
   ]
  },
  {
   "cell_type": "code",
   "execution_count": 51,
   "id": "d3bfa6a9",
   "metadata": {},
   "outputs": [
    {
     "name": "stdout",
     "output_type": "stream",
     "text": [
      "<class 'bool'>\n",
      "<class 'int'>\n"
     ]
    }
   ],
   "source": [
    "b = True\n",
    "print(type(b))\n",
    "i = 1\n",
    "print(type(i))"
   ]
  },
  {
   "cell_type": "markdown",
   "id": "c0471714",
   "metadata": {},
   "source": [
    "more about what's a `class` later ;-)\n",
    "\n",
    "Note : all native types are available [here](https://docs.python.org/fr/3.7/library/stdtypes.html)"
   ]
  },
  {
   "cell_type": "markdown",
   "id": "edde6730",
   "metadata": {},
   "source": [
    "#### Casting / converting a type to another one\n",
    "\n",
    "a variable can be converted to another type, for example :"
   ]
  },
  {
   "cell_type": "code",
   "execution_count": 52,
   "id": "bf4960ae",
   "metadata": {},
   "outputs": [
    {
     "name": "stdout",
     "output_type": "stream",
     "text": [
      "<class 'str'>\n",
      "<class 'int'>\n"
     ]
    }
   ],
   "source": [
    "num = \"3\"\n",
    "print(type(num))\n",
    "num = int(num)\n",
    "print(type(num))"
   ]
  },
  {
   "cell_type": "markdown",
   "id": "df68efb5",
   "metadata": {},
   "source": [
    "For _custom_ types (classes that you designed), you will have to code the operations necessary to convert your class to another one."
   ]
  },
  {
   "cell_type": "markdown",
   "id": "aa54fc1b",
   "metadata": {},
   "source": [
    "#### Operators\n",
    "\n",
    "Python comes with a lot of operators that you can use and combine.\n",
    "\n",
    "You can use them with variables of the same type, and also with variables of different types.\n",
    "\n",
    "But be careful, some operations don't exist and will raise an Exception and crash your app."
   ]
  },
  {
   "cell_type": "code",
   "execution_count": 53,
   "id": "7d19ea7b",
   "metadata": {},
   "outputs": [
    {
     "name": "stdout",
     "output_type": "stream",
     "text": [
      "<class 'float'>\n"
     ]
    }
   ],
   "source": [
    "a = 1\n",
    "b = 2\n",
    "d = a / b # a division always gives a float even if the division is perfect\n",
    "print(type(d))"
   ]
  },
  {
   "cell_type": "code",
   "execution_count": 55,
   "id": "12107ba8",
   "metadata": {},
   "outputs": [
    {
     "name": "stdout",
     "output_type": "stream",
     "text": [
      "1\n"
     ]
    }
   ],
   "source": [
    "print(3 // 2) # euclidean division rounds down the result of the division"
   ]
  },
  {
   "cell_type": "code",
   "execution_count": 54,
   "id": "a5868c90",
   "metadata": {},
   "outputs": [
    {
     "name": "stdout",
     "output_type": "stream",
     "text": [
      "1\n"
     ]
    }
   ],
   "source": [
    "print(7 % 3) # modulo operator"
   ]
  },
  {
   "cell_type": "code",
   "execution_count": 56,
   "id": "339585f5",
   "metadata": {},
   "outputs": [
    {
     "name": "stdout",
     "output_type": "stream",
     "text": [
      "64\n"
     ]
    }
   ],
   "source": [
    "print(2 ** 6) # exponential operator (also called power)"
   ]
  },
  {
   "cell_type": "code",
   "execution_count": null,
   "id": "f1e3a1ae",
   "metadata": {},
   "outputs": [],
   "source": [
    "c = a + b\n",
    "c += 1 # equivalent to c = c + 1 # not all languages have this notation\n",
    "print(c)"
   ]
  },
  {
   "cell_type": "code",
   "execution_count": null,
   "id": "9092f5c9",
   "metadata": {},
   "outputs": [],
   "source": [
    "s = \"username\"\n",
    "p = \"greg\"\n",
    "print(s + \": \" + p)"
   ]
  },
  {
   "cell_type": "code",
   "execution_count": null,
   "id": "ffe9d73e",
   "metadata": {},
   "outputs": [],
   "source": [
    "o = p * 3\n",
    "print(o)"
   ]
  },
  {
   "cell_type": "code",
   "execution_count": null,
   "id": "f89e3310",
   "metadata": {},
   "outputs": [],
   "source": [
    "l = [1,2,3]\n",
    "ll = l * 2\n",
    "print(ll)"
   ]
  },
  {
   "cell_type": "code",
   "execution_count": null,
   "id": "2c130bb8",
   "metadata": {},
   "outputs": [],
   "source": [
    "lll = l + ll\n",
    "print(lll)"
   ]
  },
  {
   "cell_type": "code",
   "execution_count": null,
   "id": "298b91f2",
   "metadata": {},
   "outputs": [],
   "source": [
    "# boolean operators\n",
    "print(a == b)\n",
    "print(a != b)"
   ]
  },
  {
   "cell_type": "code",
   "execution_count": null,
   "id": "5a1dc131",
   "metadata": {},
   "outputs": [],
   "source": [
    "a = not True # negation operation\n",
    "print(a)"
   ]
  },
  {
   "cell_type": "code",
   "execution_count": 57,
   "id": "782652da",
   "metadata": {},
   "outputs": [
    {
     "data": {
      "text/plain": [
       "True"
      ]
     },
     "execution_count": 57,
     "metadata": {},
     "output_type": "execute_result"
    }
   ],
   "source": [
    "# python let's you chain operators nicely for example for range\n",
    "1 == 1 and 2 == 2 or 2 != 3"
   ]
  },
  {
   "cell_type": "code",
   "execution_count": 58,
   "id": "2a407bb2",
   "metadata": {},
   "outputs": [
    {
     "data": {
      "text/plain": [
       "True"
      ]
     },
     "execution_count": 58,
     "metadata": {},
     "output_type": "execute_result"
    }
   ],
   "source": [
    "1 < 2 < 3"
   ]
  },
  {
   "cell_type": "markdown",
   "id": "5f45034a",
   "metadata": {},
   "source": [
    "#### `is` keyword\n",
    "\n",
    "`is` keyword can be a little confusing and can lead to error later if not properly used.\n",
    "\n",
    "`is` checks that two variables refer to the same `object` (memory address).\n",
    "\n",
    "`==` checks if two `objects` have the same `value`.\n",
    "\n",
    "See the difference here ?"
   ]
  },
  {
   "cell_type": "code",
   "execution_count": 59,
   "id": "e1dbb462",
   "metadata": {},
   "outputs": [
    {
     "data": {
      "text/plain": [
       "True"
      ]
     },
     "execution_count": 59,
     "metadata": {},
     "output_type": "execute_result"
    }
   ],
   "source": [
    "a == [1, 2, 3, 4]\n",
    "b = a # make `b` points to the same 'place' as `a`\n",
    "b is a"
   ]
  },
  {
   "cell_type": "code",
   "execution_count": 60,
   "id": "e5a044b2",
   "metadata": {},
   "outputs": [
    {
     "data": {
      "text/plain": [
       "False"
      ]
     },
     "execution_count": 60,
     "metadata": {},
     "output_type": "execute_result"
    }
   ],
   "source": [
    "b = [1, 2, 3, 4]  # re-use `b` to create a new list\n",
    "b is a"
   ]
  },
  {
   "cell_type": "markdown",
   "id": "acd85239",
   "metadata": {},
   "source": [
    "even if the two lists have the same values, they dont have the same address"
   ]
  },
  {
   "cell_type": "code",
   "execution_count": null,
   "id": "88e5a48b",
   "metadata": {},
   "outputs": [],
   "source": [
    "b == a"
   ]
  },
  {
   "cell_type": "markdown",
   "id": "d0655ecb",
   "metadata": {},
   "source": [
    "We can dig deeper with the help of the `id` function, which returns the memory address of an object."
   ]
  },
  {
   "cell_type": "code",
   "execution_count": 61,
   "id": "56d50b67",
   "metadata": {},
   "outputs": [
    {
     "name": "stdout",
     "output_type": "stream",
     "text": [
      "4545431856 != 4620609024\n"
     ]
    }
   ],
   "source": [
    "print(id(a), '!=', id(b))"
   ]
  },
  {
   "cell_type": "markdown",
   "id": "18f09170",
   "metadata": {},
   "source": [
    "#### None\n",
    "\n",
    "`None` is an object. Always use `is` to compare a variable to `None`."
   ]
  },
  {
   "cell_type": "markdown",
   "id": "011a243a",
   "metadata": {},
   "source": [
    "#### Mutability\n",
    "\n",
    "some `sequences` (`tuples` and `strings` for example) are `immutable` which means that you can't edit them after creation."
   ]
  },
  {
   "cell_type": "code",
   "execution_count": 62,
   "id": "e25795b6",
   "metadata": {},
   "outputs": [
    {
     "ename": "TypeError",
     "evalue": "'str' object does not support item assignment",
     "output_type": "error",
     "traceback": [
      "\u001b[0;31m---------------------------------------------------------------------------\u001b[0m",
      "\u001b[0;31mTypeError\u001b[0m                                 Traceback (most recent call last)",
      "\u001b[1;32m/Users/gregou/dev/python_full_course/python_full_course.ipynb Cell 43\u001b[0m in \u001b[0;36m<module>\u001b[0;34m\u001b[0m\n\u001b[1;32m      <a href='vscode-notebook-cell:/Users/gregou/dev/python_full_course/python_full_course.ipynb#Y125sZmlsZQ%3D%3D?line=0'>1</a>\u001b[0m s \u001b[39m=\u001b[39m \u001b[39m\"\u001b[39m\u001b[39mhello\u001b[39m\u001b[39m\"\u001b[39m\n\u001b[0;32m----> <a href='vscode-notebook-cell:/Users/gregou/dev/python_full_course/python_full_course.ipynb#Y125sZmlsZQ%3D%3D?line=1'>2</a>\u001b[0m s[\u001b[39m0\u001b[39m] \u001b[39m=\u001b[39m \u001b[39m\"\u001b[39m\u001b[39ma\u001b[39m\u001b[39m\"\u001b[39m\n",
      "\u001b[0;31mTypeError\u001b[0m: 'str' object does not support item assignment"
     ]
    }
   ],
   "source": [
    "s = \"hello\"\n",
    "s[0] = \"a\""
   ]
  },
  {
   "cell_type": "code",
   "execution_count": 63,
   "id": "dcaa6d68",
   "metadata": {},
   "outputs": [
    {
     "ename": "TypeError",
     "evalue": "'tuple' object does not support item assignment",
     "output_type": "error",
     "traceback": [
      "\u001b[0;31m---------------------------------------------------------------------------\u001b[0m",
      "\u001b[0;31mTypeError\u001b[0m                                 Traceback (most recent call last)",
      "\u001b[1;32m/Users/gregou/dev/python_full_course/python_full_course.ipynb Cell 44\u001b[0m in \u001b[0;36m<module>\u001b[0;34m\u001b[0m\n\u001b[1;32m      <a href='vscode-notebook-cell:/Users/gregou/dev/python_full_course/python_full_course.ipynb#Y126sZmlsZQ%3D%3D?line=0'>1</a>\u001b[0m t \u001b[39m=\u001b[39m (\u001b[39m1\u001b[39m, \u001b[39m2\u001b[39m, \u001b[39m3\u001b[39m)\n\u001b[0;32m----> <a href='vscode-notebook-cell:/Users/gregou/dev/python_full_course/python_full_course.ipynb#Y126sZmlsZQ%3D%3D?line=1'>2</a>\u001b[0m t[\u001b[39m0\u001b[39m] \u001b[39m=\u001b[39m \u001b[39m4\u001b[39m\n",
      "\u001b[0;31mTypeError\u001b[0m: 'tuple' object does not support item assignment"
     ]
    }
   ],
   "source": [
    "t = (1, 2, 3)\n",
    "t[0] = 4"
   ]
  },
  {
   "cell_type": "markdown",
   "id": "f89879c4",
   "metadata": {},
   "source": [
    "If you wan't to edit them, you need to reassign them."
   ]
  },
  {
   "cell_type": "code",
   "execution_count": 64,
   "id": "664a5bc8",
   "metadata": {},
   "outputs": [
    {
     "name": "stdout",
     "output_type": "stream",
     "text": [
      "hello greg\n"
     ]
    }
   ],
   "source": [
    "s = \"hello\"\n",
    "s = s + \" \" + \"greg\"\n",
    "print(s)"
   ]
  },
  {
   "cell_type": "markdown",
   "id": "e64bcf12",
   "metadata": {},
   "source": [
    "#### Type hinting\n",
    "\n",
    "Python’s type hints ([PEP 484](https://www.python.org/dev/peps/pep-0484/)) provide you with optional static typing to leverage the best of both static and dynamic typing."
   ]
  },
  {
   "cell_type": "code",
   "execution_count": null,
   "id": "a7f443c7",
   "metadata": {},
   "outputs": [],
   "source": [
    "def add_three(i):\n",
    "    res = i + 3\n",
    "    return res\n",
    "\n",
    "y = add_three(4)\n",
    "print(y)\n",
    "z = add_three(\"ok\")"
   ]
  },
  {
   "cell_type": "code",
   "execution_count": null,
   "id": "d56b8e35",
   "metadata": {},
   "outputs": [],
   "source": [
    "def add_three(i:int) -> int:\n",
    "    res = i + 3\n",
    "    return res\n",
    "\n",
    "y = add_three(\"ok\")"
   ]
  },
  {
   "cell_type": "markdown",
   "id": "509aeb14",
   "metadata": {},
   "source": [
    "### Functions (intro)\n",
    "\n",
    "#### functions vs procedure\n",
    "\n",
    "A function returns a value and a procedure just executes commands.\n",
    "\n",
    "The name function comes from math. It is used to calculate a value based on input.\n",
    "\n",
    "A procedure is a set of commands which can be executed in order.\n",
    "\n",
    "In most programming languages, even functions can have a set of commands. Hence the difference is only returning a value.\n",
    "\n",
    "<details>\n",
    "<summary>QUESTION : how can we declare a procedure in Python ?</summary>\n",
    "\n",
    "- we can't (lol). Procedures don't exist in Python. If a function doesn't have a `return` statement in Python, it returns `None`\n",
    "\n",
    "</details>\n"
   ]
  },
  {
   "cell_type": "code",
   "execution_count": 69,
   "id": "0fd37612",
   "metadata": {},
   "outputs": [
    {
     "name": "stdout",
     "output_type": "stream",
     "text": [
      "test\n",
      "test\n"
     ]
    }
   ],
   "source": [
    "def print_it(text: str):\n",
    "    print(text)\n",
    "    return 1,2,3\n",
    "\n",
    "res = print_it(\"test\")\n",
    "type(res)"
   ]
  },
  {
   "cell_type": "markdown",
   "id": "b6d1307e",
   "metadata": {},
   "source": [
    "#### declaration\n",
    "\n",
    "A function is declared via the keywork `def` then the name of the function (follow the `snake_case` naming convention please), followed by its argument(s) between parentheses (they can be positional or keywords), eventually their types and the type of the return of the function.\n",
    "\n",
    "Note : there is **no** correlation between the name of variable inside the function and the name of the variable that you need to give during the function call.\n",
    "\n",
    "The following concat function expects a string as an argument, this string will then be named `text` inside the function only."
   ]
  },
  {
   "cell_type": "code",
   "execution_count": 71,
   "id": "e1407d8a",
   "metadata": {},
   "outputs": [],
   "source": [
    "def concat(text: str) -> str:\n",
    "    end = text + \"\\n\"\n",
    "    return end"
   ]
  },
  {
   "cell_type": "markdown",
   "id": "46fdbb7f",
   "metadata": {},
   "source": [
    "We can then call this function, by using positional arguments :"
   ]
  },
  {
   "cell_type": "code",
   "execution_count": 72,
   "id": "3820139a",
   "metadata": {},
   "outputs": [],
   "source": [
    "lorem_ipsum = \"lorem ipsum dolor sit amet\"\n",
    "res = concat(lorem_ipsum)"
   ]
  },
  {
   "cell_type": "markdown",
   "id": "2d7de904",
   "metadata": {},
   "source": [
    "or we can call this function by naming its arguments :"
   ]
  },
  {
   "cell_type": "code",
   "execution_count": null,
   "id": "b1318869",
   "metadata": {},
   "outputs": [],
   "source": [
    "lorem_ipsum = \"lorem ipsum dolor sit amet\"\n",
    "res = concat(text=lorem_ipsum)"
   ]
  },
  {
   "cell_type": "markdown",
   "id": "1943404e",
   "metadata": {},
   "source": [
    "QUIZZ :\n",
    "\n",
    "what would the call of the following function looks like ?\n",
    "\n",
    "```python\n",
    "def analyze_twitter_account(username):\n",
    "    verified = False\n",
    "    timezone = “Europe/Paris”\n",
    "    numtweets_yesterday = 50\n",
    "    return verified, timezone, numtweets\n",
    "```\n",
    "\n",
    "<details>\n",
    "<summary>correction</summary>\n",
    "\n",
    "```python\n",
    "obama = \"@obama\"\n",
    "a, b, c = analyze_twitter_account(obama)\n",
    "```\n",
    "\n",
    "</details>"
   ]
  },
  {
   "cell_type": "markdown",
   "id": "e5364b76",
   "metadata": {},
   "source": [
    "#### Default arguments\n",
    "\n",
    "A function can have multiple arguments with a default value already set.\n",
    "\n",
    "This allows you to design your function both for `casual` usage and `advanced` usage."
   ]
  },
  {
   "cell_type": "code",
   "execution_count": 73,
   "id": "b39b99ce",
   "metadata": {},
   "outputs": [
    {
     "name": "stdout",
     "output_type": "stream",
     "text": [
      "hello!!!\n",
      "hello!!!\n",
      "hello???\n",
      "hello???\n",
      "hello???\n"
     ]
    },
    {
     "data": {
      "text/plain": [
       "'hello???'"
      ]
     },
     "execution_count": 73,
     "metadata": {},
     "output_type": "execute_result"
    }
   ],
   "source": [
    "def print_and_concat(text: str, end:str = \"!!!\") -> str:\n",
    "    newline = text + end\n",
    "    print(newline)\n",
    "    return newline\n",
    "\n",
    "print_and_concat(\"hello\")\n",
    "print_and_concat(text=\"hello\")\n",
    "print_and_concat(\"hello\", \"???\")\n",
    "print_and_concat(\"hello\", end=\"???\")\n",
    "print_and_concat(text=\"hello\", end=\"???\")"
   ]
  },
  {
   "cell_type": "markdown",
   "id": "26d33692",
   "metadata": {},
   "source": [
    "But you can't use keywords arguments any way you want."
   ]
  },
  {
   "cell_type": "code",
   "execution_count": 74,
   "id": "a4aec31b",
   "metadata": {},
   "outputs": [
    {
     "ename": "SyntaxError",
     "evalue": "positional argument follows keyword argument (1680546887.py, line 1)",
     "output_type": "error",
     "traceback": [
      "\u001b[0;36m  Input \u001b[0;32mIn [74]\u001b[0;36m\u001b[0m\n\u001b[0;31m    print_and_concat(text=\"hello\", \"???\")\u001b[0m\n\u001b[0m                                        ^\u001b[0m\n\u001b[0;31mSyntaxError\u001b[0m\u001b[0;31m:\u001b[0m positional argument follows keyword argument\n"
     ]
    }
   ],
   "source": [
    "print_and_concat(text=\"hello\", \"???\")"
   ]
  },
  {
   "cell_type": "markdown",
   "id": "a894ec20",
   "metadata": {},
   "source": [
    "##### Be careful of default mutable arguments\n",
    "\n",
    "Be careful when using default mutable arguments ...\n",
    "\n",
    "Can you feel what's gonna be wrong with the follo code ?\n",
    "\n",
    "- visualize memory here : <https://pythontutor.com/render.html#code=def%20oops%28l%20%3D%20%5B%5D%29%3A%0A%20%20%20%20l.append%28%22ok%22%29%0A%20%20%20%20return%20l%0A%0Aprint%28oops%28%29%29%0Aprint%28oops%28%29%29&cumulative=true&curInstr=11&heapPrimitives=true&mode=display&origin=opt-frontend.js&py=3&rawInputLstJSON=%5B%5D&textReferences=false>\n"
   ]
  },
  {
   "cell_type": "code",
   "execution_count": 80,
   "id": "4bf4104f",
   "metadata": {},
   "outputs": [
    {
     "name": "stdout",
     "output_type": "stream",
     "text": [
      "test\n",
      "['ok']\n",
      "Help on built-in function print in module builtins:\n",
      "\n",
      "print(...)\n",
      "    print(value, ..., sep=' ', end='\\n', file=sys.stdout, flush=False)\n",
      "    \n",
      "    Prints the values to a stream, or to sys.stdout by default.\n",
      "    Optional keyword arguments:\n",
      "    file:  a file-like object (stream); defaults to the current sys.stdout.\n",
      "    sep:   string inserted between values, default a space.\n",
      "    end:   string appended after the last value, default a newline.\n",
      "    flush: whether to forcibly flush the stream.\n",
      "\n"
     ]
    }
   ],
   "source": [
    "def oops(text, l = []):\n",
    "    print(text)\n",
    "    l.append(\"ok\")\n",
    "    return l\n",
    "\n",
    "res = oops(\"test\")\n",
    "print(res)\n",
    "\n",
    "help(print)\n"
   ]
  },
  {
   "cell_type": "code",
   "execution_count": 76,
   "id": "b90eed30",
   "metadata": {},
   "outputs": [
    {
     "name": "stdout",
     "output_type": "stream",
     "text": [
      "test\n",
      "['ok', 'ok']\n"
     ]
    }
   ],
   "source": [
    "res = oops(\"test\")\n",
    "print(res)"
   ]
  },
  {
   "cell_type": "markdown",
   "id": "b551dba3",
   "metadata": {},
   "source": [
    "<details>\n",
    "<summary>QUIZZ : why is this code wrong ?</summary>\n",
    "\n",
    "- because the default argument is mutated anytime that value is mutated !\n",
    "\n",
    "</details>"
   ]
  },
  {
   "cell_type": "markdown",
   "id": "05f3b826",
   "metadata": {},
   "source": [
    "You can prevent this behaviour by setting the default argument to `None`."
   ]
  },
  {
   "cell_type": "code",
   "execution_count": null,
   "id": "6d337875",
   "metadata": {},
   "outputs": [],
   "source": [
    "def oops(text, l = None):\n",
    "    print(text)\n",
    "    if l is None:\n",
    "        l = []\n",
    "    l.append(\"ok\")\n",
    "    return l\n",
    "\n",
    "res = oops(\"test\")\n",
    "print(res)\n",
    "res = oops(\"test\")\n",
    "print(res)\n",
    "\n",
    "# or \n",
    "\n",
    "def oops(text, l = None):\n",
    "    print(text)\n",
    "    l = l or [] # be aware that this will also work if l == False and l == 0  \n",
    "    l.append(\"ok\")\n",
    "    return l"
   ]
  },
  {
   "cell_type": "markdown",
   "id": "912158c0",
   "metadata": {},
   "source": [
    "This feature of Python is so nasty that the [PEP 505](https://peps.python.org/pep-0505/#syntax-and-semantics) was submitted to create a new operator `??=`.\n",
    "\n",
    "This operator would replace a `if ... is None`.\n",
    "\n",
    "```python\n",
    "def oops(text, l = None):\n",
    "    print(text)\n",
    "    l ??= []\n",
    "    l.append(\"ok\")\n",
    "    return l\n",
    "```\n",
    "\n",
    "Fun debugging times :<"
   ]
  },
  {
   "cell_type": "markdown",
   "id": "d4d91a3c",
   "metadata": {},
   "source": [
    "#### Signature\n",
    "\n",
    "The signature of a function is the list of its arguments and their types + the return type.\n",
    "\n",
    "Here, the function `f` takes one argument that is a `string` and returns `None`. The argument will be named `text` in the function.\n",
    "\n",
    "<details>\n",
    "<summary>QUIZZ : find the signature of the built-in `print` function</summary>\n",
    "\n",
    "- use the `help` function :\n",
    "\n",
    "```python\n",
    ">>> help(print)\n",
    "Help on built-in function print in module builtins:\n",
    "\n",
    "print(...)\n",
    "    print(value, ..., sep=' ', end='\\n', file=sys.stdout, flush=False)\n",
    "\n",
    "    Prints the values to a stream, or to sys.stdout by default.\n",
    "    Optional keyword arguments:\n",
    "    file:  a file-like object (stream); defaults to the current sys.stdout.\n",
    "    sep:   string inserted between values, default a space.\n",
    "    end:   string appended after the last value, default a newline.\n",
    "    flush: whether to forcibly flush the stream.\n",
    "```\n",
    "\n",
    "</details>"
   ]
  },
  {
   "cell_type": "markdown",
   "id": "9bd07197",
   "metadata": {},
   "source": [
    "#### LGI\n",
    "\n",
    "When Python encounters a variable, it first looks if this variable is `local` to the function.\n",
    "\n",
    "```python\n",
    "def print_it(text:str):\n",
    "    res = text + \"\\n\"\n",
    "    return res\n",
    "```\n",
    "\n",
    "In this example, when the line `res = text + \"\\n\"` will be interpreted, python will try to find the `text` variable. Here `text` is defined in the function so it is a `local` variable.\n",
    "\n",
    "If this variable is not found locally, python will then look for it `globally`.\n",
    "\n",
    "```python\n",
    "lines = []\n",
    "def add_to_lines(text:str):\n",
    "    lines.append(text)\n",
    "```\n",
    "\n",
    "Here when the `lines.append(text)` will be interpreted, the `lines` variable won't be found locally, but is defined before the definition of the function and so is accessible inside the function. `lines` is a defined as a `global` variable in this case.\n",
    "\n",
    "Finally, if a variable is not local nor global, python will search `internally` if it is one of its own variable."
   ]
  },
  {
   "cell_type": "markdown",
   "id": "1b058259",
   "metadata": {},
   "source": [
    "#### Good Naming\n",
    "\n",
    "Imagine that you're reading this line of code :\n",
    "\n",
    "`ts(\"obama\", False, 20, True)`\n",
    "\n",
    "What about this ?\n",
    "\n",
    "```python\n",
    "# we query twitter to get the last 20 tweets of obama without retweets, unicode encoded\n",
    "ts(\"obama\", False, 20, True)\n",
    "```\n",
    "\n",
    "Is the comment really necessary ?"
   ]
  },
  {
   "cell_type": "markdown",
   "id": "c24a6275",
   "metadata": {},
   "source": [
    "How about this ?\n",
    "\n",
    "`twitter_search(username=‘@obama’, retweets=False, numtweets=20, unicode=True)`\n",
    "\n",
    "Much better :-) All we had to do is rename the function and rename + use keywords arguments.\n",
    "\n",
    "Your code shouldn't need comment to explain this kind of behaviour.\n",
    "\n",
    "This kind of code modification is called a `refactoring`."
   ]
  },
  {
   "cell_type": "markdown",
   "id": "201b561b",
   "metadata": {},
   "source": [
    "#### DRY / YAGNI\n",
    "\n",
    "One of the many times those terms will be mentioned in this cours.\n",
    "\n",
    "TODO\n",
    "\n",
    "`DRY` means `Don't Repeat Yourself`. If a logic is coded multiple times, it may be a sign to move it into a function.\n",
    "\n",
    "`YAGNI` means `You Ain't Gonna Need It`."
   ]
  },
  {
   "cell_type": "markdown",
   "id": "6d659b42",
   "metadata": {},
   "source": [
    "#### Built-in functions\n",
    "\n",
    "TODO \n",
    "\n",
    "dir()\n",
    "help()\n",
    "vars()"
   ]
  },
  {
   "cell_type": "markdown",
   "id": "acd7c3e6",
   "metadata": {},
   "source": [
    "### Classes (intro)\n",
    "\n",
    "wait, isn't it only the beginning of the course ? sorry again, we need to address this subject too :)\n",
    "\n",
    "A class is a way to encapsulate data (named `fields` or `attributes`) and functionalities (`methods`).\n",
    "\n",
    "A class is a way to store a state and a behaviour.\n",
    "\n",
    "An object is an instance of a class. For example a `Car` would be a class, and a `peugeot_208` would be an object instance of the `Car` class.\n",
    "\n",
    "The object is responsible for modifying its own internal states, the way an object refers to itself is via the keyword `self`.\n",
    "\n",
    "Objects then interact with each others."
   ]
  },
  {
   "cell_type": "code",
   "execution_count": 81,
   "id": "b49e8b19",
   "metadata": {},
   "outputs": [],
   "source": [
    "class Malware:\n",
    "    def __init__(self, name:str, iocs:list):\n",
    "        # attributes / fields (state, data)\n",
    "        self.name = name\n",
    "        self.iocs = iocs\n",
    "\n",
    "    # method (functionalities, behaviour)\n",
    "    def run(self, host:str):\n",
    "        print(f\"{self.name} is poutring {host} ...\")\n",
    "        pass"
   ]
  },
  {
   "cell_type": "code",
   "execution_count": 82,
   "id": "62b3cfc2",
   "metadata": {},
   "outputs": [
    {
     "name": "stdout",
     "output_type": "stream",
     "text": [
      "emotet is poutring 1.1.1.1 ...\n"
     ]
    }
   ],
   "source": [
    "emotet = Malware('emotet', ['8.8.8.8'])\n",
    "emotet.run('1.1.1.1')"
   ]
  },
  {
   "cell_type": "markdown",
   "id": "f97f91d2",
   "metadata": {},
   "source": [
    "#### Magic methods\n",
    "\n",
    "`__repr__`\n",
    "`__str__`"
   ]
  },
  {
   "cell_type": "code",
   "execution_count": null,
   "id": "c50fa8ba",
   "metadata": {},
   "outputs": [],
   "source": [
    "print(emotet)"
   ]
  },
  {
   "cell_type": "markdown",
   "id": "cdbcaab0",
   "metadata": {},
   "source": [
    "TODO repr explanation"
   ]
  },
  {
   "cell_type": "code",
   "execution_count": 86,
   "id": "2f68338e",
   "metadata": {},
   "outputs": [],
   "source": [
    "class MalwareVerbose:\n",
    "    def __init__(self, name:str, iocs:list):\n",
    "        # attributes / fields (state, data)\n",
    "        self.name = name\n",
    "        self.iocs = iocs\n",
    "\n",
    "    def __repr__(self):\n",
    "        return f\"Malware : {self.name}\"\n",
    "\n",
    "    # method (functionalities, behaviour)\n",
    "    def run(self, host:str):\n",
    "        print(f\"{self.name} is poutring {host} ...\")\n",
    "        pass"
   ]
  },
  {
   "cell_type": "code",
   "execution_count": 87,
   "id": "126251e8",
   "metadata": {},
   "outputs": [
    {
     "name": "stdout",
     "output_type": "stream",
     "text": [
      "Malware : stuxnet\n"
     ]
    }
   ],
   "source": [
    "stuxnet = MalwareVerbose(\"stuxnet\", [])\n",
    "print(stuxnet)"
   ]
  },
  {
   "cell_type": "markdown",
   "id": "d4b7b083",
   "metadata": {},
   "source": [
    "### Printing\n",
    "\n",
    "TODO\n",
    "\n",
    "string interpolation\n",
    "\n",
    "#### f-string\n",
    "\n",
    "TODO\n",
    "TODO limitations\n",
    "TODO nice examples"
   ]
  },
  {
   "cell_type": "markdown",
   "id": "7f8d95c4",
   "metadata": {},
   "source": [
    "### Lists\n",
    "\n",
    "A list is a `sequence object` that stores an ordered sequence of objects, which can be of different types (even lists, yes)."
   ]
  },
  {
   "cell_type": "code",
   "execution_count": 88,
   "id": "94cdf1ce",
   "metadata": {},
   "outputs": [],
   "source": [
    "random_stuff = [\"lion\", 1, False, [\"o\", \"k\"]]"
   ]
  },
  {
   "cell_type": "code",
   "execution_count": 89,
   "id": "fc888787",
   "metadata": {},
   "outputs": [
    {
     "name": "stdout",
     "output_type": "stream",
     "text": [
      "lion\n",
      "['o', 'k']\n"
     ]
    }
   ],
   "source": [
    "print(random_stuff[0])\n",
    "print(random_stuff[3])"
   ]
  },
  {
   "cell_type": "markdown",
   "id": "311fb035",
   "metadata": {},
   "source": [
    "Trying to access an invalid index results in an Exception `IndexError` being raised."
   ]
  },
  {
   "cell_type": "code",
   "execution_count": 90,
   "id": "85e8d7a3",
   "metadata": {},
   "outputs": [
    {
     "ename": "IndexError",
     "evalue": "list index out of range",
     "output_type": "error",
     "traceback": [
      "\u001b[0;31m---------------------------------------------------------------------------\u001b[0m",
      "\u001b[0;31mIndexError\u001b[0m                                Traceback (most recent call last)",
      "\u001b[1;32m/Users/gregou/dev/python_full_course/python_full_course.ipynb Cell 89\u001b[0m in \u001b[0;36m<module>\u001b[0;34m\u001b[0m\n\u001b[0;32m----> <a href='vscode-notebook-cell:/Users/gregou/dev/python_full_course/python_full_course.ipynb#Y250sZmlsZQ%3D%3D?line=0'>1</a>\u001b[0m random_stuff[\u001b[39m4\u001b[39;49m]\n",
      "\u001b[0;31mIndexError\u001b[0m: list index out of range"
     ]
    }
   ],
   "source": [
    "random_stuff[4]"
   ]
  },
  {
   "cell_type": "markdown",
   "id": "d6ce41ab",
   "metadata": {},
   "source": [
    "One of the under-rated feature of python is its negative index !\n",
    "If you want to access the last element of a list without having to calculate its size, use the `-1` index !"
   ]
  },
  {
   "cell_type": "code",
   "execution_count": 92,
   "id": "b26aba31",
   "metadata": {},
   "outputs": [
    {
     "data": {
      "text/plain": [
       "[3, 2, 1]"
      ]
     },
     "execution_count": 92,
     "metadata": {},
     "output_type": "execute_result"
    }
   ],
   "source": [
    "numbers = [1, 2, 3]\n",
    "#    0  1  2   ---> positive index\n",
    "#   -3 -2 -1   ---> negative index\n",
    "\n",
    "numbers[::-1]"
   ]
  },
  {
   "cell_type": "markdown",
   "id": "06243d36",
   "metadata": {},
   "source": [
    "also works for string obviously :\n",
    "\n",
    "```python\n",
    "+---+---+---+---+---+---+\n",
    "| P | y | t | h | o | n |\n",
    "+---+---+---+---+---+---+\n",
    "  0   1   2   3   4   5   6\n",
    " -6  -5  -4  -3  -2  -1\n",
    "```"
   ]
  },
  {
   "cell_type": "markdown",
   "id": "3d9812c8",
   "metadata": {},
   "source": [
    "### Slicing\n",
    "\n",
    "Slicing is used to get a part of a `sequence`. A lot of tricks can be done with slicing.\n",
    "\n",
    "The syntax of a slice is as followed : `[<start_index>:<stop_index>:<step>]`."
   ]
  },
  {
   "cell_type": "code",
   "execution_count": 102,
   "id": "ebeeedee",
   "metadata": {},
   "outputs": [
    {
     "name": "stdout",
     "output_type": "stream",
     "text": [
      "[1, 2, 3]\n"
     ]
    }
   ],
   "source": [
    "numbers = [1, 2, 3, 4]\n",
    "print(numbers[0:3:1])"
   ]
  },
  {
   "cell_type": "code",
   "execution_count": 103,
   "id": "0d8b2113",
   "metadata": {},
   "outputs": [
    {
     "name": "stdout",
     "output_type": "stream",
     "text": [
      "[1, 2, 3, 4]\n",
      "[1, 2, 3, 4, 5]\n"
     ]
    }
   ],
   "source": [
    "# how NOT to copy a list\n",
    "copy_of_numbers = numbers\n",
    "print(copy_of_numbers)\n",
    "numbers.append(5)\n",
    "print(copy_of_numbers)"
   ]
  },
  {
   "cell_type": "markdown",
   "id": "c9c15d77",
   "metadata": {},
   "source": [
    "<details>\n",
    "<summary>QUIZZ : why is this happening ?</summary>\n",
    "\n",
    "TODO\n",
    "\n",
    "- [pythontutor](https://pythontutor.com/render.html#code=numbers%20%3D%20%5B1,%202,%203,%204%5D%0Aprint%28numbers%29%0A%0Anumbers2%20%3D%20numbers%0Anumbers.append%285%29%0Aprint%28numbers2%29%0A%0Acopy_of_numbers%20%3D%20numbers%5B%3A%5D%0Anumbers.append%286%29%0Aprint%28copy_of_numbers%29&cumulative=true&curInstr=7&heapPrimitives=true&mode=display&origin=opt-frontend.js&py=3&rawInputLstJSON=%5B%5D&textReferences=false)\n",
    "\n",
    "</details>"
   ]
  },
  {
   "cell_type": "code",
   "execution_count": 104,
   "id": "e7e72df3",
   "metadata": {},
   "outputs": [
    {
     "name": "stdout",
     "output_type": "stream",
     "text": [
      "[1, 2, 3, 4, 5]\n"
     ]
    }
   ],
   "source": [
    "# how to correctly copy a list\n",
    "copy_of_numbers = numbers[:]\n",
    "numbers.append(6)\n",
    "print(copy_of_numbers)"
   ]
  },
  {
   "cell_type": "code",
   "execution_count": 105,
   "id": "a6a82f47",
   "metadata": {},
   "outputs": [
    {
     "name": "stdout",
     "output_type": "stream",
     "text": [
      "[6, 5, 4, 3, 2, 1]\n"
     ]
    }
   ],
   "source": [
    "reversed_numbers = numbers[::-1]\n",
    "print(reversed_numbers)"
   ]
  },
  {
   "cell_type": "markdown",
   "id": "34a317f8",
   "metadata": {},
   "source": [
    "#### Common list methods\n",
    "\n",
    "we can enumerate all the methods of the `list` object by using the `dir` built-in function."
   ]
  },
  {
   "cell_type": "code",
   "execution_count": 106,
   "id": "909c0487",
   "metadata": {},
   "outputs": [
    {
     "data": {
      "text/plain": [
       "['__add__',\n",
       " '__class__',\n",
       " '__class_getitem__',\n",
       " '__contains__',\n",
       " '__delattr__',\n",
       " '__delitem__',\n",
       " '__dir__',\n",
       " '__doc__',\n",
       " '__eq__',\n",
       " '__format__',\n",
       " '__ge__',\n",
       " '__getattribute__',\n",
       " '__getitem__',\n",
       " '__gt__',\n",
       " '__hash__',\n",
       " '__iadd__',\n",
       " '__imul__',\n",
       " '__init__',\n",
       " '__init_subclass__',\n",
       " '__iter__',\n",
       " '__le__',\n",
       " '__len__',\n",
       " '__lt__',\n",
       " '__mul__',\n",
       " '__ne__',\n",
       " '__new__',\n",
       " '__reduce__',\n",
       " '__reduce_ex__',\n",
       " '__repr__',\n",
       " '__reversed__',\n",
       " '__rmul__',\n",
       " '__setattr__',\n",
       " '__setitem__',\n",
       " '__sizeof__',\n",
       " '__str__',\n",
       " '__subclasshook__',\n",
       " 'append',\n",
       " 'clear',\n",
       " 'copy',\n",
       " 'count',\n",
       " 'extend',\n",
       " 'index',\n",
       " 'insert',\n",
       " 'pop',\n",
       " 'remove',\n",
       " 'reverse',\n",
       " 'sort']"
      ]
     },
     "execution_count": 106,
     "metadata": {},
     "output_type": "execute_result"
    }
   ],
   "source": [
    "dir(list)"
   ]
  },
  {
   "cell_type": "markdown",
   "id": "2887d634",
   "metadata": {},
   "source": [
    "- `.append(<value>)` adds an element at the end of the list\n",
    "- `.pop()` *removes* the last element of the list and returns it\n",
    "- `.remove(<value>)` removes the first occurence of a value (or raises a `ValueError` if the value can't be found)\n",
    "- `.insert(<index>, <value>)` adds an element at the given index\n",
    "- `.index(<value>)` returns the index of the first occurence of a value (or raises a `ValueError` if the value can't be found)\n",
    "- `.sort()` *modify* the list to sort it ascendingly\n",
    "- `.reverse()` *modify* the list to put it in reverse order\n",
    "- `.count(<value>)` returns the number of occurence of a value in the list"
   ]
  },
  {
   "cell_type": "code",
   "execution_count": 108,
   "id": "e69a12c5",
   "metadata": {},
   "outputs": [
    {
     "name": "stdout",
     "output_type": "stream",
     "text": [
      "[1, 2, 3, 4]\n",
      "[1, 2, 3]\n",
      "[2, 3]\n",
      "[1, 2, 3]\n",
      "[1, 2, 3]\n",
      "[3, 2, 1]\n",
      "[1, 2, 3]\n"
     ]
    }
   ],
   "source": [
    "l = [1,2,3]\n",
    "l.append(4)\n",
    "print(l)\n",
    "l.pop()\n",
    "print(l)\n",
    "l.remove(1)\n",
    "print(l)\n",
    "l.insert(0, 1)\n",
    "print(l)\n",
    "l.index(2)\n",
    "l + [0]\n",
    "print(l)\n",
    "l.reverse()\n",
    "print(l)\n",
    "l.count(1)\n",
    "l.sort()\n",
    "print(l)"
   ]
  },
  {
   "cell_type": "markdown",
   "id": "4f63e273",
   "metadata": {},
   "source": [
    "#### `list` built-in function\n",
    "\n",
    "the `list` function converts an object to a list."
   ]
  },
  {
   "cell_type": "code",
   "execution_count": 109,
   "id": "c2f4a0c4",
   "metadata": {},
   "outputs": [
    {
     "name": "stdout",
     "output_type": "stream",
     "text": [
      "['h', 'e', 'l', 'l', 'o']\n"
     ]
    }
   ],
   "source": [
    "msg = \"hello\"\n",
    "l_msg = list(msg)\n",
    "print(l_msg)"
   ]
  },
  {
   "cell_type": "markdown",
   "id": "a8412fc3",
   "metadata": {},
   "source": [
    "#### `in` keyword\n",
    "\n",
    "The `in` keyword has two purposes:\n",
    "1. check if a value is present in a `sequence` (list, range, string etc.), returns a Bool\n",
    "2. iterate through a sequence in a `for` loop"
   ]
  },
  {
   "cell_type": "code",
   "execution_count": null,
   "id": "dbdd6205",
   "metadata": {},
   "outputs": [],
   "source": [
    "l = [1, 2, 3]\n",
    "# checking the presence of a value (present)\n",
    "3 in l"
   ]
  },
  {
   "cell_type": "code",
   "execution_count": null,
   "id": "26cbde68",
   "metadata": {},
   "outputs": [],
   "source": [
    "# checking the presence of a value (absent)\n",
    "55 in l"
   ]
  },
  {
   "cell_type": "code",
   "execution_count": null,
   "id": "ecdaf2ee",
   "metadata": {},
   "outputs": [],
   "source": [
    "for elem in l:\n",
    "    print(elem)"
   ]
  },
  {
   "cell_type": "markdown",
   "id": "57c59b2a",
   "metadata": {},
   "source": [
    "#### `len` built-in function\n",
    "\n",
    "the `len` function returns the length of a `sequence`"
   ]
  },
  {
   "cell_type": "code",
   "execution_count": 110,
   "id": "c12c180e",
   "metadata": {},
   "outputs": [
    {
     "data": {
      "text/plain": [
       "4"
      ]
     },
     "execution_count": 110,
     "metadata": {},
     "output_type": "execute_result"
    }
   ],
   "source": [
    "l = [1,2,3,4]\n",
    "len(l)"
   ]
  },
  {
   "cell_type": "markdown",
   "id": "8c3907a2",
   "metadata": {},
   "source": [
    "#### `del` keyword\n",
    "\n",
    "use the `del` keyword to delete an element with its index"
   ]
  },
  {
   "cell_type": "code",
   "execution_count": 111,
   "id": "1c4bdfe3",
   "metadata": {},
   "outputs": [
    {
     "name": "stdout",
     "output_type": "stream",
     "text": [
      "[1, 3]\n"
     ]
    }
   ],
   "source": [
    "l = [1, 2 ,3]\n",
    "del l[1]\n",
    "print(l)"
   ]
  },
  {
   "cell_type": "code",
   "execution_count": 112,
   "id": "e5079ffd",
   "metadata": {},
   "outputs": [
    {
     "ename": "IndexError",
     "evalue": "list assignment index out of range",
     "output_type": "error",
     "traceback": [
      "\u001b[0;31m---------------------------------------------------------------------------\u001b[0m",
      "\u001b[0;31mIndexError\u001b[0m                                Traceback (most recent call last)",
      "\u001b[1;32m/Users/gregou/dev/python_full_course/python_full_course.ipynb Cell 113\u001b[0m in \u001b[0;36m<module>\u001b[0;34m\u001b[0m\n\u001b[0;32m----> <a href='vscode-notebook-cell:/Users/gregou/dev/python_full_course/python_full_course.ipynb#Y324sZmlsZQ%3D%3D?line=0'>1</a>\u001b[0m \u001b[39mdel\u001b[39;00m l[\u001b[39m49\u001b[39m]\n",
      "\u001b[0;31mIndexError\u001b[0m: list assignment index out of range"
     ]
    }
   ],
   "source": [
    "del l[49]  # deleting an index that does not exist for this list raises an Exception"
   ]
  },
  {
   "cell_type": "markdown",
   "id": "277a518b",
   "metadata": {},
   "source": [
    "### Common built-in functions used with lists\n",
    "\n",
    "- `max(<list>)` returns the maximum value in a list\n",
    "- `min(<list>)` returns the minimum value in a list"
   ]
  },
  {
   "cell_type": "code",
   "execution_count": 116,
   "id": "a8393d00",
   "metadata": {},
   "outputs": [
    {
     "name": "stdout",
     "output_type": "stream",
     "text": [
      "1\n",
      "333333\n"
     ]
    }
   ],
   "source": [
    "l = [1, 22, 333333]\n",
    "print(min(l))\n",
    "print(max(l))"
   ]
  },
  {
   "cell_type": "markdown",
   "id": "50bac446",
   "metadata": {},
   "source": [
    "### Strings\n",
    "\n",
    "a `string` can be seen as a `list` of characters (because it is a `sequence`) ! You can access each of its characters via their index. You can also loop on it."
   ]
  },
  {
   "cell_type": "code",
   "execution_count": null,
   "id": "1e986a89",
   "metadata": {},
   "outputs": [],
   "source": [
    "msg = \"hello\"\n",
    "print(msg[0])"
   ]
  },
  {
   "cell_type": "code",
   "execution_count": 117,
   "id": "43fffae3",
   "metadata": {},
   "outputs": [
    {
     "name": "stdout",
     "output_type": "stream",
     "text": [
      "h\n",
      "e\n",
      "l\n",
      "l\n",
      "o\n"
     ]
    }
   ],
   "source": [
    "for letter in msg:\n",
    "    print(letter)"
   ]
  },
  {
   "cell_type": "markdown",
   "id": "63aef110",
   "metadata": {},
   "source": [
    "Two or more string _literals_ (i.e. the ones enclosed between quotes) next to each other are automatically concatenated."
   ]
  },
  {
   "cell_type": "code",
   "execution_count": null,
   "id": "c509aacd",
   "metadata": {},
   "outputs": [],
   "source": [
    "s = 'Py' 'thon'\n",
    "print(s)"
   ]
  },
  {
   "cell_type": "code",
   "execution_count": null,
   "id": "9b30010c",
   "metadata": {},
   "outputs": [],
   "source": [
    "# This feature is particularly useful when you want to break long strings:\n",
    "text = ('Put several strings within parentheses '\n",
    "        'to have them joined together.')\n",
    "print(text)"
   ]
  },
  {
   "cell_type": "markdown",
   "id": "da736e0f",
   "metadata": {},
   "source": [
    "#### Common string methods\n",
    "\n",
    "- `<string>.join(<list>)` creates a new string with each element of `<list>`, separated by `<string>`\n",
    "- `.upper()` returns the string entirely in ALL CAPS\n",
    "- `.lower()` returns the string entirely in lowercase\n",
    "- `.capitalize()` returns the string with a Uppercase at the beginning\n",
    "- `.split(<separator>)` splits the string using the separator and returns a list of string\n",
    "- `.startswith(<value>)` checks if the string starts with the value\n",
    "- `.endswith(<value>)` checks if the string ends with the value\n",
    "- `.replace(<old>, <new>, [count=-1])` returns a copy of the string where the `<old>` part is replaced by the `<new>` part. By default, `count` is at `-1` meaning that all occurences of `<old>` will be replaced. If you want only the first occurence of `old` to be replaced, then set `count` as `1`\n",
    "- `.find(<sub>)` returns the first index where the `sub` string is found\n",
    "\n",
    "```python\n",
    ">>> s = \".\".join([\"hello\", \"world\"])\n",
    ">>> s\n",
    "\"hello.world\"\n",
    ">>> s = \"hello\"\n",
    ">>> s.upper()\n",
    "\"HELLO\"\n",
    ">>> s.lower()\n",
    "\"hello\"\n",
    ">>> s.capitalize()\n",
    "\"Hello\"\n",
    ">>> sp = \"127.0.0.1\"\n",
    ">>> sp.split(\".\")\n",
    "['127', '0', '0', '1']\n",
    ">>> sp.startswith(\"127\")\n",
    "True\n",
    ">>> sp.endswith(\"8\")\n",
    "False\n",
    ">>> sp.find('0')\n",
    "# string 127.0.0.1\n",
    "# index  012345678\n",
    "4 # index 4 ;)\n",
    "```\n",
    "\n",
    "### Ellipsis\n",
    "\n",
    "`...` in python is called `ellipsis`. It is a string literal.\n",
    "\n",
    "One of its main purpose is placeholding (just like `pass`). For example if you declare a class without attribute (like a custome Exception for example), you can use the `ellipsis` as a placeholder.\n",
    "\n",
    "```python\n",
    "class CustomException:\n",
    "    ...\n",
    "\n",
    "class CustomeException:\n",
    "    pass\n",
    "```\n",
    "\n",
    "But the `no-op` instruction `pass` is prefered and much older than the `ellipsis` so use `pass` instead :)"
   ]
  },
  {
   "cell_type": "markdown",
   "id": "a689ee5b",
   "metadata": {},
   "source": [
    "### For loop"
   ]
  },
  {
   "cell_type": "markdown",
   "id": "b4b1b282",
   "metadata": {},
   "source": [
    "## Tuples\n",
    "\n",
    "`Tuples` are like `lists` but are immutable and are written with parenthesis.\n",
    "\n",
    "```python\n",
    ">>> t = (1, 2, 3)\n",
    ">>> type(t)\n",
    "<class 'tuple'>\n",
    "# if you want to create a tuple of one element, you need to add a comma after the element\n",
    ">>> t = (1,)\n",
    ">>> len(t)\n",
    "1\n",
    "```\n",
    "\n",
    "### Unpacking\n",
    "\n",
    "a `sequence` can be unpacked into variables.\n",
    "\n",
    "Unpacking is powerful tool !\n",
    "\n",
    "```python\n",
    ">>> a, b, c = (1, 2, 3)\n",
    ">>> print(a, b ,c)\n",
    "1 2 3\n",
    "# extended unpacking is defined by an asterisk\n",
    ">>> a, *b, c = (1, 2, 3, 4)\n",
    ">>> print(a, b, c)\n",
    "1 [2, 3] 4\n",
    "# you can also use unpacking to init some variables\n",
    "d, e, f = 4, 5, 6\n",
    "# a neat trick with unpacking is to swap variables (commonly used in math algorithm implementation)\n",
    ">>> d, e = 1, 2\n",
    ">>> e, d = d, e\n",
    ">>> print(d, e)\n",
    "2 1\n",
    "```\n",
    "\n",
    "## Dictionaries / dict\n",
    "\n",
    "A `dict` is a key/value datastructure, created by placing a sequence of elements within curly braces `{}`.\n",
    "\n",
    "Keys of a `dict` needs to be immutable (int, float, string, tuple). But a `dict` is not immutable.\n",
    "\n",
    "You can access an element using square brackets and the key. `[<key>]`\n",
    "\n",
    "When the element is nested, combined multiple square brackets.\n",
    "\n",
    "To add or edit an element, also use square brackets + the `=` assign operator.\n",
    "\n",
    "```python\n",
    ">>> empty_dict = {}\n",
    ">>> d = {\"one\": 1, \"two\": 2}\n",
    ">>> d[\"one\"]\n",
    "1\n",
    ">>> d[\"three\"] = 3\n",
    ">>> print(d)\n",
    "{'one': 1, 'two': 2, 'three': 3}\n",
    ">>> d[\"four\"] = [\"rowenta\", \"bosch\"]\n",
    ">>> print(d[\"four\"][0])\n",
    "\"rowenta\"\n",
    ">>> d[\"unknown\"] # accessing an unknown key raises a KeyError exception\n",
    "KeyError: 'ok'\n",
    "# in most cases, you should use the `.get()` method rather accessing directly via []\n",
    "```\n",
    "\n",
    "### Common dict methods\n",
    "\n",
    "- `.keys()` returns a list of all the keys\n",
    "- `.values()` returns a list of all the values\n",
    "- `.items()` returns a list of tuples which are the couples <key>, <value>\n",
    "- `.get(<key>, [default])` returns an element for a key, if the key does not exist, `None` is returned, except if a `default` is provided\n",
    "- `.setdefault(<key>, <value>)` set a default value for a key if it's not already set\n",
    "- `.update({\"four\":4})` merges two dictionaries\n",
    "\n",
    "```python\n",
    ">>> d = {\"one\": 1, \"two\": 2}\n",
    ">>> d.keys()\n",
    "dict_keys(['one', 'two'])\n",
    ">>> d.values()\n",
    "dict_values([1, 2])\n",
    ">>> d.items()\n",
    "dict_items([('one', 1), ('two', 2)])\n",
    ">>> d.get(\"one\")\n",
    "1\n",
    ">>> d.get(\"three\")\n",
    "None\n",
    ">>> d.get(\"three\", \"default data 3\")\n",
    "\"default data 3\"\n",
    ">>> d.setdefault(\"three\", 3) # \"three\" key is not configured, so the default value is set\n",
    ">>> d[\"three\"]\n",
    "3\n",
    ">>> d.setdefault(\"three\", \"default 3\") # \"three\" key is already configured\n",
    ">>> d[\"three\"]\n",
    "3\n",
    ">>> d.update({\"four\":4})\n",
    ">>> d\n",
    "{'one': 1, 'two': 2, 'three': 3, 'four': 4}\n",
    "```\n",
    "\n",
    "### `in` keyword\n",
    "\n",
    "the `in` keyword can be used to check if an element is a key of a dict.\n",
    "\n",
    "```python\n",
    ">>> d = {\"one\": 1, \"two\": 2}\n",
    ">>> \"one\" in d # is equivalent to \"one\" in d.keys()\n",
    "True\n",
    "```\n",
    "\n",
    "### `del` keyword\n",
    "\n",
    "you can use the `del` keyword to delete a key in a dict.\n",
    "\n",
    "trying to delete a key that doesn't exist raises a `KeyError` exception.\n",
    "\n",
    "```python\n",
    ">>> d = {\"one\": 1, \"two\": 2}\n",
    ">>> del d[\"one\"]\n",
    ">>> d\n",
    "{'two': 2}\n",
    ">>> del d[\"one\"]\n",
    "KeyError: 'one'\n",
    "```\n",
    "\n",
    "### unpacking (again!)\n",
    "\n",
    "Since python 3.5, you can now unpack elements in a dict, resulting in a `merge` or an `addition` !\n",
    "\n",
    "```python\n",
    ">>> d = {'a': 1, **{'b': 2}} # addition because the key 'b' is not set\n",
    ">>> print(d)\n",
    "{'a': 1, 'b': 2}\n",
    ">>> d = {'a': 1, **{'a': 2}} # merge because the key 'a' is already defined so its overwritten\n",
    ">>> print(d)\n",
    "{'a': 2}\n",
    "```\n",
    "\n",
    "## sets\n",
    "\n",
    "a `set` is a collection of *unique* elements. You can add multiple times the same element, but there will be only one occurence of this element in the set.\n",
    "\n",
    "a `set` can be instancied with the function `set` or with curly braces (like a dict) `{}`.\n",
    "\n",
    "a `set` can contain only immutable elements (strings, tuples, ints...) (like the keys of a dict).\n",
    "\n",
    "```python\n",
    ">>> empty_set = set()\n",
    ">>> s = {1,2,3,4}\n",
    ">>> s.add(1) # here we try to add 1 to the set\n",
    ">>> print(s)\n",
    "{1, 2, 3, 4} # as we can see, 1 was already in the set so the addition didn't do anything\n",
    "```\n",
    "\n",
    "Like a mathematical `set`, we can do mathematical operations such as intersection `&`, union `|`, difference `-` ...\n",
    "\n",
    "```python\n",
    ">>> s1 = {1,2,3,4}\n",
    ">>> s2 = {2,3}\n",
    ">>> s1 & s2 # intersection\n",
    "{2, 3}\n",
    ">>> s3 = {5,6}\n",
    ">>> s1 | s3 # union\n",
    "{1, 2, 3, 4, 5, 6}\n",
    ">>> s1 - s2 # difference\n",
    "{1, 4}\n",
    "```\n",
    "### `in` keyword\n",
    "\n",
    "the `in` keyword can be used to check if an element exists in a `set`, and to iterate.\n",
    "\n",
    "```python\n",
    ">>> s1 = {1,2,3,4}\n",
    ">>> 1 in s1\n",
    "True\n",
    ">>> 5 in s1\n",
    "False\n",
    ">>> for i in s1: # iterating\n",
    "...     print(i)\n",
    "...\n",
    "1\n",
    "2\n",
    "3\n",
    "4\n",
    "```\n",
    "\n",
    "## pointers, pass-by-value, pass-by-reference\n",
    "\n",
    "We **need** to talk about how python variables are passed between functions etc...\n",
    "\n",
    "**Python is \"pass-by-object-reference\"**\n",
    "\n",
    "This is equivalent to “object references are passed by value\".\n",
    "\n",
    "The variable is not the object.\n",
    "\n",
    "Let's dig deeper. Take a look at the following examples and try to guess the answer :\n",
    "\n",
    "```python\n",
    ">>> a = [1,2,3]\n",
    ">>> b = [1,2,3]\n",
    ">>> a == b # ? True or False ?\n",
    "True\n",
    "# remember that the `==` operator check that both sides have the same *values*\n",
    ">>> a is b # ? True of False ?\n",
    "False\n",
    "# remember, the `is` keywork check if both sides are the same *objects* (if they have the same address)\n",
    "# we can verify this claim by using the `id` function\n",
    ">>> id(a) ; id(b)\n",
    "4419606336\n",
    "4419608320\n",
    "# we can see that `a` and `b` don't have the same address\n",
    "```\n",
    "\n",
    "now what about this example :\n",
    "\n",
    "```python\n",
    ">>> a = [1,2,3]\n",
    ">>> b = a\n",
    ">>> a == b # ? True or False ?\n",
    "True\n",
    ">>> a is b # ? True or False ?\n",
    "True\n",
    ">>> id(a) ; id(b)\n",
    "4419606336\n",
    "4419606336\n",
    "```\n",
    "\n",
    "but what if we want `b` to be a copy of `a` and not a `reference` to it ? ;-)\n",
    "\n",
    "we can use the `.copy()` method (or use a trick with slicing)\n",
    "\n",
    "```python\n",
    ">>> a = [1,2,3]\n",
    ">>> b = a.copy()\n",
    ">>> a is b\n",
    "False\n",
    ">>> b = a[:] # remember, in slicing, the `[:]` is equal to [0 : len(<elem>)-1 : 1]\n",
    "```\n",
    "\n",
    "but be careful, with a \"simple\" `copy` like this, we don't clone the elements in the list, we just make new pointers to them.\n",
    "\n",
    "if you modify the new list, elements in the old list will be affected too ! this is called a `shallow copy`.\n",
    "\n",
    "```python\n",
    ">>> a = [[1,2,3],[4,5,6],[7,8,9]]\n",
    ">>> b = a.copy()\n",
    ">>> b\n",
    "[[1, 2, 3], [4, 5, 6], [7, 8, 9]]\n",
    ">>> b[0][0] = \"RIP\"\n",
    ">>> a\n",
    "[['RIP', 2, 3], [4, 5, 6], [7, 8, 9]]\n",
    ">>> b\n",
    "[['RIP', 2, 3], [4, 5, 6], [7, 8, 9]]\n",
    "```\n",
    "\n",
    "if we really want to clone the entire list, we must create a `deep copy` with the `copy` module and its function `deepcopy()` :\n",
    "\n",
    "```python\n",
    ">>> import copy\n",
    ">>> a = [[1,2,3],[4,5,6],[7,8,9]]\n",
    ">>> b = copy.deepcopy(a)\n",
    ">>> b[0][0] = \"RIP\"\n",
    ">>> a\n",
    "[[1, 2, 3], [4, 5, 6], [7, 8, 9]]\n",
    ">>> b\n",
    "[['RIP', 2, 3], [4, 5, 6], [7, 8, 9]]\n",
    "# yay !\n",
    "```\n",
    "\n",
    "but what does it all mean ? well, you must remember that when you pass a `list` to a `function`, you pass the `address` of this list, so it can be modified by the `function`. And sometimes you don't want that.\n",
    "\n",
    "Here's an example :\n",
    "\n",
    "```python\n",
    "def reassign(l):\n",
    "  l = [0, 1]\n",
    "\n",
    ">>> l = [1,2,3]\n",
    ">>> reassign(l) # here we pass the `l` variable to the function `reassign`\n",
    "# what's the value of `l` now ?\n",
    "# 1: [0, 1]\n",
    "# 2: [1,2,3]\n",
    ">>> l\n",
    "[1, 2, 3] # answer 2 !\n",
    "# yes we pass the list `l` by reference, but we reassign the local variable to something else\n",
    "```\n",
    "\n",
    "the previous example can be confusing because the `local variable` of the `function` has the same name as the the other variable (`l`).\n",
    "\n",
    "we can rewrite it for more clarity :\n",
    "\n",
    "```python\n",
    "def reassign(local_l):\n",
    "  local_l = [0, 1]\n",
    "\n",
    ">>> l = [1,2,3]\n",
    ">>> reassign(l)\n",
    "```\n",
    "\n",
    "BUT when you don't know how python works, you can think that this list will not be modified simply because it doesn't have the same name (not true !)\n",
    "\n",
    "so here's the final ~straw~ example :-)\n",
    "\n",
    "```python\n",
    "def do_smth(local_l):\n",
    "  local_l.append(4)\n",
    "\n",
    ">>> l = [1,2,3]\n",
    ">>> do_smth(l) # here we pass the `l` variable to the function `do_smth`\n",
    ">>> print(l)\n",
    "# what's the value of `l` now ?\n",
    "# answer 1. [1, 2, 3, 4]\n",
    "# answer 2. [1, 2, 3]\n",
    "[1, 2, 3, 4]\n",
    "```\n",
    "- you choosed answer 2, well done !\n",
    "- answer 1, yikes ! please read this chapter again :) (or drop an email)\n",
    "\n",
    "source :\n",
    "- https://robertheaton.com/2014/02/09/pythons-pass-by-object-reference-as-explained-by-philip-k-dick/\n",
    "\n",
    "## `range` built-in function\n",
    "\n",
    "`range` is a powerful function, which can be used in various ways :\n",
    "\n",
    "- generate a sequence of numbers from 0 to `<stop>-1` with `range(<stop>)`\n",
    "- generate a sequence of numbers from `<start>` to `<stop>` (with an optional `<step>`) with `range(<start>, <stop>, [step])`\n",
    "\n",
    "```python\n",
    ">>> list(range(0, 5)) # will generate a list of numbers from 0 to 4 (5-1)\n",
    "[0, 1, 2, 3, 4]\n",
    ">>> list(range(5, 10, 2)) # will generate a list of numbers from 5 to 9 (10-1) 2-by-2\n",
    "[5, 7, 9]\n",
    "```\n",
    "\n",
    "(Want to see its source code ? <https://github.com/python/cpython/blob/5fcfdd87c9b5066a581d3ccb4b2fede938f343ec/Objects/rangeobject.c#L76>)\n",
    "\n",
    "## conditions\n",
    "\n",
    "TODO\n",
    "If / elif / else\n",
    "break\n",
    "continue\n",
    "\n",
    "\n",
    "## loops\n",
    "\n",
    "TODO ok\n",
    "\n",
    "For\n",
    "    la clause else # equivalent to a `if no break`\n",
    "    Si objet séquentiel\n",
    "    Si vous utilisez les index, cest que vous le faites surement pas bien\n",
    "    range function\n",
    "    enumerate function\n",
    "While\n",
    "\n",
    "exercice : create a program which takes in input a number of lines, and print a this \"graph\".\n",
    "\n",
    "```python\n",
    "# example of a pyramid of 4 lines\n",
    "*******\n",
    "*****\n",
    "***\n",
    "*\n",
    "```\n",
    "\n",
    "\n",
    "### dict\n",
    "\n",
    "loop over keys\n",
    "```python\n",
    "for key in d:\n",
    "       print(key)\n",
    "```\n",
    "\n",
    "loop over key and value\n",
    "```python\n",
    "for k, v in d.items():\n",
    "    print(f\"{k} --> {v}\")\n",
    "```\n",
    "\n",
    "cornercase avec cette façon de faire ?\n",
    "On ne peut pas muter un dict lorsque l’on itère dessus\n",
    "\n",
    "```python\n",
    "d = {\"ok\": 0, \"nok\": -1}\n",
    "for k in d:\n",
    "    if k == \"ok\":\n",
    "        del d[k]\n",
    "```\n",
    "\n",
    "préférer :\n",
    "\n",
    "```python\n",
    "d = {\"ok\": 0, \"nok\": -1}\n",
    "for k in d.keys():\n",
    "    if k == 'ok':\n",
    "        del d[k]\n",
    "```\n",
    "\n",
    "## functions (again!)\n",
    "\n",
    "### `*args` and `**kwargs`\n",
    "\n",
    "When a final formal parameter of the form `**name` is present, it receives a dictionary (see Mapping Types — dict) containing all keyword arguments except for those corresponding to a formal parameter. This may be combined with a formal parameter of the form *name (described in the next subsection) which receives a tuple containing the positional arguments beyond the formal parameter list. (`*name` must occur before `**name`.) For example, if we define a function like this:\n",
    "\n",
    "```python\n",
    "def foo(bar, *args, **kwargs):\n",
    "    print(bar)\n",
    "    print(\"-\" * 20)\n",
    "    for arg in args:\n",
    "        print(f\"arg : {arg}\")\n",
    "    print(\"-\" * 20)\n",
    "    for k in kwargs:\n",
    "        print(f\"kwarg: {k} => {kwargs[k]}\")\n",
    "```\n",
    "\n",
    "It could be called like this:\n",
    "\n",
    "```python\n",
    "foo(\"a\", \"b\", \"c\", k1=\"v1\", k2=\"v2\")\n",
    "```\n",
    "\n",
    "and of course it would print:\n",
    "\n",
    "```\n",
    "a\n",
    "--------------------\n",
    "arg : b\n",
    "arg : c\n",
    "--------------------\n",
    "kwarg: k1 => v1\n",
    "kwarg: k2 => v2\n",
    "```\n",
    "\n",
    "### type annotation\n",
    "\n",
    "Function annotations are completely optional metadata information about the types used by user-defined functions.\n",
    "\n",
    "Annotations are stored in the **annotations** attribute of the function as a dictionary and have no effect on any other part of the function.\n",
    "\n",
    "```python\n",
    "def foo(bar: str) -> str:\n",
    "    print(bar)\n",
    "    return \"ok\"\n",
    "```\n",
    "\n",
    "## comprehension\n",
    "\n",
    "TODO\n",
    "dict `{k:k**2 for k in range(10)}`\n",
    "\n",
    "```\n",
    "[i for i in range(10)]\n",
    "[i for i in range(1, 20) if i % 2 == 0]\n",
    "L = []\n",
    "\n",
    "```\n",
    "\n",
    "## modules/packages/libraries\n",
    "\n",
    "TODO\n",
    "\n",
    "    __name__ == \"__main__\"\n",
    "\n",
    "## file handling\n",
    "\n",
    "TODO\n",
    "\n",
    "## Bonnes pratiques\n",
    "\n",
    "TODO\n",
    "\n",
    "### PEP8\n",
    "\n",
    "### Google styling guide\n",
    "\n",
    "- [Google Python Styling Guide](https://google.github.io/styleguide/pyguide.html)\n",
    "\n",
    "### Documentation\n",
    "\n",
    "TODO\n",
    "peut etre merge avec commentaires ? pour parler doctstring etc ?\n",
    "\n",
    "### DRY\n",
    "\n",
    "### YAGNI\n",
    "\n",
    "# Advanced\n",
    "\n",
    "## protocol\n",
    "\n",
    "TODO\n",
    "\n",
    "In Python a protocol is an informal interface. Protocols are either known as an accepted truth or defined in documentation and not strictly in code1. For example, any class that implements the `__container__()` special method is said to follow the \"container protocol.\" While this is an accepted truth, there is no syntax in the Python language that declares a class as following a protocol. Python classes can also implement multiple protocols.\n",
    "\n",
    "## decorators\n",
    "\n",
    "TODO\n",
    "\n",
    "## iterators\n",
    "\n",
    "TODO\n",
    "\n",
    "## context manager\n",
    "\n",
    "TODO\n",
    "\n",
    "## exceptions - try/except\n",
    "\n",
    "Analogy : Imagine that you order something on the web, and during the delivery you're not at home. `Error handling` in this context means that the delivery company should be able to deliver your package another time/place so you can have it.\n",
    "\n",
    "TODO\n",
    "\n",
    "## generators\n",
    "\n",
    "TODO\n",
    "\n",
    "## OOP\n",
    "\n",
    "TODO\n",
    "\n",
    "## functional\n",
    "\n",
    "TODO\n",
    "\n",
    "## Design patterns\n",
    "\n",
    "TODO\n",
    "\n",
    "> a design pattern is a general repeatable solution to a commonly occurring problem in software design. A design pattern isn't a finished design that can be transformed directly into code. It is a description or template for how to solve a problem that can be used in many different situations.\n",
    "\n",
    "- <https://python-patterns.guide/>\n",
    "- <https://github.com/faif/python-patterns>\n",
    "\n",
    "## Threading\n",
    "\n",
    "TODO\n",
    "\n",
    "GIL\n",
    "\n",
    "## Testing\n",
    "\n",
    "TODO\n",
    "\n",
    "## env\n",
    "\n",
    "TODO\n",
    "\n",
    "## RESTE A FAIRE\n",
    "\n",
    "affichage\n",
    "    print\n",
    "        signature d'une fonction\n",
    "        help() function\n",
    "        `__dir__` method\n",
    "    fstring\n",
    "\n",
    "conditions\n",
    "    if /elif / else\n",
    "    ==\n",
    "    !=\n",
    "    >\n",
    "    >=\n",
    "    <\n",
    "    <=\n",
    "    continue\n",
    "        saute à l’itération suivante\n",
    "    break\n",
    "        stoppe la boucle\n",
    "\n",
    "    exercice :\n",
    "        jours = [\"lundi\", \"mardi\", \"mercredi\", \"jeudi\", \"vendredi\", \"samedi\", \"dimanche\"]\n",
    "            de lundi a jeudi : travail\n",
    "            vendredi : soon le w-e\n",
    "            samedi dimanche : BBQ\n",
    "\n",
    "boucle\n",
    "    si vous utilisez des index, cest que vous le faites probablement pas bien\n",
    "    for\n",
    "        for i in range(len(colors)):\n",
    "            print(colors[i])\n",
    "\n",
    "        for i in range(len(colors)-1, -1, -1)\n",
    "            print(colors[i])\n",
    "\n",
    "        enumerate + for/else\n",
    "\n",
    "            def find(seq, target):\n",
    "                found = False\n",
    "                for i, value in enumerate(seq):\n",
    "                    if value == target:\n",
    "                        found = True\n",
    "                        break\n",
    "                if not found:\n",
    "                    return -1\n",
    "                return i\n",
    "\n",
    "            def find(seq, target):\n",
    "                for i, value in enumerate(seq):\n",
    "                    if value == seq:\n",
    "                        break\n",
    "                else:\n",
    "                    return -1\n",
    "                return i\n",
    "        zip\n",
    "            2 listes\n",
    "\n",
    "        for n in range(2, 10):\n",
    "            for x in range(2, n):\n",
    "                if n % x == 0:\n",
    "                    print(n, 'equals', x, '*', n//x)\n",
    "                    break\n",
    "            else:\n",
    "                # loop fell through without finding a factor\n",
    "                print(n, 'is a prime number')\n",
    "\n",
    "    valeur sentinel\n",
    "\n",
    "        from functools import partial\n",
    "        from random import randint\n",
    "\n",
    "        pull_trigger = partial(randint, 1, 6)\n",
    "\n",
    "        print('Starting a game of Russian Roulette...')\n",
    "        print('--------------------------------------')\n",
    "\n",
    "        for i in iter(pull_trigger, 6): #iter prend en argument une fonction ne renvo\n",
    "            print('I am still alive, selected', i)\n",
    "        print('Oops, game over, I am dead! :(')\n",
    "\n",
    "        #partial() est utilisé pour une application de fonction partielle\n",
    "        qui \"gèle\" une portion des arguments et/ou mots-clés d'une fonction\n",
    "        donnant un nouvel objet avec une signature simplifiée.\n",
    "\n",
    "    while\n",
    "    range\n",
    "    iter\n",
    "\n",
    "dir()\n",
    "help() - how to use it + how does it work (docstrings)\n",
    "sorted() - sorted(, key)\n",
    "\n",
    "fonction (vs procedure)\n",
    "    signature\n",
    "    portée\n",
    "        LGI\n",
    "    anonyme\n",
    "    DRY\n",
    "    passage d'arguments\n",
    "    renvoi de résultats\n",
    "    arguments positionnels vs. arguments par mots clés\n",
    "        twitter_search(\"@obama\", False, 20, True)\n",
    "        twitter_search(\"@obama\", retweets=False, numtweets=20, popular=True)\n",
    "\n",
    "tuples\n",
    "    NamedTuples (subclass of tuple)\n",
    "    unpacking :\n",
    "        p = 'pommes', 30, 1\n",
    "        produit, quantite, prix = p\n",
    "\n",
    "dictionnaires\n",
    "    fundamental\n",
    "    relationships, linking, counting, grouping\n",
    "\n",
    "    for k in d:\n",
    "        print(k)\n",
    "\n",
    "    cant mutate a dict while youre iterating over it\n",
    "\n",
    "    for k in d.keys():\n",
    "        if k.startswith('non'):\n",
    "            del d[k]\n",
    "\n",
    "    for k in d: #non\n",
    "        print(f\"{k} --> {d[k]}\")\n",
    "\n",
    "    for k, v in d.items():\n",
    "        print(f\"{k} --> {v}\")\n",
    "\n",
    "    colors = [\"red\", \"green\"]\n",
    "    d = {}\n",
    "    for color in colors:\n",
    "        if color not in d: #raise an error but its a not so no problem\n",
    "            d[color] = 0\n",
    "        d[color] += 1\n",
    "\n",
    "    d = {}\n",
    "    for color in colors:\n",
    "        d[color] = d.get(color, 0) + 1\n",
    "\n",
    "    defaultdict # too advanded but it exists ;)\n",
    "\n",
    "    grouping :\n",
    "        d = {}\n",
    "        for name in names:\n",
    "            key = len(name)\n",
    "            d.setdefault(key, []).append(name)\n",
    "\n",
    "        d = defaultdict(list)\n",
    "        for name in names:\n",
    "            key = len(name)\n",
    "            d[key].append(name)\n",
    "\n",
    "    linking :\n",
    "        collections.ChainMap\n",
    "\n",
    "fichier\n",
    "binaire\n",
    "modules / package\n",
    "    docstring\n",
    "\n",
    "iterators\n",
    "\n",
    "context manager\n",
    "    with\n",
    "\n",
    "    try: #wrong way to do it\n",
    "        os.remove('somefile.tmp')\n",
    "    except OSError:\n",
    "        pass\n",
    "\n",
    "    from contextlib import suppress\n",
    "    with suppress(FileNotFoundError):\n",
    "        os.remove('somefile.tmp')\n",
    "\n",
    "    from contextlib import contextmanager\n",
    "\n",
    "    @contextmanager\n",
    "    def open_db(filename: str):\n",
    "        try:\n",
    "            con = sqlite3.connect(filename)\n",
    "            yield con\n",
    "        except sqlite3.DatabaseError as err:\n",
    "            logger.error(err    )\n",
    "        finally:\n",
    "            con.close()\n",
    "\n",
    "one liner : 1 ligne de code = 1 phrase en francais\n",
    "\n",
    "bonnes pratiques\n",
    "    pep8 (syntaxe)\n",
    "    pep257\n",
    "    pep20\n",
    "\n",
    "python : everything is an object\n",
    "\n",
    "decorateurs\n",
    "try except\n",
    "comprehension\n",
    "generateurs\n",
    "magic methods\n",
    "\n",
    "DRY\n",
    "YAGNI\n",
    "\n",
    "classes\n",
    "interfaces\n",
    "conventions (snake case, globals in all-caps)\n",
    "    \"pythonic\" code\n",
    "    https://www.python.org/dev/peps/pep-0008/\n",
    "    https://google.github.io/styleguide/pyguide.html\n",
    "\n",
    "\n",
    "Voici quelques conseils pour vous aider à concevoir un script Python.\n",
    "- Réfléchissez avec un papier, un crayon... et un cerveau (voire même plusieurs) ! Reformulez avec des mots en français (ou en anglais) les consignes qui vous ont été données ou le cahier des charges qui vous a été communiqué. Dessinez ou construisez des schémas si cela vous aide.\n",
    "- Découpez en fonctions chaque élément de votre programme. Vous pourrez ainsi tester chaque élément indépendamment du reste. Pensez à écrire les docstrings en même temps que vous écrivez vos fonctions.\n",
    "- Quand l’algorithme estc omplexe, commentez votre code pour expliquer votre raisonnement. Utiliser des fonctions(ou méthodes) encore plus petites peut aussi être une solution.\n",
    "- Documentez-vous. L’algorithme dont vous avez besoin existe-t-il déjà dans un autre module ? Existe-t-il sous la forme de pseudo-code ? De quels outils mathématiques avez-vous besoin dans votre algorithme ?\n",
    "- Si vous créez ou manipulez une entité cohérente avec des propriétés propres, essayez de construire une classe.\n",
    "- Utilisez des noms de variables explicites, qui signifient quelquechose. En lisant votre code, on doit comprendre ce que vous faites. Choisir des noms de variables pertinents permet aussi de réduire les commentaires.\n",
    "- Quand vous construisez une structure de données complexe (par exemple une liste de dictionnaires contenant d’autres objets), documentez et illustrez l’organisation de cette structure de données sur un exemple simple.\n",
    "- Testez toujours votre code sur un jeu de données simple pour pouvoir comprendre rapidement ce qui se passe. Par exemple, une séquence de 1000 bases est plus facile à gérer que le génome humain ! Cela vous permettra également de retrouver plus facilement une erreur lorsque votre programme ne fait pas ce que vous souhaitez.\n",
    "- Lorsque votre programme « plante », lisez le message d’erreur. Python tente de vous expliquer ce qui ne va pas. Le numéro de la ligne qui pose problème est aussi indiqué.\n",
    "- Discutez avec des gens. Faites tester votre programme par d’autres. Les instructions d’utilisation sont-elles claires ?\n",
    "- Si vous distribuez votre code :\n",
    "- Rédigez une documentation claire.\n",
    "- Testez votre programme (jetez un œil aux tests unitaires 10).\n",
    "- Précisez une licence d’utilisation. Voir par exemple le site Choose an open source license"
   ]
  },
  {
   "cell_type": "code",
   "execution_count": null,
   "id": "a86ef70f",
   "metadata": {},
   "outputs": [],
   "source": []
  },
  {
   "cell_type": "code",
   "execution_count": null,
   "id": "8afd30ef",
   "metadata": {},
   "outputs": [],
   "source": []
  }
 ],
 "metadata": {
  "kernelspec": {
   "display_name": "Python 3.9.7 64-bit ('venv': venv)",
   "language": "python",
   "name": "python3"
  },
  "language_info": {
   "codemirror_mode": {
    "name": "ipython",
    "version": 3
   },
   "file_extension": ".py",
   "mimetype": "text/x-python",
   "name": "python",
   "nbconvert_exporter": "python",
   "pygments_lexer": "ipython3",
   "version": "3.9.14"
  },
  "vscode": {
   "interpreter": {
    "hash": "c90214440ebb7ee582a32eef9022001ebd886346e69b4ee912b4b3eb0ee8bd21"
   }
  }
 },
 "nbformat": 4,
 "nbformat_minor": 5
}
